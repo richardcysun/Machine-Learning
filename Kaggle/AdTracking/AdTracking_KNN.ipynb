{
 "cells": [
  {
   "cell_type": "code",
   "execution_count": 29,
   "metadata": {},
   "outputs": [
    {
     "name": "stdout",
     "output_type": "stream",
     "text": [
      "<class 'pandas.core.frame.DataFrame'>\n",
      "RangeIndex: 5000000 entries, 0 to 4999999\n",
      "Data columns (total 8 columns):\n",
      "ip                 int64\n",
      "app                int64\n",
      "device             int64\n",
      "os                 int64\n",
      "channel            int64\n",
      "click_time         object\n",
      "attributed_time    object\n",
      "is_attributed      int64\n",
      "dtypes: int64(6), object(2)\n",
      "memory usage: 305.2+ MB\n"
     ]
    },
    {
     "data": {
      "text/html": [
       "<div>\n",
       "<style>\n",
       "    .dataframe thead tr:only-child th {\n",
       "        text-align: right;\n",
       "    }\n",
       "\n",
       "    .dataframe thead th {\n",
       "        text-align: left;\n",
       "    }\n",
       "\n",
       "    .dataframe tbody tr th {\n",
       "        vertical-align: top;\n",
       "    }\n",
       "</style>\n",
       "<table border=\"1\" class=\"dataframe\">\n",
       "  <thead>\n",
       "    <tr style=\"text-align: right;\">\n",
       "      <th></th>\n",
       "      <th>ip</th>\n",
       "      <th>app</th>\n",
       "      <th>device</th>\n",
       "      <th>os</th>\n",
       "      <th>channel</th>\n",
       "      <th>click_time</th>\n",
       "      <th>attributed_time</th>\n",
       "      <th>is_attributed</th>\n",
       "    </tr>\n",
       "  </thead>\n",
       "  <tbody>\n",
       "    <tr>\n",
       "      <th>0</th>\n",
       "      <td>83230</td>\n",
       "      <td>3</td>\n",
       "      <td>1</td>\n",
       "      <td>13</td>\n",
       "      <td>379</td>\n",
       "      <td>2017-11-06 14:32:21</td>\n",
       "      <td>NaN</td>\n",
       "      <td>0</td>\n",
       "    </tr>\n",
       "    <tr>\n",
       "      <th>1</th>\n",
       "      <td>17357</td>\n",
       "      <td>3</td>\n",
       "      <td>1</td>\n",
       "      <td>19</td>\n",
       "      <td>379</td>\n",
       "      <td>2017-11-06 14:33:34</td>\n",
       "      <td>NaN</td>\n",
       "      <td>0</td>\n",
       "    </tr>\n",
       "    <tr>\n",
       "      <th>2</th>\n",
       "      <td>35810</td>\n",
       "      <td>3</td>\n",
       "      <td>1</td>\n",
       "      <td>13</td>\n",
       "      <td>379</td>\n",
       "      <td>2017-11-06 14:34:12</td>\n",
       "      <td>NaN</td>\n",
       "      <td>0</td>\n",
       "    </tr>\n",
       "    <tr>\n",
       "      <th>3</th>\n",
       "      <td>45745</td>\n",
       "      <td>14</td>\n",
       "      <td>1</td>\n",
       "      <td>13</td>\n",
       "      <td>478</td>\n",
       "      <td>2017-11-06 14:34:52</td>\n",
       "      <td>NaN</td>\n",
       "      <td>0</td>\n",
       "    </tr>\n",
       "    <tr>\n",
       "      <th>4</th>\n",
       "      <td>161007</td>\n",
       "      <td>3</td>\n",
       "      <td>1</td>\n",
       "      <td>13</td>\n",
       "      <td>379</td>\n",
       "      <td>2017-11-06 14:35:08</td>\n",
       "      <td>NaN</td>\n",
       "      <td>0</td>\n",
       "    </tr>\n",
       "  </tbody>\n",
       "</table>\n",
       "</div>"
      ],
      "text/plain": [
       "       ip  app  device  os  channel           click_time attributed_time  \\\n",
       "0   83230    3       1  13      379  2017-11-06 14:32:21             NaN   \n",
       "1   17357    3       1  19      379  2017-11-06 14:33:34             NaN   \n",
       "2   35810    3       1  13      379  2017-11-06 14:34:12             NaN   \n",
       "3   45745   14       1  13      478  2017-11-06 14:34:52             NaN   \n",
       "4  161007    3       1  13      379  2017-11-06 14:35:08             NaN   \n",
       "\n",
       "   is_attributed  \n",
       "0              0  \n",
       "1              0  \n",
       "2              0  \n",
       "3              0  \n",
       "4              0  "
      ]
     },
     "execution_count": 29,
     "metadata": {},
     "output_type": "execute_result"
    }
   ],
   "source": [
    "import pandas as pd\n",
    "import numpy as np\n",
    "\n",
    "%matplotlib inline\n",
    "#panda is a read/write tool\n",
    "\n",
    "train_file = \"c:\\\\kaggle\\\\adtracking\\\\train_5m_0.csv\"\n",
    "adData = pd.read_csv(train_file, header = 0)\n",
    "\n",
    "adData.info()\n",
    "adData.head()"
   ]
  },
  {
   "cell_type": "code",
   "execution_count": 40,
   "metadata": {
    "collapsed": true
   },
   "outputs": [],
   "source": [
    "adData['ip'] = adData['ip'].astype('category')\n",
    "adData['app'] = adData['app'].astype('category')\n",
    "adData['device'] = adData['device'].astype('category')\n",
    "adData['os'] = adData['os'].astype('category')\n",
    "adData['channel'] = adData['channel'].astype('category')\n",
    "adData['is_attributed'] = adData['is_attributed'].astype('category')"
   ]
  },
  {
   "cell_type": "code",
   "execution_count": 41,
   "metadata": {},
   "outputs": [
    {
     "data": {
      "text/html": [
       "<div>\n",
       "<style>\n",
       "    .dataframe thead tr:only-child th {\n",
       "        text-align: right;\n",
       "    }\n",
       "\n",
       "    .dataframe thead th {\n",
       "        text-align: left;\n",
       "    }\n",
       "\n",
       "    .dataframe tbody tr th {\n",
       "        vertical-align: top;\n",
       "    }\n",
       "</style>\n",
       "<table border=\"1\" class=\"dataframe\">\n",
       "  <thead>\n",
       "    <tr style=\"text-align: right;\">\n",
       "      <th></th>\n",
       "      <th>ip</th>\n",
       "      <th>app</th>\n",
       "      <th>device</th>\n",
       "      <th>os</th>\n",
       "      <th>channel</th>\n",
       "    </tr>\n",
       "  </thead>\n",
       "  <tbody>\n",
       "    <tr>\n",
       "      <th>0</th>\n",
       "      <td>83230</td>\n",
       "      <td>3</td>\n",
       "      <td>1</td>\n",
       "      <td>13</td>\n",
       "      <td>379</td>\n",
       "    </tr>\n",
       "    <tr>\n",
       "      <th>1</th>\n",
       "      <td>17357</td>\n",
       "      <td>3</td>\n",
       "      <td>1</td>\n",
       "      <td>19</td>\n",
       "      <td>379</td>\n",
       "    </tr>\n",
       "    <tr>\n",
       "      <th>2</th>\n",
       "      <td>35810</td>\n",
       "      <td>3</td>\n",
       "      <td>1</td>\n",
       "      <td>13</td>\n",
       "      <td>379</td>\n",
       "    </tr>\n",
       "    <tr>\n",
       "      <th>3</th>\n",
       "      <td>45745</td>\n",
       "      <td>14</td>\n",
       "      <td>1</td>\n",
       "      <td>13</td>\n",
       "      <td>478</td>\n",
       "    </tr>\n",
       "    <tr>\n",
       "      <th>4</th>\n",
       "      <td>161007</td>\n",
       "      <td>3</td>\n",
       "      <td>1</td>\n",
       "      <td>13</td>\n",
       "      <td>379</td>\n",
       "    </tr>\n",
       "  </tbody>\n",
       "</table>\n",
       "</div>"
      ],
      "text/plain": [
       "       ip app device  os channel\n",
       "0   83230   3      1  13     379\n",
       "1   17357   3      1  19     379\n",
       "2   35810   3      1  13     379\n",
       "3   45745  14      1  13     478\n",
       "4  161007   3      1  13     379"
      ]
     },
     "execution_count": 41,
     "metadata": {},
     "output_type": "execute_result"
    }
   ],
   "source": [
    "#num_train_features = adData.select_dtypes(include=[np.number])\n",
    "num_train_features = adData.select_dtypes(exclude=[object])\n",
    "num_train_features = num_train_features.drop(['is_attributed'], axis=1)\n",
    "\n",
    "null_columns = num_train_features.columns[num_train_features.isnull().any()]\n",
    "num_train_features[null_columns].isnull().sum()\n",
    "\n",
    "num_train_features.head()"
   ]
  },
  {
   "cell_type": "code",
   "execution_count": 42,
   "metadata": {
    "collapsed": true
   },
   "outputs": [],
   "source": [
    "from sklearn.cross_validation import train_test_split\n",
    "\n",
    "X = num_train_features\n",
    "y = adData['is_attributed']\n",
    "\n",
    "X_train, X_test, y_train, y_test = train_test_split(X, y)"
   ]
  },
  {
   "cell_type": "code",
   "execution_count": 43,
   "metadata": {
    "collapsed": true
   },
   "outputs": [],
   "source": [
    "from sklearn.neighbors import KNeighborsClassifier\n",
    "\n",
    "def tryKnnBestNeighborParam(nbList):\n",
    "    for idx, val in enumerate(nbList):\n",
    "        knn = KNeighborsClassifier(n_neighbors=val, n_jobs=-1)\n",
    "\n",
    "        knn.fit(X_train, y_train.values.ravel())\n",
    "        X_test_predict = knn.predict(X_test)\n",
    "\n",
    "        print(knn)\n",
    "        print(\"Score of neighbor %s: %s\\n\" % (val, knn.score(X_test, y_test)))"
   ]
  },
  {
   "cell_type": "code",
   "execution_count": 44,
   "metadata": {},
   "outputs": [
    {
     "name": "stdout",
     "output_type": "stream",
     "text": [
      "KNeighborsClassifier(algorithm='auto', leaf_size=30, metric='minkowski',\n",
      "           metric_params=None, n_jobs=-1, n_neighbors=4, p=2,\n",
      "           weights='uniform')\n",
      "Score of neighbor 4: 0.9981832\n",
      "\n",
      "KNeighborsClassifier(algorithm='auto', leaf_size=30, metric='minkowski',\n",
      "           metric_params=None, n_jobs=-1, n_neighbors=5, p=2,\n",
      "           weights='uniform')\n",
      "Score of neighbor 5: 0.9981744\n",
      "\n",
      "KNeighborsClassifier(algorithm='auto', leaf_size=30, metric='minkowski',\n",
      "           metric_params=None, n_jobs=-1, n_neighbors=6, p=2,\n",
      "           weights='uniform')\n",
      "Score of neighbor 6: 0.9981872\n",
      "\n",
      "KNeighborsClassifier(algorithm='auto', leaf_size=30, metric='minkowski',\n",
      "           metric_params=None, n_jobs=-1, n_neighbors=7, p=2,\n",
      "           weights='uniform')\n",
      "Score of neighbor 7: 0.9981824\n",
      "\n",
      "KNeighborsClassifier(algorithm='auto', leaf_size=30, metric='minkowski',\n",
      "           metric_params=None, n_jobs=-1, n_neighbors=8, p=2,\n",
      "           weights='uniform')\n",
      "Score of neighbor 8: 0.9981952\n",
      "\n"
     ]
    }
   ],
   "source": [
    "nbList = [4,5,6,7,8]\n",
    "\n",
    "tryKnnBestNeighborParam(nbList)"
   ]
  },
  {
   "cell_type": "code",
   "execution_count": 45,
   "metadata": {},
   "outputs": [
    {
     "data": {
      "text/plain": [
       "KNeighborsClassifier(algorithm='auto', leaf_size=30, metric='minkowski',\n",
       "           metric_params=None, n_jobs=-1, n_neighbors=8, p=2,\n",
       "           weights='uniform')"
      ]
     },
     "execution_count": 45,
     "metadata": {},
     "output_type": "execute_result"
    }
   ],
   "source": [
    "knn = KNeighborsClassifier(n_neighbors=8, n_jobs=-1)\n",
    "knn.fit(X_train, y_train.values.ravel())\n"
   ]
  },
  {
   "cell_type": "code",
   "execution_count": 47,
   "metadata": {},
   "outputs": [
    {
     "name": "stdout",
     "output_type": "stream",
     "text": [
      "Score: 0.9981952\n",
      "\n"
     ]
    }
   ],
   "source": [
    "X_test_predict = knn.predict(X_test)\n",
    "\n",
    "print(\"Score: %s\\n\" % (knn.score(X_test, y_test)))"
   ]
  },
  {
   "cell_type": "code",
   "execution_count": 48,
   "metadata": {},
   "outputs": [
    {
     "name": "stdout",
     "output_type": "stream",
     "text": [
      "KNeighborsClassifier(algorithm='auto', leaf_size=30, metric='minkowski',\n",
      "           metric_params=None, n_jobs=-1, n_neighbors=8, p=2,\n",
      "           weights='uniform')\n",
      "Score: 0.9981952\n",
      "\n",
      "c:\\kaggle\\adtracking\\knn_9981952.pkl\n"
     ]
    },
    {
     "data": {
      "text/plain": [
       "['c:\\\\kaggle\\\\adtracking\\\\knn_9981952.pkl']"
      ]
     },
     "execution_count": 48,
     "metadata": {},
     "output_type": "execute_result"
    }
   ],
   "source": [
    "from sklearn.externals import joblib\n",
    "\n",
    "X_test_predict = knn.predict(X_test)\n",
    "print(knn)\n",
    "print(\"Score: %s\\n\" % (knn.score(X_test, y_test)))\n",
    "\n",
    "model_file = 'c:\\\\kaggle\\\\adtracking\\\\knn_9981952.pkl'\n",
    "print model_file\n",
    "joblib.dump(knn, model_file) "
   ]
  },
  {
   "cell_type": "markdown",
   "metadata": {},
   "source": [
    "Reload trained KNN model"
   ]
  },
  {
   "cell_type": "code",
   "execution_count": null,
   "metadata": {
    "collapsed": true
   },
   "outputs": [],
   "source": [
    "from sklearn.externals import joblib\n",
    "\n",
    "knn = joblib.load('c:\\\\kaggle\\\\adtracking\\\\knn_9982688.pkl') "
   ]
  },
  {
   "cell_type": "code",
   "execution_count": 51,
   "metadata": {},
   "outputs": [],
   "source": [
    "test_file = \"c:\\\\kaggle\\\\adtracking\\\\test_5m_0.csv\"\n",
    "adTest_5m_0 = pd.read_csv(test_file, header = 0)\n",
    "adTest_5m_0.head()\n",
    "\n",
    "adTest_5m_0['ip'] = adTest_5m_0['ip'].astype('category')\n",
    "adTest_5m_0['app'] = adTest_5m_0['app'].astype('category')\n",
    "adTest_5m_0['device'] = adTest_5m_0['device'].astype('category')\n",
    "adTest_5m_0['os'] = adTest_5m_0['os'].astype('category')\n",
    "adTest_5m_0['channel'] = adTest_5m_0['channel'].astype('category')"
   ]
  },
  {
   "cell_type": "code",
   "execution_count": 53,
   "metadata": {},
   "outputs": [
    {
     "data": {
      "text/html": [
       "<div>\n",
       "<style>\n",
       "    .dataframe thead tr:only-child th {\n",
       "        text-align: right;\n",
       "    }\n",
       "\n",
       "    .dataframe thead th {\n",
       "        text-align: left;\n",
       "    }\n",
       "\n",
       "    .dataframe tbody tr th {\n",
       "        vertical-align: top;\n",
       "    }\n",
       "</style>\n",
       "<table border=\"1\" class=\"dataframe\">\n",
       "  <thead>\n",
       "    <tr style=\"text-align: right;\">\n",
       "      <th></th>\n",
       "      <th>ip</th>\n",
       "      <th>app</th>\n",
       "      <th>device</th>\n",
       "      <th>os</th>\n",
       "      <th>channel</th>\n",
       "    </tr>\n",
       "  </thead>\n",
       "  <tbody>\n",
       "    <tr>\n",
       "      <th>0</th>\n",
       "      <td>5744</td>\n",
       "      <td>9</td>\n",
       "      <td>1</td>\n",
       "      <td>3</td>\n",
       "      <td>107</td>\n",
       "    </tr>\n",
       "    <tr>\n",
       "      <th>1</th>\n",
       "      <td>119901</td>\n",
       "      <td>9</td>\n",
       "      <td>1</td>\n",
       "      <td>3</td>\n",
       "      <td>466</td>\n",
       "    </tr>\n",
       "    <tr>\n",
       "      <th>2</th>\n",
       "      <td>72287</td>\n",
       "      <td>21</td>\n",
       "      <td>1</td>\n",
       "      <td>19</td>\n",
       "      <td>128</td>\n",
       "    </tr>\n",
       "    <tr>\n",
       "      <th>3</th>\n",
       "      <td>78477</td>\n",
       "      <td>15</td>\n",
       "      <td>1</td>\n",
       "      <td>13</td>\n",
       "      <td>111</td>\n",
       "    </tr>\n",
       "    <tr>\n",
       "      <th>4</th>\n",
       "      <td>123080</td>\n",
       "      <td>12</td>\n",
       "      <td>1</td>\n",
       "      <td>13</td>\n",
       "      <td>328</td>\n",
       "    </tr>\n",
       "  </tbody>\n",
       "</table>\n",
       "</div>"
      ],
      "text/plain": [
       "       ip app device  os channel\n",
       "0    5744   9      1   3     107\n",
       "1  119901   9      1   3     466\n",
       "2   72287  21      1  19     128\n",
       "3   78477  15      1  13     111\n",
       "4  123080  12      1  13     328"
      ]
     },
     "execution_count": 53,
     "metadata": {},
     "output_type": "execute_result"
    }
   ],
   "source": [
    "num_test_features = adTest_5m_0.select_dtypes(exclude=[object])\n",
    "num_test_features = num_test_features.drop(['click_id'], axis=1)\n",
    "\n",
    "null_columns = num_test_features.columns[num_test_features.isnull().any()]\n",
    "num_test_features[null_columns].isnull().sum()\n",
    "\n",
    "num_test_features.head()"
   ]
  },
  {
   "cell_type": "code",
   "execution_count": 55,
   "metadata": {
    "collapsed": true
   },
   "outputs": [],
   "source": [
    "adTest_5m_0_predict = knn.predict_proba(num_test_features)"
   ]
  },
  {
   "cell_type": "code",
   "execution_count": 56,
   "metadata": {},
   "outputs": [
    {
     "name": "stdout",
     "output_type": "stream",
     "text": [
      "[[ 1.  0.]\n",
      " [ 1.  0.]\n",
      " [ 1.  0.]\n",
      " ..., \n",
      " [ 1.  0.]\n",
      " [ 1.  0.]\n",
      " [ 1.  0.]]\n"
     ]
    }
   ],
   "source": [
    "print adTest_5m_0_predict"
   ]
  },
  {
   "cell_type": "code",
   "execution_count": 54,
   "metadata": {},
   "outputs": [
    {
     "name": "stdout",
     "output_type": "stream",
     "text": [
      "c:\\kaggle\\adtracking\\Submission_5m_0.csv\n"
     ]
    }
   ],
   "source": [
    "#adTest_5m_0_predict = knn.predict_proba(num_test_features)\n",
    "\n",
    "submit_file = 'c:\\\\kaggle\\\\adtracking\\\\Submission_5m_0.csv'\n",
    "print submit_file\n",
    "submission = pd.DataFrame({\n",
    "        \"click_id\": adTest_5m_0[\"click_id\"],\n",
    "        \"is_attributed\": adTest_5m_0_predict\n",
    "    })\n",
    "\n",
    "submission.to_csv(submit_file, index=False)"
   ]
  },
  {
   "cell_type": "code",
   "execution_count": null,
   "metadata": {
    "collapsed": true
   },
   "outputs": [],
   "source": [
    "test_file = \"c:\\\\kaggle\\\\adtracking\\\\test_5m_1.csv\"\n",
    "adTest_5m_1 = pd.read_csv(test_file, header = 0)\n",
    "adTest_5m_1.head()"
   ]
  },
  {
   "cell_type": "code",
   "execution_count": null,
   "metadata": {
    "collapsed": true
   },
   "outputs": [],
   "source": [
    "num_test_features = adTest_5m_1.select_dtypes(include=[np.number])\n",
    "num_test_features = num_test_features.drop(['click_id'], axis=1)\n",
    "\n",
    "null_columns = num_test_features.columns[num_test_features.isnull().any()]\n",
    "num_test_features[null_columns].isnull().sum()\n",
    "\n",
    "num_test_features.head()"
   ]
  },
  {
   "cell_type": "code",
   "execution_count": null,
   "metadata": {
    "collapsed": true
   },
   "outputs": [],
   "source": [
    "adTest_5m_1_predict = knn.predict(num_test_features)\n",
    "\n",
    "submit_file = 'c:\\\\kaggle\\\\adtracking\\\\Submission_5m_1.csv'\n",
    "print submit_file\n",
    "submission = pd.DataFrame({\n",
    "        \"click_id\": drTest_5m_1[\"click_id\"],\n",
    "        \"is_attributed\": drTest_5m_1_predict\n",
    "    })\n",
    "\n",
    "submission.to_csv(submit_file, index=False)"
   ]
  },
  {
   "cell_type": "code",
   "execution_count": null,
   "metadata": {
    "collapsed": true
   },
   "outputs": [],
   "source": [
    "test_file = \"c:\\\\kaggle\\\\adtracking\\\\test_5m_2.csv\"\n",
    "adTest_5m_2 = pd.read_csv(test_file, header = 0)\n",
    "adTest_5m_2.head()"
   ]
  },
  {
   "cell_type": "code",
   "execution_count": null,
   "metadata": {
    "collapsed": true
   },
   "outputs": [],
   "source": [
    "num_test_features = adTest_5m_2.select_dtypes(include=[np.number])\n",
    "num_test_features = num_test_features.drop(['click_id'], axis=1)\n",
    "\n",
    "null_columns = num_test_features.columns[num_test_features.isnull().any()]\n",
    "num_test_features[null_columns].isnull().sum()\n",
    "\n",
    "num_test_features.head()"
   ]
  },
  {
   "cell_type": "code",
   "execution_count": null,
   "metadata": {
    "collapsed": true
   },
   "outputs": [],
   "source": [
    "adTest_5m_2_predict = knn.predict(num_test_features)\n",
    "\n",
    "submit_file = 'c:\\\\kaggle\\\\adtracking\\\\Submission_5m_2.csv'\n",
    "print submit_file\n",
    "submission = pd.DataFrame({\n",
    "        \"click_id\": drTest_5m_2[\"click_id\"],\n",
    "        \"is_attributed\": drTest_5m_2_predict\n",
    "    })\n",
    "\n",
    "submission.to_csv(submit_file, index=False)"
   ]
  },
  {
   "cell_type": "code",
   "execution_count": null,
   "metadata": {
    "collapsed": true
   },
   "outputs": [],
   "source": [
    "test_file = \"c:\\\\kaggle\\\\adtracking\\\\test_5m_3.csv\"\n",
    "drTest_5m_3 = pd.read_csv(test_file, header = 0)\n",
    "drTest_5m_3.head()"
   ]
  },
  {
   "cell_type": "code",
   "execution_count": null,
   "metadata": {
    "collapsed": true
   },
   "outputs": [],
   "source": [
    "num_test_features = drTest_5m_3.select_dtypes(include=[np.number])\n",
    "num_test_features = num_test_features.drop(['click_id'], axis=1)\n",
    "\n",
    "null_columns = num_test_features.columns[num_test_features.isnull().any()]\n",
    "num_test_features[null_columns].isnull().sum()\n",
    "\n",
    "num_test_features.head()"
   ]
  },
  {
   "cell_type": "code",
   "execution_count": null,
   "metadata": {
    "collapsed": true
   },
   "outputs": [],
   "source": [
    "drTest_5m_3_predict = knn.predict(num_test_features)\n",
    "\n",
    "submit_file = 'c:\\\\kaggle\\\\adtracking\\\\Submission_5m_3.csv'\n",
    "print submit_file\n",
    "submission = pd.DataFrame({\n",
    "        \"click_id\": drTest_5m_3[\"click_id\"],\n",
    "        \"is_attributed\": drTest_5m_3_predict\n",
    "    })\n",
    "\n",
    "submission.to_csv(submit_file, index=False)"
   ]
  },
  {
   "cell_type": "code",
   "execution_count": null,
   "metadata": {
    "collapsed": true
   },
   "outputs": [],
   "source": []
  }
 ],
 "metadata": {
  "kernelspec": {
   "display_name": "Python 2",
   "language": "python",
   "name": "python2"
  },
  "language_info": {
   "codemirror_mode": {
    "name": "ipython",
    "version": 2
   },
   "file_extension": ".py",
   "mimetype": "text/x-python",
   "name": "python",
   "nbconvert_exporter": "python",
   "pygments_lexer": "ipython2",
   "version": "2.7.14"
  }
 },
 "nbformat": 4,
 "nbformat_minor": 2
}
