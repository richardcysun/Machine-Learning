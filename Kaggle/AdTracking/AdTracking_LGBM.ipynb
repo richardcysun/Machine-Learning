{
 "cells": [
  {
   "cell_type": "code",
   "execution_count": 1,
   "metadata": {},
   "outputs": [],
   "source": [
    "import pandas as pd\n",
    "import numpy as np\n",
    "import gc\n",
    "import datetime\n",
    "import time\n",
    "\n",
    "%matplotlib inline"
   ]
  },
  {
   "cell_type": "code",
   "execution_count": 2,
   "metadata": {},
   "outputs": [
    {
     "name": "stdout",
     "output_type": "stream",
     "text": [
      "<class 'pandas.core.frame.DataFrame'>\n",
      "RangeIndex: 34903891 entries, 0 to 34903890\n",
      "Data columns (total 8 columns):\n",
      "ip                 int64\n",
      "app                int64\n",
      "device             int64\n",
      "os                 int64\n",
      "channel            int64\n",
      "click_time         object\n",
      "attributed_time    object\n",
      "is_attributed      int64\n",
      "dtypes: int64(6), object(2)\n",
      "memory usage: 2.1+ GB\n",
      "94.72941827774048\n"
     ]
    }
   ],
   "source": [
    "st = time.time()\n",
    "\n",
    "adTrain = pd.read_csv('c:\\\\kaggle\\\\adtracking\\\\train.csv', skiprows=range(1,150000000))\n",
    "\n",
    "adTrain.info()\n",
    "adTrain.head()\n",
    "\n",
    "print(time.time()- st)"
   ]
  },
  {
   "cell_type": "code",
   "execution_count": 3,
   "metadata": {},
   "outputs": [
    {
     "data": {
      "text/plain": [
       "\"\\nadAttributed = pd.read_csv('c:\\\\kaggle\\\\adtracking\\\\attributed.csv', skiprows=0)\\n\\nframes = [adTrain, adAttributed]\\nadTrain = pd.concat(frames)\\n\\ndel adAttributed\\ngc.collect()\\n\""
      ]
     },
     "execution_count": 3,
     "metadata": {},
     "output_type": "execute_result"
    }
   ],
   "source": [
    "'''\n",
    "adAttributed = pd.read_csv('c:\\\\kaggle\\\\adtracking\\\\attributed.csv', skiprows=0)\n",
    "\n",
    "frames = [adTrain, adAttributed]\n",
    "adTrain = pd.concat(frames)\n",
    "\n",
    "del adAttributed\n",
    "gc.collect()\n",
    "'''"
   ]
  },
  {
   "cell_type": "code",
   "execution_count": 4,
   "metadata": {},
   "outputs": [
    {
     "name": "stdout",
     "output_type": "stream",
     "text": [
      "13.146752119064331\n"
     ]
    }
   ],
   "source": [
    "st = time.time()\n",
    "\n",
    "adTrain['click_time'] = pd.to_datetime(adTrain['click_time'])\n",
    "adTrain['click_hour'] = adTrain['click_time'].dt.hour\n",
    "adTrain.drop(['click_time','attributed_time'], axis=1, inplace=True)\n",
    "gc.collect()\n",
    "print(time.time()- st)"
   ]
  },
  {
   "cell_type": "code",
   "execution_count": 5,
   "metadata": {},
   "outputs": [
    {
     "name": "stdout",
     "output_type": "stream",
     "text": [
      "LGBMClassifier(boosting_type='gbdt', class_weight=None, colsample_bytree=1.0,\n",
      "        learning_rate=0.1, max_depth=-1, min_child_samples=20,\n",
      "        min_child_weight=0.001, min_split_gain=0.0, n_estimators=200,\n",
      "        n_jobs=-1, num_leaves=31, objective=None, random_state=None,\n",
      "        reg_alpha=0.0, reg_lambda=0.0, silent=True, subsample=1.0,\n",
      "        subsample_for_bin=200000, subsample_freq=1)\n",
      "221.7806851863861\n"
     ]
    }
   ],
   "source": [
    "import lightgbm as lgb\n",
    "\n",
    "st = time.time()\n",
    "X_train = adTrain[['ip', 'app', 'device', 'os', 'channel', 'click_hour']]\n",
    "y_train = adTrain['is_attributed']\n",
    "\n",
    "mdl = lgb.LGBMClassifier(n_estimators=200)\n",
    "mdl.fit(X_train, y_train)\n",
    "\n",
    "#del adTrain\n",
    "#gc.collect()\n",
    "print(mdl)\n",
    "print(time.time()- st)"
   ]
  },
  {
   "cell_type": "code",
   "execution_count": 6,
   "metadata": {},
   "outputs": [
    {
     "name": "stdout",
     "output_type": "stream",
     "text": [
      "28.889652490615845\n"
     ]
    }
   ],
   "source": [
    "st = time.time()\n",
    "\n",
    "adTest = pd.read_csv('c:\\\\kaggle\\\\adtracking\\\\train.csv', skiprows=range(1,50000000), nrows=10000000)\n",
    "\n",
    "adTest['click_time'] = pd.to_datetime(adTest['click_time'])\n",
    "adTest['click_hour'] = adTest['click_time'].dt.hour\n",
    "adTest.drop(['click_time','attributed_time'], axis=1, inplace=True)\n",
    "gc.collect()\n",
    "\n",
    "print(time.time()- st)"
   ]
  },
  {
   "cell_type": "code",
   "execution_count": 7,
   "metadata": {},
   "outputs": [
    {
     "name": "stdout",
     "output_type": "stream",
     "text": [
      "[[9.99487889e-01 5.12111195e-04]\n",
      " [9.99835845e-01 1.64155226e-04]\n",
      " [9.99898418e-01 1.01582295e-04]\n",
      " ...\n",
      " [9.99604499e-01 3.95501304e-04]\n",
      " [9.99868113e-01 1.31887297e-04]\n",
      " [9.99917633e-01 8.23666355e-05]]\n",
      "25.56046223640442\n",
      "0.9703329550784882\n"
     ]
    }
   ],
   "source": [
    "import sklearn.metrics as metrics\n",
    "\n",
    "st = time.time()\n",
    "\n",
    "X_test = adTest[['ip', 'app', 'device', 'os', 'channel', 'click_hour']]\n",
    "y_test = adTest['is_attributed']\n",
    "\n",
    "X_test_predict = mdl.predict_proba(X_test)\n",
    "print(X_test_predict)\n",
    "print(time.time()- st)\n",
    "\n",
    "auc_roc = metrics.roc_auc_score(y_test, X_test_predict[::, 1])\n",
    "\n",
    "# with attributed 0.9540315356090971\n",
    "# default: 0.9698160235023366\n",
    "# n_estimators=200: 0.9699698598812887\n",
    "# n_estimators=200, learning_rate=0.05: 0.970567098425588\n",
    "# boosting_type='dart': 0.9275187838276894\n",
    "# boosting_type='goss': 0.9698931175924093\n",
    "print(auc_roc)"
   ]
  },
  {
   "cell_type": "code",
   "execution_count": 8,
   "metadata": {},
   "outputs": [
    {
     "name": "stdout",
     "output_type": "stream",
     "text": [
      "<class 'pandas.core.frame.DataFrame'>\n",
      "RangeIndex: 18790469 entries, 0 to 18790468\n",
      "Data columns (total 7 columns):\n",
      "click_id      int64\n",
      "ip            int64\n",
      "app           int64\n",
      "device        int64\n",
      "os            int64\n",
      "channel       int64\n",
      "click_hour    int64\n",
      "dtypes: int64(7)\n",
      "memory usage: 1003.5 MB\n",
      "21.489229202270508\n"
     ]
    }
   ],
   "source": [
    "st = time.time()\n",
    "\n",
    "del adTest\n",
    "gc.collect()\n",
    "\n",
    "adTest = pd.read_csv('c:\\\\kaggle\\\\adtracking\\\\test.csv')\n",
    "\n",
    "adTest['click_time'] = pd.to_datetime(adTest['click_time'])\n",
    "adTest['click_hour'] = adTest['click_time'].dt.hour\n",
    "adTest.drop(['click_time'], axis=1, inplace=True)\n",
    "gc.collect()\n",
    "\n",
    "adTest.info()\n",
    "\n",
    "print(time.time()- st)"
   ]
  },
  {
   "cell_type": "code",
   "execution_count": 9,
   "metadata": {},
   "outputs": [
    {
     "name": "stdout",
     "output_type": "stream",
     "text": [
      "[[9.99553421e-01 4.46578707e-04]\n",
      " [9.99633104e-01 3.66895927e-04]\n",
      " [9.99767244e-01 2.32756415e-04]\n",
      " ...\n",
      " [9.99794779e-01 2.05220825e-04]\n",
      " [9.99735348e-01 2.64651840e-04]\n",
      " [9.99957529e-01 4.24705499e-05]]\n",
      "50.05686283111572\n"
     ]
    }
   ],
   "source": [
    "st = time.time()\n",
    "\n",
    "ad_test = adTest[['ip', 'app', 'device', 'os', 'channel', 'click_hour']]\n",
    "\n",
    "ad_test_predict = mdl.predict_proba(ad_test)\n",
    "print(ad_test_predict)\n",
    "print(time.time()- st)"
   ]
  },
  {
   "cell_type": "code",
   "execution_count": 10,
   "metadata": {},
   "outputs": [
    {
     "name": "stdout",
     "output_type": "stream",
     "text": [
      "c:\\kaggle\\adtracking\\Submission_lgbm.csv\n"
     ]
    }
   ],
   "source": [
    "submit_file = 'c:\\\\kaggle\\\\adtracking\\\\Submission_lgbm.csv'\n",
    "print(submit_file)\n",
    "submission = pd.DataFrame({\n",
    "        \"click_id\": adTest[\"click_id\"],\n",
    "        \"is_attributed\": ad_test_predict[::, 1]\n",
    "    })\n",
    "\n",
    "submission.to_csv(submit_file, index=False)"
   ]
  },
  {
   "cell_type": "code",
   "execution_count": null,
   "metadata": {},
   "outputs": [],
   "source": []
  }
 ],
 "metadata": {
  "kernelspec": {
   "display_name": "Python 3",
   "language": "python",
   "name": "python3"
  },
  "language_info": {
   "codemirror_mode": {
    "name": "ipython",
    "version": 3
   },
   "file_extension": ".py",
   "mimetype": "text/x-python",
   "name": "python",
   "nbconvert_exporter": "python",
   "pygments_lexer": "ipython3",
   "version": "3.6.4"
  }
 },
 "nbformat": 4,
 "nbformat_minor": 2
}
