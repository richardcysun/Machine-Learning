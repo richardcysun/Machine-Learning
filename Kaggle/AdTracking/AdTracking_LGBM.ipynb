{
 "cells": [
  {
   "cell_type": "code",
   "execution_count": null,
   "metadata": {},
   "outputs": [],
   "source": [
    "import pandas as pd\n",
    "import numpy as np\n",
    "import gc\n",
    "import datetime\n",
    "import time\n",
    "\n",
    "%matplotlib inline"
   ]
  },
  {
   "cell_type": "code",
   "execution_count": null,
   "metadata": {},
   "outputs": [],
   "source": [
    "st = time.time()\n",
    "\n",
    "adTrain = pd.read_csv('c:\\\\kaggle\\\\adtracking\\\\train.csv', skiprows=range(1,160000000))\n",
    "#adData = pd.read_csv('c:\\\\kaggle\\\\adtracking\\\\train_sample.csv')\n",
    "\n",
    "adTrain.info()\n",
    "adTrain.head()\n",
    "\n",
    "print(time.time()- st)"
   ]
  },
  {
   "cell_type": "code",
   "execution_count": null,
   "metadata": {},
   "outputs": [],
   "source": [
    "st = time.time()\n",
    "\n",
    "adTrain['click_time'] = pd.to_datetime(adTrain['click_time'])\n",
    "adTrain['click_hour'] = adTrain['click_time'].dt.hour\n",
    "adTrain.drop(['click_time','attributed_time'], axis=1, inplace=True)\n",
    "gc.collect()\n",
    "print(time.time()- st)"
   ]
  },
  {
   "cell_type": "code",
   "execution_count": null,
   "metadata": {},
   "outputs": [],
   "source": [
    "import lightgbm as lgb\n",
    "\n",
    "st = time.time()\n",
    "X_train = adTrain[['ip', 'app', 'device', 'os', 'channel', 'click_hour']]\n",
    "y_train = adTrain['is_attributed']\n",
    "\n",
    "mdl = lgb.LGBMClassifier()\n",
    "mdl.fit(X_train, y_train)\n",
    "print(time.time()- st)"
   ]
  },
  {
   "cell_type": "code",
   "execution_count": null,
   "metadata": {},
   "outputs": [],
   "source": [
    "\n",
    "st = time.time()\n",
    "\n",
    "del adTrain\n",
    "gc.collect()\n",
    "\n",
    "adTest = pd.read_csv('c:\\\\kaggle\\\\adtracking\\\\train.csv', skiprows=range(1,50000000), nrows=10000000)\n",
    "\n",
    "adTest['click_time'] = pd.to_datetime(adTest['click_time'])\n",
    "adTest['click_hour'] = adTest['click_time'].dt.hour\n",
    "adTest.drop(['click_time','attributed_time'], axis=1, inplace=True)\n",
    "gc.collect()\n",
    "\n",
    "print(time.time()- st)\n"
   ]
  },
  {
   "cell_type": "code",
   "execution_count": null,
   "metadata": {},
   "outputs": [],
   "source": [
    "st = time.time()\n",
    "\n",
    "X_test = adTest[['ip', 'app', 'device', 'os', 'channel', 'click_hour']]\n",
    "y_test = adTest['is_attributed']\n",
    "\n",
    "X_test_predict = mdl.predict_proba(X_test)\n",
    "print(X_test_predict)\n",
    "print(time.time()- st)"
   ]
  },
  {
   "cell_type": "code",
   "execution_count": null,
   "metadata": {},
   "outputs": [],
   "source": [
    "import sklearn.metrics as metrics\n",
    "\n",
    "auc_roc = metrics.roc_auc_score(y_test, X_test_predict[::, 1])\n",
    "\n",
    "print(auc_roc)"
   ]
  },
  {
   "cell_type": "code",
   "execution_count": null,
   "metadata": {},
   "outputs": [],
   "source": [
    "st = time.time()\n",
    "\n",
    "del adTest\n",
    "gc.collect()\n",
    "\n",
    "adTest = pd.read_csv('c:\\\\kaggle\\\\adtracking\\\\test.csv')\n",
    "\n",
    "adTest['click_time'] = pd.to_datetime(adTest['click_time'])\n",
    "adTest['click_hour'] = adTest['click_time'].dt.hour\n",
    "adTest.drop(['click_time'], axis=1, inplace=True)\n",
    "gc.collect()\n",
    "\n",
    "adTest.info()\n",
    "\n",
    "print(time.time()- st)"
   ]
  },
  {
   "cell_type": "code",
   "execution_count": null,
   "metadata": {},
   "outputs": [],
   "source": [
    "st = time.time()\n",
    "\n",
    "ad_test = adTest[['ip', 'app', 'device', 'os', 'channel', 'click_hour']]\n",
    "\n",
    "ad_test_predict = mdl.predict_proba(ad_test)\n",
    "print(ad_test_predict)\n",
    "print(time.time()- st)"
   ]
  },
  {
   "cell_type": "code",
   "execution_count": null,
   "metadata": {},
   "outputs": [],
   "source": [
    "submit_file = 'c:\\\\kaggle\\\\adtracking\\\\Submission_lgbm.csv'\n",
    "print(submit_file)\n",
    "submission = pd.DataFrame({\n",
    "        \"click_id\": adTest[\"click_id\"],\n",
    "        \"is_attributed\": ad_test_predict[::, 1]\n",
    "    })\n",
    "\n",
    "submission.to_csv(submit_file, index=False)"
   ]
  },
  {
   "cell_type": "code",
   "execution_count": null,
   "metadata": {},
   "outputs": [],
   "source": []
  }
 ],
 "metadata": {
  "kernelspec": {
   "display_name": "Python 3",
   "language": "python",
   "name": "python3"
  },
  "language_info": {
   "codemirror_mode": {
    "name": "ipython",
    "version": 3
   },
   "file_extension": ".py",
   "mimetype": "text/x-python",
   "name": "python",
   "nbconvert_exporter": "python",
   "pygments_lexer": "ipython3",
   "version": "3.6.4"
  }
 },
 "nbformat": 4,
 "nbformat_minor": 2
}
