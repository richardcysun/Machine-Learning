{
 "cells": [
  {
   "cell_type": "code",
   "execution_count": 13,
   "metadata": {},
   "outputs": [],
   "source": [
    "import numpy as np # linear algebra\n",
    "import pandas as pd # data processing, CSV file I/O (e.g. pd.read_csv)\n",
    "import datetime\n",
    "import gc\n",
    "\n",
    "import time\n",
    "\n",
    "import matplotlib.pyplot as plt\n",
    "import seaborn as sns\n",
    "%matplotlib inline"
   ]
  },
  {
   "cell_type": "code",
   "execution_count": 14,
   "metadata": {},
   "outputs": [
    {
     "name": "stdout",
     "output_type": "stream",
     "text": [
      "15.121864795684814\n"
     ]
    }
   ],
   "source": [
    "st = time.time()\n",
    "\n",
    "adTrain = pd.read_csv('c:\\\\kaggle\\\\adtracking\\\\train.csv', skiprows=0, nrows=20000000)\n",
    "adAttributed = adTrain[adTrain['is_attributed']==1]\n",
    "adAllAttributed = adAttributed.copy()\n",
    "print(time.time()- st)"
   ]
  },
  {
   "cell_type": "code",
   "execution_count": 15,
   "metadata": {},
   "outputs": [
    {
     "name": "stdout",
     "output_type": "stream",
     "text": [
      "<class 'pandas.core.frame.DataFrame'>\n",
      "Int64Index: 49464 entries, 102 to 19999908\n",
      "Data columns (total 8 columns):\n",
      "ip                 49464 non-null int64\n",
      "app                49464 non-null int64\n",
      "device             49464 non-null int64\n",
      "os                 49464 non-null int64\n",
      "channel            49464 non-null int64\n",
      "click_time         49464 non-null object\n",
      "attributed_time    49464 non-null object\n",
      "is_attributed      49464 non-null int64\n",
      "dtypes: int64(6), object(2)\n",
      "memory usage: 3.4+ MB\n"
     ]
    }
   ],
   "source": [
    "adAllAttributed.info()"
   ]
  },
  {
   "cell_type": "code",
   "execution_count": 16,
   "metadata": {},
   "outputs": [
    {
     "name": "stdout",
     "output_type": "stream",
     "text": [
      "24.083377361297607\n"
     ]
    }
   ],
   "source": [
    "st = time.time()\n",
    "\n",
    "adTrain = pd.read_csv('c:\\\\kaggle\\\\adtracking\\\\train.csv', skiprows=range(1,20000000), nrows=20000000)\n",
    "adAttributed = adTrain[adTrain['is_attributed']==1]\n",
    "\n",
    "frames = [adAllAttributed, adAttributed]\n",
    "adAllAttributed = pd.concat(frames)\n",
    "\n",
    "del adAttributed      \n",
    "del adTrain\n",
    "gc.collect()\n",
    "\n",
    "print(time.time()- st)"
   ]
  },
  {
   "cell_type": "code",
   "execution_count": 17,
   "metadata": {},
   "outputs": [
    {
     "name": "stdout",
     "output_type": "stream",
     "text": [
      "<class 'pandas.core.frame.DataFrame'>\n",
      "Int64Index: 103234 entries, 102 to 19999976\n",
      "Data columns (total 8 columns):\n",
      "ip                 103234 non-null int64\n",
      "app                103234 non-null int64\n",
      "device             103234 non-null int64\n",
      "os                 103234 non-null int64\n",
      "channel            103234 non-null int64\n",
      "click_time         103234 non-null object\n",
      "attributed_time    103234 non-null object\n",
      "is_attributed      103234 non-null int64\n",
      "dtypes: int64(6), object(2)\n",
      "memory usage: 7.1+ MB\n"
     ]
    }
   ],
   "source": [
    "adAllAttributed.info()"
   ]
  },
  {
   "cell_type": "code",
   "execution_count": 18,
   "metadata": {},
   "outputs": [
    {
     "name": "stdout",
     "output_type": "stream",
     "text": [
      "30.829763174057007\n"
     ]
    }
   ],
   "source": [
    "st = time.time()\n",
    "\n",
    "adTrain = pd.read_csv('c:\\\\kaggle\\\\adtracking\\\\train.csv', skiprows=range(1,40000000), nrows=20000000)\n",
    "adAttributed = adTrain[adTrain['is_attributed']==1]\n",
    "\n",
    "frames = [adAllAttributed, adAttributed]\n",
    "adAllAttributed = pd.concat(frames)\n",
    "\n",
    "del adAttributed      \n",
    "del adTrain\n",
    "gc.collect()\n",
    "\n",
    "print(time.time()- st)"
   ]
  },
  {
   "cell_type": "code",
   "execution_count": 19,
   "metadata": {},
   "outputs": [
    {
     "name": "stdout",
     "output_type": "stream",
     "text": [
      "<class 'pandas.core.frame.DataFrame'>\n",
      "Int64Index: 152518 entries, 102 to 19998945\n",
      "Data columns (total 8 columns):\n",
      "ip                 152518 non-null int64\n",
      "app                152518 non-null int64\n",
      "device             152518 non-null int64\n",
      "os                 152518 non-null int64\n",
      "channel            152518 non-null int64\n",
      "click_time         152518 non-null object\n",
      "attributed_time    152518 non-null object\n",
      "is_attributed      152518 non-null int64\n",
      "dtypes: int64(6), object(2)\n",
      "memory usage: 10.5+ MB\n"
     ]
    }
   ],
   "source": [
    "adAllAttributed.info()"
   ]
  },
  {
   "cell_type": "code",
   "execution_count": 20,
   "metadata": {},
   "outputs": [
    {
     "name": "stdout",
     "output_type": "stream",
     "text": [
      "39.4072539806366\n"
     ]
    }
   ],
   "source": [
    "st = time.time()\n",
    "\n",
    "adTrain = pd.read_csv('c:\\\\kaggle\\\\adtracking\\\\train.csv', skiprows=range(1,60000000), nrows=20000000)\n",
    "adAttributed = adTrain[adTrain['is_attributed']==1]\n",
    "\n",
    "frames = [adAllAttributed, adAttributed]\n",
    "adAllAttributed = pd.concat(frames)\n",
    "\n",
    "del adAttributed      \n",
    "del adTrain\n",
    "gc.collect()\n",
    "\n",
    "print(time.time()- st)"
   ]
  },
  {
   "cell_type": "code",
   "execution_count": 21,
   "metadata": {},
   "outputs": [
    {
     "name": "stdout",
     "output_type": "stream",
     "text": [
      "<class 'pandas.core.frame.DataFrame'>\n",
      "Int64Index: 197644 entries, 102 to 19999675\n",
      "Data columns (total 8 columns):\n",
      "ip                 197644 non-null int64\n",
      "app                197644 non-null int64\n",
      "device             197644 non-null int64\n",
      "os                 197644 non-null int64\n",
      "channel            197644 non-null int64\n",
      "click_time         197644 non-null object\n",
      "attributed_time    197644 non-null object\n",
      "is_attributed      197644 non-null int64\n",
      "dtypes: int64(6), object(2)\n",
      "memory usage: 13.6+ MB\n"
     ]
    }
   ],
   "source": [
    "adAllAttributed.info()"
   ]
  },
  {
   "cell_type": "code",
   "execution_count": 22,
   "metadata": {},
   "outputs": [
    {
     "name": "stdout",
     "output_type": "stream",
     "text": [
      "46.48965930938721\n"
     ]
    }
   ],
   "source": [
    "st = time.time()\n",
    "\n",
    "adTrain = pd.read_csv('c:\\\\kaggle\\\\adtracking\\\\train.csv', skiprows=range(1,80000000), nrows=20000000)\n",
    "adAttributed = adTrain[adTrain['is_attributed']==1]\n",
    "\n",
    "frames = [adAllAttributed, adAttributed]\n",
    "adAllAttributed = pd.concat(frames)\n",
    "\n",
    "del adAttributed      \n",
    "del adTrain\n",
    "gc.collect()\n",
    "\n",
    "print(time.time()- st)"
   ]
  },
  {
   "cell_type": "code",
   "execution_count": 23,
   "metadata": {},
   "outputs": [
    {
     "name": "stdout",
     "output_type": "stream",
     "text": [
      "<class 'pandas.core.frame.DataFrame'>\n",
      "Int64Index: 256276 entries, 102 to 19999901\n",
      "Data columns (total 8 columns):\n",
      "ip                 256276 non-null int64\n",
      "app                256276 non-null int64\n",
      "device             256276 non-null int64\n",
      "os                 256276 non-null int64\n",
      "channel            256276 non-null int64\n",
      "click_time         256276 non-null object\n",
      "attributed_time    256276 non-null object\n",
      "is_attributed      256276 non-null int64\n",
      "dtypes: int64(6), object(2)\n",
      "memory usage: 17.6+ MB\n"
     ]
    }
   ],
   "source": [
    "adAllAttributed.info()"
   ]
  },
  {
   "cell_type": "code",
   "execution_count": 24,
   "metadata": {},
   "outputs": [
    {
     "name": "stdout",
     "output_type": "stream",
     "text": [
      "53.548062562942505\n"
     ]
    }
   ],
   "source": [
    "st = time.time()\n",
    "\n",
    "adTrain = pd.read_csv('c:\\\\kaggle\\\\adtracking\\\\train.csv', skiprows=range(1,100000000), nrows=20000000)\n",
    "adAttributed = adTrain[adTrain['is_attributed']==1]\n",
    "\n",
    "frames = [adAllAttributed, adAttributed]\n",
    "adAllAttributed = pd.concat(frames)\n",
    "\n",
    "del adAttributed      \n",
    "del adTrain\n",
    "gc.collect()\n",
    "\n",
    "print(time.time()- st)"
   ]
  },
  {
   "cell_type": "code",
   "execution_count": 25,
   "metadata": {},
   "outputs": [
    {
     "name": "stdout",
     "output_type": "stream",
     "text": [
      "<class 'pandas.core.frame.DataFrame'>\n",
      "Int64Index: 300626 entries, 102 to 19999811\n",
      "Data columns (total 8 columns):\n",
      "ip                 300626 non-null int64\n",
      "app                300626 non-null int64\n",
      "device             300626 non-null int64\n",
      "os                 300626 non-null int64\n",
      "channel            300626 non-null int64\n",
      "click_time         300626 non-null object\n",
      "attributed_time    300626 non-null object\n",
      "is_attributed      300626 non-null int64\n",
      "dtypes: int64(6), object(2)\n",
      "memory usage: 20.6+ MB\n"
     ]
    }
   ],
   "source": [
    "adAllAttributed.info()"
   ]
  },
  {
   "cell_type": "code",
   "execution_count": 26,
   "metadata": {},
   "outputs": [],
   "source": [
    "adAllAttributed.to_csv('c:\\\\kaggle\\\\adtracking\\\\attributed.csv', index=False)"
   ]
  },
  {
   "cell_type": "code",
   "execution_count": 27,
   "metadata": {},
   "outputs": [
    {
     "name": "stdout",
     "output_type": "stream",
     "text": [
      "63.16961312294006\n"
     ]
    }
   ],
   "source": [
    "st = time.time()\n",
    "\n",
    "adTrain = pd.read_csv('c:\\\\kaggle\\\\adtracking\\\\train.csv', skiprows=range(1,120000000), nrows=20000000)\n",
    "adAttributed = adTrain[adTrain['is_attributed']==1]\n",
    "\n",
    "frames = [adAllAttributed, adAttributed]\n",
    "adAllAttributed = pd.concat(frames)\n",
    "\n",
    "del adAttributed      \n",
    "del adTrain\n",
    "gc.collect()\n",
    "\n",
    "print(time.time()- st)"
   ]
  },
  {
   "cell_type": "code",
   "execution_count": 28,
   "metadata": {},
   "outputs": [
    {
     "name": "stdout",
     "output_type": "stream",
     "text": [
      "<class 'pandas.core.frame.DataFrame'>\n",
      "Int64Index: 342738 entries, 102 to 19999618\n",
      "Data columns (total 8 columns):\n",
      "ip                 342738 non-null int64\n",
      "app                342738 non-null int64\n",
      "device             342738 non-null int64\n",
      "os                 342738 non-null int64\n",
      "channel            342738 non-null int64\n",
      "click_time         342738 non-null object\n",
      "attributed_time    342738 non-null object\n",
      "is_attributed      342738 non-null int64\n",
      "dtypes: int64(6), object(2)\n",
      "memory usage: 23.5+ MB\n"
     ]
    }
   ],
   "source": [
    "adAllAttributed.info()"
   ]
  },
  {
   "cell_type": "code",
   "execution_count": 29,
   "metadata": {},
   "outputs": [
    {
     "name": "stdout",
     "output_type": "stream",
     "text": [
      "70.11001014709473\n"
     ]
    }
   ],
   "source": [
    "st = time.time()\n",
    "\n",
    "adTrain = pd.read_csv('c:\\\\kaggle\\\\adtracking\\\\train.csv', skiprows=range(1,140000000), nrows=20000000)\n",
    "adAttributed = adTrain[adTrain['is_attributed']==1]\n",
    "\n",
    "frames = [adAllAttributed, adAttributed]\n",
    "adAllAttributed = pd.concat(frames)\n",
    "\n",
    "del adAttributed      \n",
    "del adTrain\n",
    "gc.collect()\n",
    "\n",
    "print(time.time()- st)"
   ]
  },
  {
   "cell_type": "code",
   "execution_count": 30,
   "metadata": {},
   "outputs": [
    {
     "name": "stdout",
     "output_type": "stream",
     "text": [
      "<class 'pandas.core.frame.DataFrame'>\n",
      "Int64Index: 395427 entries, 102 to 19999653\n",
      "Data columns (total 8 columns):\n",
      "ip                 395427 non-null int64\n",
      "app                395427 non-null int64\n",
      "device             395427 non-null int64\n",
      "os                 395427 non-null int64\n",
      "channel            395427 non-null int64\n",
      "click_time         395427 non-null object\n",
      "attributed_time    395427 non-null object\n",
      "is_attributed      395427 non-null int64\n",
      "dtypes: int64(6), object(2)\n",
      "memory usage: 27.2+ MB\n"
     ]
    }
   ],
   "source": [
    "adAllAttributed.info()"
   ]
  },
  {
   "cell_type": "code",
   "execution_count": 31,
   "metadata": {},
   "outputs": [
    {
     "name": "stdout",
     "output_type": "stream",
     "text": [
      "79.91257071495056\n"
     ]
    }
   ],
   "source": [
    "st = time.time()\n",
    "\n",
    "adTrain = pd.read_csv('c:\\\\kaggle\\\\adtracking\\\\train.csv', skiprows=range(1,160000000), nrows=20000000)\n",
    "adAttributed = adTrain[adTrain['is_attributed']==1]\n",
    "\n",
    "frames = [adAllAttributed, adAttributed]\n",
    "adAllAttributed = pd.concat(frames)\n",
    "\n",
    "del adAttributed      \n",
    "del adTrain\n",
    "gc.collect()\n",
    "\n",
    "print(time.time()- st)"
   ]
  },
  {
   "cell_type": "code",
   "execution_count": 32,
   "metadata": {},
   "outputs": [
    {
     "name": "stdout",
     "output_type": "stream",
     "text": [
      "<class 'pandas.core.frame.DataFrame'>\n",
      "Int64Index: 447787 entries, 102 to 19999770\n",
      "Data columns (total 8 columns):\n",
      "ip                 447787 non-null int64\n",
      "app                447787 non-null int64\n",
      "device             447787 non-null int64\n",
      "os                 447787 non-null int64\n",
      "channel            447787 non-null int64\n",
      "click_time         447787 non-null object\n",
      "attributed_time    447787 non-null object\n",
      "is_attributed      447787 non-null int64\n",
      "dtypes: int64(6), object(2)\n",
      "memory usage: 30.7+ MB\n"
     ]
    }
   ],
   "source": [
    "adAllAttributed.info()"
   ]
  },
  {
   "cell_type": "code",
   "execution_count": 33,
   "metadata": {},
   "outputs": [
    {
     "name": "stdout",
     "output_type": "stream",
     "text": [
      "72.3391375541687\n"
     ]
    }
   ],
   "source": [
    "st = time.time()\n",
    "\n",
    "adTrain = pd.read_csv('c:\\\\kaggle\\\\adtracking\\\\train.csv', skiprows=range(1,180000000), nrows=20000000)\n",
    "adAttributed = adTrain[adTrain['is_attributed']==1]\n",
    "\n",
    "frames = [adAllAttributed, adAttributed]\n",
    "adAllAttributed = pd.concat(frames)\n",
    "\n",
    "del adAttributed      \n",
    "del adTrain\n",
    "gc.collect()\n",
    "\n",
    "print(time.time()- st)"
   ]
  },
  {
   "cell_type": "code",
   "execution_count": 34,
   "metadata": {},
   "outputs": [
    {
     "name": "stdout",
     "output_type": "stream",
     "text": [
      "<class 'pandas.core.frame.DataFrame'>\n",
      "Int64Index: 456846 entries, 102 to 4882312\n",
      "Data columns (total 8 columns):\n",
      "ip                 456846 non-null int64\n",
      "app                456846 non-null int64\n",
      "device             456846 non-null int64\n",
      "os                 456846 non-null int64\n",
      "channel            456846 non-null int64\n",
      "click_time         456846 non-null object\n",
      "attributed_time    456846 non-null object\n",
      "is_attributed      456846 non-null int64\n",
      "dtypes: int64(6), object(2)\n",
      "memory usage: 31.4+ MB\n"
     ]
    }
   ],
   "source": [
    "adAllAttributed.info()"
   ]
  },
  {
   "cell_type": "code",
   "execution_count": 35,
   "metadata": {},
   "outputs": [],
   "source": [
    "adAllAttributed.to_csv('c:\\\\kaggle\\\\adtracking\\\\attributed.csv', index=False)"
   ]
  },
  {
   "cell_type": "code",
   "execution_count": null,
   "metadata": {},
   "outputs": [],
   "source": []
  }
 ],
 "metadata": {
  "kernelspec": {
   "display_name": "Python 3",
   "language": "python",
   "name": "python3"
  },
  "language_info": {
   "codemirror_mode": {
    "name": "ipython",
    "version": 3
   },
   "file_extension": ".py",
   "mimetype": "text/x-python",
   "name": "python",
   "nbconvert_exporter": "python",
   "pygments_lexer": "ipython3",
   "version": "3.6.4"
  }
 },
 "nbformat": 4,
 "nbformat_minor": 2
}
