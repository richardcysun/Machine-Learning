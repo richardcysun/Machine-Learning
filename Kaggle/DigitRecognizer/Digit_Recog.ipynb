{
 "cells": [
  {
   "cell_type": "code",
   "execution_count": null,
   "metadata": {
    "collapsed": true
   },
   "outputs": [],
   "source": [
    "import pandas as pd\n",
    "import numpy as np\n",
    "from sklearn import preprocessing\n",
    "\n",
    "%matplotlib inline\n",
    "#panda is a read/write tool\n",
    "\n",
    "train_file = \"c:\\\\digit_recog\\\\train.csv\"\n",
    "test_file = \"c:\\\\digit_recog\\\\test.csv\"\n",
    "\n",
    "drData = pd.read_csv(train_file, header = 0)"
   ]
  },
  {
   "cell_type": "code",
   "execution_count": null,
   "metadata": {},
   "outputs": [],
   "source": [
    "drData.info()\n",
    "#drData.describe()\n",
    "\n",
    "drData.head()"
   ]
  },
  {
   "cell_type": "code",
   "execution_count": null,
   "metadata": {
    "collapsed": true
   },
   "outputs": [],
   "source": []
  },
  {
   "cell_type": "code",
   "execution_count": null,
   "metadata": {},
   "outputs": [],
   "source": [
    "import matplotlib.pyplot as plt\n",
    "\n",
    "images = drData.iloc[0:50,1:]\n",
    "labels = drData.iloc[0:50,:1]\n",
    "\n",
    "for i in range(3,8):\n",
    "    plt.subplot(330 + (i+1))\n",
    "    img = images.iloc[i].as_matrix()\n",
    "    img = img.reshape((28,28))\n",
    "    plt.imshow(img,cmap='gray')\n",
    "    plt.title(labels.iloc[i,0])\n",
    "\n"
   ]
  },
  {
   "cell_type": "code",
   "execution_count": null,
   "metadata": {},
   "outputs": [],
   "source": [
    "from sklearn.neighbors import KNeighborsClassifier\n",
    "from sklearn.cross_validation import train_test_split\n",
    "\n",
    "images = drData.iloc[0:5000,1:]\n",
    "labels = drData.iloc[0:5000,:1]\n",
    "\n",
    "X_train, X_test, y_train, y_test = train_test_split(images, labels)\n",
    "\n",
    "knn = KNeighborsClassifier()\n",
    "\n",
    "knn.fit(X_train, y_train.values.ravel())\n",
    "X_test_predict = knn.predict(X_test)\n",
    "\n",
    "print(knn)\n",
    "print(\"Score: %s\\n\" % knn.score(X_test, y_test))\n"
   ]
  },
  {
   "cell_type": "code",
   "execution_count": null,
   "metadata": {},
   "outputs": [],
   "source": [
    "print X_test_predict[0:1000]"
   ]
  },
  {
   "cell_type": "code",
   "execution_count": null,
   "metadata": {},
   "outputs": [],
   "source": [
    "images = drData.iloc[0:41999,1:]\n",
    "labels = drData.iloc[0:41999,:1]\n",
    "\n",
    "X_train, X_test, y_train, y_test = train_test_split(images, labels)\n",
    "\n",
    "knn = KNeighborsClassifier()\n",
    "\n",
    "knn.fit(X_train, y_train.values.ravel())\n",
    "X_test_predict = knn.predict(X_test)\n",
    "\n",
    "print(knn)\n",
    "print(\"Score: %s\\n\" % knn.score(X_test, y_test))\n"
   ]
  },
  {
   "cell_type": "code",
   "execution_count": null,
   "metadata": {
    "collapsed": true
   },
   "outputs": [],
   "source": []
  }
 ],
 "metadata": {
  "kernelspec": {
   "display_name": "Python 2",
   "language": "python",
   "name": "python2"
  },
  "language_info": {
   "codemirror_mode": {
    "name": "ipython",
    "version": 2
   },
   "file_extension": ".py",
   "mimetype": "text/x-python",
   "name": "python",
   "nbconvert_exporter": "python",
   "pygments_lexer": "ipython2",
   "version": "2.7.14"
  }
 },
 "nbformat": 4,
 "nbformat_minor": 2
}
