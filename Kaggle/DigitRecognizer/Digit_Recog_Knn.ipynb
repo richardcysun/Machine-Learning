{
 "cells": [
  {
   "cell_type": "code",
   "execution_count": null,
   "metadata": {},
   "outputs": [],
   "source": [
    "import pandas as pd\n",
    "import numpy as np\n",
    "import matplotlib.pyplot as plt\n",
    "import seaborn as sn\n",
    "\n",
    "%matplotlib inline\n",
    "#panda is a read/write tool\n",
    "\n",
    "train_file = \"c:\\\\kaggle\\\\digit_recog\\\\train.csv\"\n",
    "test_file = \"c:\\\\kaggle\\\\digit_recog\\\\test.csv\"\n",
    "\n",
    "drData = pd.read_csv(train_file, header = 0)"
   ]
  },
  {
   "cell_type": "code",
   "execution_count": null,
   "metadata": {},
   "outputs": [],
   "source": [
    "drData.info()\n",
    "#drData.describe()\n",
    "\n",
    "drData.head()"
   ]
  },
  {
   "cell_type": "code",
   "execution_count": null,
   "metadata": {},
   "outputs": [],
   "source": [
    "images_sel = drData.iloc[0:50,1:]\n",
    "labels_sel = drData.iloc[0:50,:1]\n",
    "\n",
    "for i in range(0,8):\n",
    "    plt.subplot(330 + (i+1))\n",
    "    img = images_sel.iloc[i].as_matrix()\n",
    "    img = img.reshape((28,28))\n",
    "    plt.imshow(img,cmap='gray')\n",
    "    plt.title(labels_sel.iloc[i,0])\n"
   ]
  },
  {
   "cell_type": "code",
   "execution_count": null,
   "metadata": {},
   "outputs": [],
   "source": [
    "vData = drData.copy()\n",
    "images_sel = vData.iloc[0:50,1:]\n",
    "images_sel[images_sel > 0] = 1\n",
    "images_sel[images_sel <= 0] = 0\n",
    "\n",
    "for i in range(2,8):\n",
    "    plt.subplot(330 + (i+1))\n",
    "    img = images_sel.iloc[i].as_matrix()\n",
    "    img = img.reshape((28,28))\n",
    "    plt.imshow(img,cmap='gray')\n",
    "    plt.title(labels_sel.iloc[i,0])\n"
   ]
  },
  {
   "cell_type": "code",
   "execution_count": null,
   "metadata": {},
   "outputs": [],
   "source": [
    "from sklearn.neighbors import KNeighborsClassifier\n",
    "from sklearn.cross_validation import train_test_split\n",
    "from sklearn.metrics import confusion_matrix\n",
    "\n",
    "drData = pd.read_csv(train_file, header = 0)\n",
    "images = drData.iloc[0:10000,1:]\n",
    "labels = drData.iloc[0:10000,:1]\n",
    "images[images > 0] = 255\n",
    "images[images <= 140] = 0\n",
    "\n",
    "X_train, X_test, y_train, y_test = train_test_split(images, labels)"
   ]
  },
  {
   "cell_type": "code",
   "execution_count": null,
   "metadata": {},
   "outputs": [],
   "source": [
    "def tryKnnBestNeighborParam(nbList):\n",
    "    for idx, val in enumerate(nbList):\n",
    "        knn = KNeighborsClassifier(n_neighbors=val, n_jobs=-1)\n",
    "\n",
    "        knn.fit(X_train, y_train.values.ravel())\n",
    "        X_test_predict = knn.predict(X_test)\n",
    "\n",
    "        print(knn)\n",
    "        print(\"Score of neighbor %s: %s\\n\" % (val, knn.score(X_test, y_test)))\n",
    "        \n",
    "        #mat = confusion_matrix(y_test, X_test_predict)\n",
    "        \n",
    "        #df_cm = pd.DataFrame(mat, range(10), range(10))\n",
    "        #plt.figure(figsize = (10,7))\n",
    "        #sn.set(font_scale=1.4)#for label size\n",
    "        #sn.heatmap(df_cm, annot=True,annot_kws={\"size\": 16})# font size"
   ]
  },
  {
   "cell_type": "code",
   "execution_count": null,
   "metadata": {},
   "outputs": [],
   "source": [
    "#5 is the best\n",
    "nbList = [4,5,6,7,8]\n",
    "\n",
    "tryKnnBestNeighborParam(nbList)"
   ]
  },
  {
   "cell_type": "code",
   "execution_count": null,
   "metadata": {},
   "outputs": [],
   "source": [
    "def tryBestFilterParam(fltList):\n",
    "    for idx, val in enumerate(fltList):\n",
    "        drData = pd.read_csv(train_file, header = 0)\n",
    "        images = drData.iloc[0:10000,1:]\n",
    "        labels = drData.iloc[0:10000,:1]\n",
    "        images[images > val] = 255\n",
    "        images[images <= val] = 0\n",
    "\n",
    "        X_train, X_test, y_train, y_test = train_test_split(images, labels)\n",
    "\n",
    "        knn = KNeighborsClassifier(n_neighbors=5, n_jobs=-1)\n",
    "\n",
    "        knn.fit(X_train, y_train.values.ravel())\n",
    "        X_test_predict = knn.predict(X_test)\n",
    "\n",
    "        print(knn)\n",
    "        print(\"Score of filter %s: %s\\n\" % (val, knn.score(X_test, y_test)))"
   ]
  },
  {
   "cell_type": "code",
   "execution_count": null,
   "metadata": {},
   "outputs": [],
   "source": [
    "fltList = [0,35,70,105,140,175,210,245]\n",
    "\n",
    "tryBestFilterParam(fltList)"
   ]
  },
  {
   "cell_type": "code",
   "execution_count": null,
   "metadata": {},
   "outputs": [],
   "source": [
    "def tryBestAlgorithmParam(algList):\n",
    "    drData = pd.read_csv(train_file, header = 0)\n",
    "    images = drData.iloc[0:10000,1:]\n",
    "    labels = drData.iloc[0:10000,:1]\n",
    "    images[images > 0] = 255\n",
    "    images[images <= 0] = 0    \n",
    "    \n",
    "    #Test with fixed X,y\n",
    "    X_train, X_test, y_train, y_test = train_test_split(images, labels)\n",
    "    \n",
    "    for idx, val in enumerate(algList):\n",
    "        knn = KNeighborsClassifier(n_neighbors=5, n_jobs=-1, algorithm=val)\n",
    "\n",
    "        knn.fit(X_train, y_train.values.ravel())\n",
    "        X_test_predict = knn.predict(X_test)\n",
    "\n",
    "        print(knn)\n",
    "        print(\"Score of algorithm %s: %s\\n\" % (val, knn.score(X_test, y_test)))"
   ]
  },
  {
   "cell_type": "code",
   "execution_count": null,
   "metadata": {},
   "outputs": [],
   "source": [
    "# makes no difference\n",
    "algList = ['auto','ball_tree','kd_tree','brute']\n",
    "\n",
    "tryBestAlgorithmParam(algList)"
   ]
  },
  {
   "cell_type": "code",
   "execution_count": null,
   "metadata": {},
   "outputs": [],
   "source": [
    "def tryBestPvalue(pList):\n",
    "    drData = pd.read_csv(train_file, header = 0)\n",
    "    images = drData.iloc[0:10000,1:]\n",
    "    labels = drData.iloc[0:10000,:1]\n",
    "    images[images > 0] = 255    \n",
    "    images[images <= 0] = 0    \n",
    "    X_train, X_test, y_train, y_test = train_test_split(images, labels)\n",
    "    \n",
    "    for idx, val in enumerate(pList):\n",
    "        knn = KNeighborsClassifier(n_neighbors=5, n_jobs=-1, p=val)\n",
    "\n",
    "        knn.fit(X_train, y_train.values.ravel())\n",
    "        X_test_predict = knn.predict(X_test)\n",
    "\n",
    "        print(knn)\n",
    "        print(\"Score of P %s: %s\\n\" % (val, knn.score(X_test, y_test)))"
   ]
  },
  {
   "cell_type": "code",
   "execution_count": null,
   "metadata": {},
   "outputs": [],
   "source": [
    "# p=2 is better\n",
    "pList = [1,2]\n",
    "\n",
    "tryBestPvalue(pList)"
   ]
  },
  {
   "cell_type": "code",
   "execution_count": null,
   "metadata": {},
   "outputs": [],
   "source": [
    "def tryBestLeafParam(lfList):\n",
    "    drData = pd.read_csv(train_file, header = 0)\n",
    "    images = drData.iloc[0:10000,1:]\n",
    "    labels = drData.iloc[0:10000,:1]\n",
    "    images[images > 0] = 255  \n",
    "    images[images <= 0] = 0    \n",
    "    X_train, X_test, y_train, y_test = train_test_split(images, labels)\n",
    "    \n",
    "    for idx, val in enumerate(lfList):\n",
    "        knn = KNeighborsClassifier(n_neighbors=5, n_jobs=-1, leaf_size=val)\n",
    "\n",
    "        knn.fit(X_train, y_train.values.ravel())\n",
    "        X_test_predict = knn.predict(X_test)\n",
    "\n",
    "        print(knn)\n",
    "        print(\"Score of Leaf Size %s: %s\\n\" % (val, knn.score(X_test, y_test)))"
   ]
  },
  {
   "cell_type": "code",
   "execution_count": null,
   "metadata": {},
   "outputs": [],
   "source": [
    "lfList = [10,20,30,40,50]\n",
    "\n",
    "tryBestLeafParam(lfList)"
   ]
  },
  {
   "cell_type": "code",
   "execution_count": null,
   "metadata": {},
   "outputs": [],
   "source": [
    "def tryBestWeightsParam(wtList):\n",
    "    drData = pd.read_csv(train_file, header = 0)\n",
    "    images = drData.iloc[0:10000,1:]\n",
    "    labels = drData.iloc[0:10000,:1]\n",
    "    images[images > 0] = 255    \n",
    "    images[images <= 0] = 0    \n",
    "    X_train, X_test, y_train, y_test = train_test_split(images, labels)\n",
    "    \n",
    "    for idx, val in enumerate(wtList):\n",
    "        knn = KNeighborsClassifier(n_neighbors=5, n_jobs=-1, leaf_size=20, weights=val)\n",
    "\n",
    "        knn.fit(X_train, y_train.values.ravel())\n",
    "        X_test_predict = knn.predict(X_test)\n",
    "\n",
    "        print(knn)\n",
    "        print(\"Score of Weight %s: %s\\n\" % (val, knn.score(X_test, y_test)))"
   ]
  },
  {
   "cell_type": "code",
   "execution_count": null,
   "metadata": {},
   "outputs": [],
   "source": [
    "# distance is better\n",
    "lfList = ['uniform','distance']\n",
    "\n",
    "tryBestWeightsParam(lfList)"
   ]
  },
  {
   "cell_type": "code",
   "execution_count": null,
   "metadata": {},
   "outputs": [],
   "source": [
    "def tryScaleAffection(scaleList):\n",
    "    for idx, val in enumerate(scaleList):\n",
    "        drData = pd.read_csv(train_file, header = 0)\n",
    "        images = drData.iloc[0:val,1:]\n",
    "        labels = drData.iloc[0:val,:1]\n",
    "        images[images > 0] = 255\n",
    "        images[images <= 0] = 0\n",
    "        \n",
    "        X_train, X_test, y_train, y_test = train_test_split(images, labels)\n",
    "\n",
    "        knn = KNeighborsClassifier(n_neighbors=5, n_jobs=-1, leaf_size=20, weights='distance')\n",
    "\n",
    "        knn.fit(X_train, y_train.values.ravel())\n",
    "        X_test_predict = knn.predict(X_test)\n",
    "\n",
    "        print(knn)\n",
    "        print(\"Score of scale %d: %s\\n\" % (val, knn.score(X_test, y_test)))"
   ]
  },
  {
   "cell_type": "code",
   "execution_count": null,
   "metadata": {},
   "outputs": [],
   "source": [
    "scaleList = [20000,30000,40000]\n",
    "\n",
    "tryScaleAffection(scaleList)"
   ]
  },
  {
   "cell_type": "code",
   "execution_count": null,
   "metadata": {},
   "outputs": [],
   "source": [
    "drData = pd.read_csv(train_file, header = 0)\n",
    "images = drData.iloc[0:41999,1:]\n",
    "labels = drData.iloc[0:41999,:1]\n",
    "images[images > 0] = 255\n",
    "images[images <= 0] = 0    \n",
    "\n",
    "X_train, X_test, y_train, y_test = train_test_split(images, labels)\n",
    "\n",
    "knn = KNeighborsClassifier(n_neighbors=5, n_jobs=-1, leaf_size=20, weights='distance')\n",
    "\n",
    "knn.fit(X_train, y_train.values.ravel())\n",
    "X_test_predict = knn.predict(X_test)\n",
    "\n",
    "print(knn)\n",
    "print(\"Score: %s\\n\" % (knn.score(X_test, y_test)))\n",
    "    "
   ]
  },
  {
   "cell_type": "code",
   "execution_count": null,
   "metadata": {},
   "outputs": [],
   "source": [
    "drTest = pd.read_csv(test_file, header = 0)"
   ]
  },
  {
   "cell_type": "code",
   "execution_count": null,
   "metadata": {},
   "outputs": [],
   "source": [
    "drTest.info()\n",
    "drTest.head()"
   ]
  },
  {
   "cell_type": "code",
   "execution_count": null,
   "metadata": {},
   "outputs": [],
   "source": [
    "drTest_predict = knn.predict(drTest)\n",
    "\n",
    "# compare with the almost data\n",
    "almost_perfect_file = \"c:\\\\kaggle\\\\digit_recog\\\\almost_perfect.csv\"\n",
    "almostPref = pd.read_csv(almost_perfect_file, header = 0)\n",
    "alpSurv = almostPref['Label']\n",
    "\n",
    "idx = 0\n",
    "okay = 0\n",
    "for ti_pred in drTest_predict:\n",
    "    if ti_pred == alpSurv.iloc[idx]:\n",
    "        okay += 1\n",
    "    idx += 1\n",
    "\n",
    "print(okay)\n",
    "print(idx)"
   ]
  },
  {
   "cell_type": "code",
   "execution_count": null,
   "metadata": {},
   "outputs": [],
   "source": [
    "submission = pd.DataFrame(\n",
    "    {\n",
    "        'ImageId': list(range(1,len(drTest_predict)+1)), \n",
    "        'Label': drTest_predict\n",
    "    })\n",
    "\n",
    "submission.to_csv('c:\\\\kaggle\\\\digit_recog\\\\submission_knn.csv', index=False, header=True)"
   ]
  },
  {
   "cell_type": "code",
   "execution_count": null,
   "metadata": {},
   "outputs": [],
   "source": [
    "images_sel = drTest.iloc[0:50,0:]\n",
    "\n",
    "for i in range(10,18):\n",
    "    plt.subplot(330 + (i+1))\n",
    "    img = images_sel.iloc[i].as_matrix()\n",
    "    img = img.reshape((28,28))\n",
    "    plt.imshow(img,cmap='gray')"
   ]
  },
  {
   "cell_type": "code",
   "execution_count": null,
   "metadata": {},
   "outputs": [],
   "source": []
  }
 ],
 "metadata": {
  "kernelspec": {
   "display_name": "Python 3",
   "language": "python",
   "name": "python3"
  },
  "language_info": {
   "codemirror_mode": {
    "name": "ipython",
    "version": 3
   },
   "file_extension": ".py",
   "mimetype": "text/x-python",
   "name": "python",
   "nbconvert_exporter": "python",
   "pygments_lexer": "ipython3",
   "version": "3.6.4"
  }
 },
 "nbformat": 4,
 "nbformat_minor": 2
}
