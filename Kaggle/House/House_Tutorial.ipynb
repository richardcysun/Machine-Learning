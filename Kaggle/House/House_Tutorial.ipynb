{
 "cells": [
  {
   "cell_type": "code",
   "execution_count": null,
   "metadata": {
    "collapsed": true
   },
   "outputs": [],
   "source": [
    "import numpy as np\n",
    "import pandas as pd\n",
    "import matplotlib.pyplot as plt\n",
    "import seaborn as sns\n",
    "\n",
    "def rmsle(y_true,y_pred):\n",
    "   assert len(y_true) == len(y_pred)\n",
    "   return np.square(np.log(y_pred + 1) - np.log(y_true + 1)).mean() ** 0.5\n",
    "\n",
    "def MaxMinNorm10(df, df_scale):\n",
    "    df_nom = ((df - df_scale.min())/(df_scale.max()-df_scale.min()))*10\n",
    "    return df_nom\n",
    "\n",
    "def DrawBar(data_name):\n",
    "    d_bar = hsData.pivot_table(index=data_name, values=\"SalePrice\", aggfunc=np.median)\n",
    "\n",
    "    d_bar_sorted = d_bar.sort_values(by=\"SalePrice\")\n",
    "    d_bar_sorted.plot(kind=\"bar\", color=\"blue\")\n",
    "\n",
    "    plt.xlabel(data_name)\n",
    "    plt.ylabel('SalePrice')\n",
    "    plt.show()\n",
    "    \n",
    "    print('Count of Values')\n",
    "    print hsData[data_name].value_counts()\n",
    "    print('\\nPercentage of Values')\n",
    "    print hsData[data_name].value_counts()/hsData[data_name].count()\n",
    "    \n",
    "    \n",
    "    d_size = d_bar_sorted.size\n",
    "    idStr = d_bar_sorted.iloc[:d_size].index\n",
    "    idVal = d_bar_sorted.values\n",
    "        \n",
    "    strIdx = '['\n",
    "    for ele in idStr:\n",
    "        if len(strIdx) > 2:\n",
    "            strIdx += ','    \n",
    "        strIdx += \"\\'\"\n",
    "        strIdx += str(ele)\n",
    "        strIdx += \"\\'\"\n",
    "\n",
    "    strIdx += ']'\n",
    "    print strIdx\n",
    "\n",
    "    strVal = '['\n",
    "    for ele in idVal:\n",
    "        if len(strVal) > 2:\n",
    "            strVal += ','          \n",
    "        strVal += str(int(ele))\n",
    "    strVal +=']'\n",
    "        \n",
    "    print strVal"
   ]
  },
  {
   "cell_type": "code",
   "execution_count": null,
   "metadata": {},
   "outputs": [],
   "source": [
    "import sklearn.metrics as metrics\n",
    "\n",
    "trueData = pd.Series([10,10,10,10,10,10,10,10,10,10])\n",
    "predA = pd.Series([8,12,8,12,8,12,8,12,8,12]) #sum(diff) = 20\n",
    "predB = pd.Series([9,11,9,11,9,11,9,11,9,21]) #sum(diff) = 20\n",
    "predC = pd.Series([9.9,10.1,9.9,10.1,9.9,10.1,9.9,10.1,9.9,29.1]) #sum(diff) = 20\n",
    "\n",
    "print metrics.mean_squared_error(trueData, predA)\n",
    "print metrics.mean_squared_error(trueData, predB)\n",
    "print metrics.mean_squared_error(trueData, predC)"
   ]
  },
  {
   "cell_type": "code",
   "execution_count": null,
   "metadata": {},
   "outputs": [],
   "source": [
    "import sklearn.metrics as metrics\n",
    "\n",
    "trueData = pd.Series([10,10,10,10,10,10,10,10,10,10])\n",
    "predA = pd.Series([8,12,8,12,8,12,8,12,8,12]) #sum(diff) = 20\n",
    "predB = pd.Series([9,11,9,11,9,11,9,11,9,21]) #sum(diff) = 20\n",
    "predC = pd.Series([9.9,10.1,9.9,10.1,9.9,10.1,9.9,10.1,9.9,29.1]) #sum(diff) = 20\n",
    "\n",
    "print rmsle(trueData, predA)\n",
    "print rmsle(trueData, predB)\n",
    "print rmsle(trueData, predC)"
   ]
  },
  {
   "cell_type": "code",
   "execution_count": null,
   "metadata": {},
   "outputs": [],
   "source": [
    "numeric_features = hsData.select_dtypes(include=[np.number])\n",
    "corr = numeric_features.corr()\n",
    "print (corr['SalePrice'].sort_values(ascending=False)[:5], '\\n')"
   ]
  },
  {
   "cell_type": "code",
   "execution_count": null,
   "metadata": {},
   "outputs": [],
   "source": [
    "train_file = \"c:\\\\kaggle\\\\house\\\\train.csv\"\n",
    "hsData = pd.read_csv(train_file, header = 0)\n",
    "\n",
    "#hsData.info()\n",
    "#hsData.describe(include=[np.number])\n",
    "hsData['Neighborhood'].unique()"
   ]
  },
  {
   "cell_type": "markdown",
   "metadata": {},
   "source": [
    "In following cells, demo GrLivArea with raw, log and square"
   ]
  },
  {
   "cell_type": "code",
   "execution_count": null,
   "metadata": {},
   "outputs": [],
   "source": [
    "plt.scatter(x=hsData[\"GrLivArea\"], y=hsData[\"SalePrice\"])\n",
    "plt.grid(True)\n",
    "plt.ylabel(\"SalePrice\")\n",
    "plt.xlabel(\"GrLivArea\")\n",
    "plt.show()"
   ]
  },
  {
   "cell_type": "code",
   "execution_count": null,
   "metadata": {},
   "outputs": [],
   "source": [
    "plt.scatter(x=hsData[\"GrLivArea\"], y=np.log(hsData[\"SalePrice\"]))\n",
    "plt.grid(True)\n",
    "plt.ylabel(\"Ln of SalePrice\")\n",
    "plt.xlabel(\"GrLivArea\")\n",
    "plt.show()"
   ]
  },
  {
   "cell_type": "code",
   "execution_count": null,
   "metadata": {},
   "outputs": [],
   "source": [
    "plt.scatter(x=np.log(hsData[\"GrLivArea\"]), y=np.log(hsData[\"SalePrice\"]))\n",
    "plt.grid(True)\n",
    "plt.ylabel(\"Ln of SalePrice\")\n",
    "plt.xlabel(\"Ln of GrLivArea\")\n",
    "plt.show()"
   ]
  },
  {
   "cell_type": "code",
   "execution_count": null,
   "metadata": {},
   "outputs": [],
   "source": [
    "plt.scatter(x=hsData[\"GrLivArea\"], y=np.square(hsData[\"SalePrice\"]))\n",
    "plt.grid(True)\n",
    "plt.ylabel(\"Sq of SalePrice\")\n",
    "plt.xlabel(\"GrLivArea\")\n",
    "plt.show()"
   ]
  },
  {
   "cell_type": "code",
   "execution_count": null,
   "metadata": {},
   "outputs": [],
   "source": [
    "plt.scatter(x=np.square(hsData[\"GrLivArea\"]), y=np.square(hsData[\"SalePrice\"]))\n",
    "plt.grid(True)\n",
    "plt.ylabel(\"Sq of SalePrice\")\n",
    "plt.xlabel(\"Sq of GrLivArea\")\n",
    "plt.show()"
   ]
  },
  {
   "cell_type": "markdown",
   "metadata": {},
   "source": [
    "In followings cells, demo how to trim GrLivArea (3500, 4000)"
   ]
  },
  {
   "cell_type": "code",
   "execution_count": null,
   "metadata": {},
   "outputs": [],
   "source": [
    "hsData_lv_trim = hsData.copy()\n",
    "hsData_lv_trim = hsData[hsData[\"GrLivArea\"] < 4000]\n",
    "plt.scatter(x=hsData_lv_trim[\"GrLivArea\"], y=hsData_lv_trim[\"SalePrice\"])\n",
    "plt.grid(True)\n",
    "plt.ylabel(\"SalePrice\")\n",
    "plt.xlabel(\"GrLivArea < 4000\")\n",
    "plt.show()"
   ]
  },
  {
   "cell_type": "code",
   "execution_count": null,
   "metadata": {},
   "outputs": [],
   "source": [
    "hsData_lv_trim = hsData.copy()\n",
    "hsData_lv_trim = hsData[hsData[\"GrLivArea\"] < 4000]\n",
    "plt.scatter(x=np.log(hsData_lv_trim[\"GrLivArea\"]), y=np.log(hsData_lv_trim[\"SalePrice\"]))\n",
    "plt.grid(True)\n",
    "plt.ylabel(\"Ln of SalePrice\")\n",
    "plt.xlabel(\"Ln of (GrLivArea < 4000)\")\n",
    "plt.show()"
   ]
  },
  {
   "cell_type": "markdown",
   "metadata": {},
   "source": [
    "Demo Label Encoder and One-Hot Encoder for Condition1"
   ]
  },
  {
   "cell_type": "code",
   "execution_count": null,
   "metadata": {},
   "outputs": [],
   "source": [
    "print(hsData['Condition1'].head(10))\n",
    "print(hsData['Condition1'].unique())"
   ]
  },
  {
   "cell_type": "code",
   "execution_count": null,
   "metadata": {},
   "outputs": [],
   "source": [
    "DrawBar('Condition1')"
   ]
  },
  {
   "cell_type": "code",
   "execution_count": null,
   "metadata": {
    "collapsed": true
   },
   "outputs": [],
   "source": [
    "from sklearn.preprocessing import LabelEncoder\n",
    "\n",
    "label_encoder = LabelEncoder()\n",
    "label_encoder.fit(hsData['Condition1'])\n",
    "condition1_label = label_encoder.transform(hsData['Condition1'])"
   ]
  },
  {
   "cell_type": "code",
   "execution_count": null,
   "metadata": {},
   "outputs": [],
   "source": [
    "d_bar = hsData.pivot_table(index=condition1_label, values=\"SalePrice\", aggfunc=np.median)\n",
    "\n",
    "d_bar_sorted = d_bar.sort_values(by=\"SalePrice\")\n",
    "d_bar_sorted.plot(kind=\"bar\", color=\"blue\")\n",
    "\n",
    "plt.xlabel('Label Encoder of Condition1')\n",
    "plt.ylabel('SalePrice')\n",
    "plt.show()"
   ]
  },
  {
   "cell_type": "code",
   "execution_count": null,
   "metadata": {},
   "outputs": [],
   "source": [
    "pd.get_dummies(hsData['Condition1'])"
   ]
  },
  {
   "cell_type": "code",
   "execution_count": null,
   "metadata": {
    "collapsed": true
   },
   "outputs": [],
   "source": [
    "hsData['LotFrontage'] = hsData['LotFrontage'].fillna(hsData['LotFrontage'].mean())\n",
    "hsData['MasVnrArea'] = hsData['MasVnrArea'].fillna(0)\n",
    "hsData['GarageYrBlt'] = hsData['GarageYrBlt'].fillna(0)"
   ]
  },
  {
   "cell_type": "code",
   "execution_count": null,
   "metadata": {},
   "outputs": [],
   "source": [
    "num_train_features = hsData.select_dtypes(include=[np.number])\n",
    "num_train_features = num_train_features.drop(['Id', 'SalePrice'], axis=1)"
   ]
  },
  {
   "cell_type": "code",
   "execution_count": null,
   "metadata": {},
   "outputs": [],
   "source": [
    "from sklearn.linear_model import LinearRegression\n",
    "from sklearn.cross_validation import train_test_split\n",
    "\n",
    "X = num_train_features\n",
    "y = hsData['SalePrice']\n",
    "\n",
    "X_train, X_test, y_train, y_test = train_test_split(X, y)\n",
    "\n",
    "mdl = LinearRegression()\n",
    "mdl.fit(X_train, y_train)\n",
    "\n",
    "X_test_predict = mdl.predict(X_test)\n",
    "\n",
    "print(mdl)\n",
    "print(\"RMSLE: %s\\n\" % rmsle(y_test, X_test_predict))"
   ]
  },
  {
   "cell_type": "code",
   "execution_count": null,
   "metadata": {},
   "outputs": [],
   "source": [
    "hsData = hsData[hsData[\"GrLivArea\"] < 4000]\n",
    "\n",
    "num_train_features = hsData.select_dtypes(include=[np.number])\n",
    "num_train_features['SalePrice'] = np.log(num_train_features['SalePrice'])\n",
    "num_train_features['GrLivArea'] = np.log(num_train_features['GrLivArea'])\n",
    "\n",
    "corr = num_train_features.corr()\n",
    "print (corr['SalePrice'].sort_values(ascending=False)[:5], '\\n')\n",
    "\n",
    "num_train_features = num_train_features.drop(['Id', 'SalePrice'], axis=1)"
   ]
  },
  {
   "cell_type": "code",
   "execution_count": null,
   "metadata": {},
   "outputs": [],
   "source": [
    "X = num_train_features\n",
    "y = np.log(hsData['SalePrice'])\n",
    "\n",
    "X_train, X_test, y_train, y_test = train_test_split(X, y)\n",
    "\n",
    "mdl = LinearRegression()\n",
    "mdl.fit(X_train, y_train)\n",
    "\n",
    "X_test_predict = mdl.predict(X_test)\n",
    "\n",
    "X_test_predict = np.exp(X_test_predict)\n",
    "y_test = np.exp(y_test)\n",
    "\n",
    "print(mdl)\n",
    "print(\"RMSLE: %s\\n\" % rmsle(y_test, X_test_predict))"
   ]
  },
  {
   "cell_type": "code",
   "execution_count": null,
   "metadata": {},
   "outputs": [],
   "source": [
    "hsData = hsData[hsData[\"GrLivArea\"] < 4000]\n",
    "hsData['Condition1'] = label_encoder.transform(hsData['Condition1'])\n",
    "\n",
    "num_train_features = hsData.select_dtypes(include=[np.number])\n",
    "num_train_features['SalePrice'] = np.log(num_train_features['SalePrice'])\n",
    "num_train_features['GrLivArea'] = np.log(num_train_features['GrLivArea'])\n",
    "\n",
    "corr = num_train_features.corr()\n",
    "print (corr['SalePrice'].sort_values(ascending=False)[:5], '\\n')\n",
    "\n",
    "num_train_features = num_train_features.drop(['Id', 'SalePrice'], axis=1)"
   ]
  },
  {
   "cell_type": "code",
   "execution_count": null,
   "metadata": {},
   "outputs": [],
   "source": [
    "X = num_train_features\n",
    "y = np.log(hsData['SalePrice'])\n",
    "\n",
    "X_train, X_test, y_train, y_test = train_test_split(X, y)\n",
    "\n",
    "mdl = LinearRegression()\n",
    "mdl.fit(X_train, y_train)\n",
    "\n",
    "X_test_predict = mdl.predict(X_test)\n",
    "\n",
    "X_test_predict = np.exp(X_test_predict)\n",
    "y_test = np.exp(y_test)\n",
    "\n",
    "print(mdl)\n",
    "print(\"RMSLE: %s\\n\" % rmsle(y_test, X_test_predict))"
   ]
  },
  {
   "cell_type": "code",
   "execution_count": null,
   "metadata": {
    "collapsed": true
   },
   "outputs": [],
   "source": []
  }
 ],
 "metadata": {
  "kernelspec": {
   "display_name": "Python 2",
   "language": "python",
   "name": "python2"
  },
  "language_info": {
   "codemirror_mode": {
    "name": "ipython",
    "version": 2
   },
   "file_extension": ".py",
   "mimetype": "text/x-python",
   "name": "python",
   "nbconvert_exporter": "python",
   "pygments_lexer": "ipython2",
   "version": "2.7.14"
  }
 },
 "nbformat": 4,
 "nbformat_minor": 2
}
