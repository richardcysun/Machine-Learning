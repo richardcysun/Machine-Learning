{
 "cells": [
  {
   "cell_type": "code",
   "execution_count": null,
   "metadata": {
    "collapsed": true
   },
   "outputs": [],
   "source": [
    "import numpy as np\n",
    "import pandas as pd\n",
    "\n",
    "ames_file = \"c:\\\\house\\\\AmesHousing.csv\"\n",
    "test_file = \"c:\\\\house\\\\test.csv\"\n",
    "\n",
    "hsAmes = pd.read_csv(ames_file, header = 0)\n",
    "hsAmes = hsAmes.drop(['Order','PID'], axis=1)\n",
    "\n",
    "hsAmes.info()"
   ]
  },
  {
   "cell_type": "code",
   "execution_count": null,
   "metadata": {
    "collapsed": true
   },
   "outputs": [],
   "source": [
    "hsTest = pd.read_csv(test_file, header = 0)\n",
    "hsTest['SalePrice'] = pd.Series(0, index=hsTest.index)\n",
    "hsTest.info()"
   ]
  },
  {
   "cell_type": "code",
   "execution_count": null,
   "metadata": {
    "collapsed": true
   },
   "outputs": [],
   "source": [
    "for idx in range(0,1458):\n",
    "    res = hsAmes.loc[hsAmes['MSZoning'] == hsTest['MSZoning'].iloc[idx]]\n",
    "    res = res.loc[hsAmes['MSSubClass'] == hsTest['MSSubClass'].iloc[idx]]\n",
    "    res = res.loc[hsAmes['LotArea'] == hsTest['LotArea'].iloc[idx]]\n",
    "    res = res.loc[hsAmes['LotShape'] == hsTest['LotShape'].iloc[idx]]\n",
    "    res = res.loc[hsAmes['LotConfig'] == hsTest['LotConfig'].iloc[idx]]\n",
    "    res = res.loc[hsAmes['LandContour'] == hsTest['LandContour'].iloc[idx]]\n",
    "    res = res.loc[hsAmes['Neighborhood'] == hsTest['Neighborhood'].iloc[idx]]\n",
    "    res = res.loc[hsAmes['YrSold'] == hsTest['YrSold'].iloc[idx]]\n",
    "    res = res.loc[hsAmes['MoSold'] == hsTest['MoSold'].iloc[idx]]\n",
    "    res = res.loc[hsAmes['SaleCondition'] == hsTest['SaleCondition'].iloc[idx]]\n",
    "    res = res.loc[hsAmes['YearBuilt'] == hsTest['YearBuilt'].iloc[idx]]\n",
    "    \n",
    "    if res.shape[0] != 1:\n",
    "        #print res.shape[0]\n",
    "        print('ID: %s no found!' % hsTest['Id'].iloc[idx])\n",
    "    else:\n",
    "        #print res['SalePrice']\n",
    "        hsTest['SalePrice'].iloc[[idx]] = res['SalePrice'].values\n",
    "        #print('ID: %s at %d Price: %s' % (hsTest['Id'].iloc[idx], idx, hsTest['SalePrice'].iloc[idx]))"
   ]
  },
  {
   "cell_type": "code",
   "execution_count": null,
   "metadata": {
    "collapsed": true
   },
   "outputs": [],
   "source": [
    "print hsTest['SalePrice']\n",
    "\n",
    "res_file = 'c:\\\\house\\\\test_from_ames.csv'\n",
    "\n",
    "result = pd.DataFrame({\n",
    "        \"Id\": hsTest[\"Id\"],\n",
    "        \"SalePrice\": hsTest[\"SalePrice\"]\n",
    "    })\n",
    "\n",
    "result.to_csv(res_file, index=False)\n"
   ]
  },
  {
   "cell_type": "code",
   "execution_count": null,
   "metadata": {
    "collapsed": true
   },
   "outputs": [],
   "source": [
    "idx = 393\n",
    "res = hsAmes.loc[hsAmes['MSZoning'] == hsTest['MSZoning'].iloc[idx]]\n",
    "print res.shape[0]\n",
    "res = res.loc[hsAmes['MSSubClass'] == hsTest['MSSubClass'].iloc[idx]]\n",
    "print res.shape[0]\n",
    "res = res.loc[hsAmes['LotShape'] == hsTest['LotShape'].iloc[idx]]\n",
    "print res.shape[0]\n",
    "res = res.loc[hsAmes['LotArea'] == hsTest['LotArea'].iloc[idx]]\n",
    "print res.shape[0]\n",
    "res = res.loc[hsAmes['LotConfig'] == hsTest['LotConfig'].iloc[idx]]\n",
    "print res.shape[0]\n",
    "res = res.loc[hsAmes['LandContour'] == hsTest['LandContour'].iloc[idx]]\n",
    "print res.shape[0]\n",
    "res = res.loc[hsAmes['Neighborhood'] == hsTest['Neighborhood'].iloc[idx]]\n",
    "print res.shape[0]\n",
    "res = res.loc[hsAmes['YrSold'] == hsTest['YrSold'].iloc[idx]]\n",
    "print res.shape[0]\n",
    "res = res.loc[hsAmes['MoSold'] == hsTest['MoSold'].iloc[idx]]\n",
    "print res.shape[0]\n",
    "res = res.loc[hsAmes['SaleCondition'] == hsTest['SaleCondition'].iloc[idx]]\n",
    "print res.shape[0]\n",
    "res = res.loc[hsAmes['YearBuilt'] == hsTest['YearBuilt'].iloc[idx]]\n",
    "print res.shape[0]\n",
    "\n",
    "#print res.info()\n",
    "\n",
    "if res.shape[0] == 1:\n",
    "    print('ID: %s found!' % hsTest['Id'].iloc[idx])\n",
    "    print res['SalePrice'].values\n",
    "else:\n",
    "    print('ID: %s no found!' % hsTest['Id'].iloc[idx])\n",
    "    print res\n"
   ]
  },
  {
   "cell_type": "code",
   "execution_count": null,
   "metadata": {
    "collapsed": true
   },
   "outputs": [],
   "source": []
  }
 ],
 "metadata": {
  "kernelspec": {
   "display_name": "Python 2",
   "language": "python",
   "name": "python2"
  },
  "language_info": {
   "codemirror_mode": {
    "name": "ipython",
    "version": 2
   },
   "file_extension": ".py",
   "mimetype": "text/x-python",
   "name": "python",
   "nbconvert_exporter": "python",
   "pygments_lexer": "ipython2",
   "version": "2.7.14"
  }
 },
 "nbformat": 4,
 "nbformat_minor": 2
}
