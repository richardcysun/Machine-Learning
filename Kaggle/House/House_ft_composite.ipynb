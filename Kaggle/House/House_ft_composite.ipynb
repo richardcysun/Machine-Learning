{
 "cells": [
  {
   "cell_type": "code",
   "execution_count": null,
   "metadata": {},
   "outputs": [],
   "source": [
    "import numpy as np\n",
    "import pandas as pd\n",
    "import matplotlib.pyplot as plt\n",
    "import seaborn as sns\n",
    "\n",
    "%matplotlib inline\n",
    "#panda is a read/write tool\n",
    "\n",
    "train_file = \"c:\\\\house\\\\train.csv\"\n",
    "test_file = \"c:\\\\house\\\\test.csv\"\n",
    "\n",
    "# comma delimited is the default\n",
    "hsData = pd.read_csv(train_file, header = 0)\n",
    "hsData.info()\n",
    "hsData.describe()\n",
    "\n",
    "hsData['House_Freshment'] = hsData['YearBuilt'] + hsData['YearRemodAdd']\n",
    "hsData['House_Freshment'].apply(lambda year: year - 3700)\n",
    "\n",
    "hsData['KitchenQual'].replace(['NA', 'Fa', 'TA', 'Gd', 'Ex'], [105565,115000,137000,201400,316750], inplace=True)\n",
    "\n",
    "hsData['Total_FlrSF'] = hsData['1stFlrSF'] + hsData['2ndFlrSF']\n",
    "hsData['Total_Bath'] = hsData['FullBath'] + hsData['BsmtFullBath'] + hsData['HalfBath']*0.5 + hsData['BsmtHalfBath']*0.5\n",
    "\n",
    "hsData['Exter_QQ'] = hsData['ExterQual'] + hsData['ExterCond']\n",
    "hsData['Exter_QQ'].replace(['FaFa', 'TAPo', 'FaTA', 'TAFa', 'TAEx', 'TATA', 'TAGd', 'GdGd', \\\n",
    "                             'GdTA', 'ExGd', 'ExEx', 'ExTA'], \\\n",
    "                             [61,77,99,119,140,140,140,210,221,267,325,374], inplace=True)\n",
    "\n",
    "hsData['BsmtQual'] = hsData['BsmtQual'].fillna('NA')\n",
    "hsData['BsmtCond'] = hsData['BsmtCond'].fillna('NA')\n",
    "hsData['Bsmt_QQ'] = hsData['BsmtQual'] + hsData['BsmtCond']\n",
    "hsData['Bsmt_QQ'].replace(['FaPo', 'NANA', 'FaTA', 'FaFa', 'TAFa', 'TATA', 'TAGd', 'GdFa', \\\n",
    "                            'GdTA', 'GdGd', 'ExGd', 'ExTA'], \\\n",
    "                             [64,112,114,114,114,135,164,182,192,199,275,318], inplace=True)\n",
    "\n",
    "hsData['GarageQual'] = hsData['GarageQual'].fillna('NA')\n",
    "hsData['GarageCond'] = hsData['GarageCond'].fillna('NA')\n",
    "hsData['Garage_QQ'] = hsData['GarageQual'] + hsData['GarageCond']\n",
    "\n",
    "hsData['Garage_QQ'].replace(['PoPo', 'NANA', 'FaFa', 'FaPo', 'FaTA', 'ExEx', 'TAFa', 'TAGd', \\\n",
    "                             'TATA', 'GdTA', 'GdGd', 'ExTA'], \\\n",
    "                             [97,100,110,116,116,125,125,144,171,209,227,475], inplace=True)\n",
    "\n",
    "hsData['Electrical'].replace(['Mix', 'FuseP', 'FuseF', 'FuseA', 'SBrkr'], [67000,82000,115000,121250,170000], inplace=True)\n",
    "\n",
    "hsTest = pd.read_csv(test_file, header = 0)\n",
    "hsTest.info()\n",
    "hsTest.describe()\n",
    "\n",
    "hsTest['Total_FlrSF'] = hsTest['1stFlrSF'] + hsTest['2ndFlrSF']\n",
    "\n",
    "hsTest['House_Freshment'] = hsData['YearBuilt'] + hsData['YearRemodAdd']\n",
    "hsTest['House_Freshment'].apply(lambda year: year - 3700)\n",
    "\n",
    "hsTest['Exter_QQ'] = hsTest['ExterQual'] + hsTest['ExterCond']\n",
    "hsTest['Exter_QQ'].replace(['FaFa', 'TAPo', 'FaTA', 'TAFa', 'TAEx', 'TATA', 'TAGd', 'GdGd', \\\n",
    "                             'GdTA', 'ExGd', 'ExEx', 'ExTA', \\\n",
    "                             'GdEx', 'FaPo', 'GdFa', 'GdFa'], \\\n",
    "                             [61,77,99,119,140,140,140,210, \\\n",
    "                              221,267,325,374, \\\n",
    "                              230,50,200,130], inplace=True)\n",
    "\n",
    "\n",
    "hsTest['BsmtQual'] = hsTest['BsmtQual'].fillna('NA')\n",
    "hsTest['BsmtCond'] = hsTest['BsmtCond'].fillna('NA')\n",
    "hsTest['Bsmt_QQ'] = hsTest['BsmtQual'] + hsTest['BsmtCond']\n",
    "hsTest['Bsmt_QQ'].replace(['FaPo', 'NANA', 'FaTA', 'FaFa', 'TAFa', 'TATA', 'TAGd', 'GdFa', \\\n",
    "                            'GdTA', 'GdGd', 'ExGd', 'ExTA', \\\n",
    "                            'ExPo', 'FaGd', 'GdNA', 'TANA', 'NAFa', 'NATA', 'TAPo', 'ExNA'], \\\n",
    "                             [64,112,114,114,114,135,164,182, \\\n",
    "                              192,199,275,318, \\\n",
    "                              250,114,175,114,114,135,112,250], inplace=True)\n",
    "'''\n",
    "submit_file = 'c:\\\\house\\\\Bsmt_QQ_test.csv'\n",
    "print submit_file\n",
    "submission = pd.DataFrame({\n",
    "        \"Id\": hsTest[\"Id\"],\n",
    "        \"Bsmt_QQ\": hsTest['Bsmt_QQ']\n",
    "    })\n",
    "\n",
    "submission.to_csv(submit_file, index=False)\n",
    "'''"
   ]
  },
  {
   "cell_type": "code",
   "execution_count": null,
   "metadata": {},
   "outputs": [],
   "source": [
    "numeric_features = hsData.select_dtypes(include=[np.number])\n",
    "numeric_features.dtypes\n",
    "\n",
    "corr = numeric_features.corr()\n",
    "\n",
    "print (corr['SalePrice'].sort_values(ascending=False)[:35], '\\n')\n",
    "print (corr['SalePrice'].sort_values(ascending=False)[-25:])"
   ]
  },
  {
   "cell_type": "code",
   "execution_count": null,
   "metadata": {},
   "outputs": [],
   "source": [
    "print('Total Floor sq ft max: %s min: %s' % (np.max(hsTest[\"Total_FlrSF\"]), np.min(hsTest[\"Total_FlrSF\"])))\n"
   ]
  },
  {
   "cell_type": "code",
   "execution_count": null,
   "metadata": {
    "collapsed": true
   },
   "outputs": [],
   "source": []
  }
 ],
 "metadata": {
  "kernelspec": {
   "display_name": "Python 2",
   "language": "python",
   "name": "python2"
  },
  "language_info": {
   "codemirror_mode": {
    "name": "ipython",
    "version": 2
   },
   "file_extension": ".py",
   "mimetype": "text/x-python",
   "name": "python",
   "nbconvert_exporter": "python",
   "pygments_lexer": "ipython2",
   "version": "2.7.14"
  }
 },
 "nbformat": 4,
 "nbformat_minor": 2
}
