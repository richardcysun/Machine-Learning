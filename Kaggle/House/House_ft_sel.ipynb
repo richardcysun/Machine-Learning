{
 "cells": [
  {
   "cell_type": "code",
   "execution_count": null,
   "metadata": {
    "collapsed": true
   },
   "outputs": [],
   "source": [
    "def getNeighborMedian(nbr):\n",
    "    if nbr == 'MeadowV':\n",
    "        return 88000 \n",
    "    elif nbr == 'IDOTRR':\n",
    "        return 103000\n",
    "    elif nbr == 'BrDale':\n",
    "        return 106000  \n",
    "    elif nbr == 'OldTown':\n",
    "        return 119000   \n",
    "    elif nbr == 'Edwards':\n",
    "        return 121750\n",
    "    elif nbr == 'BrkSide':\n",
    "        return 124300\n",
    "    elif nbr == 'Sawyer':\n",
    "        return 135000\n",
    "    elif nbr == 'Blueste':\n",
    "        return 137500\n",
    "    elif nbr == 'SWISU':\n",
    "        return 139500\n",
    "    elif nbr == 'NAmes':\n",
    "        return 140000\n",
    "    elif nbr == 'NPkVill':\n",
    "        return 146000\n",
    "    elif nbr == 'Mitchel':\n",
    "        return 153500\n",
    "    elif nbr == 'SawyerW':\n",
    "        return 179900    \n",
    "    elif nbr == 'Gilbert':\n",
    "        return 181000   \n",
    "    elif nbr == 'NWAmes':\n",
    "        return 182900    \n",
    "    elif nbr == 'Blmngtn':\n",
    "        return 191000   \n",
    "    elif nbr == 'CollgCr':\n",
    "        return 197200\n",
    "    elif nbr == 'ClearCr':\n",
    "        return 200250\n",
    "    elif nbr == 'Crawfor':\n",
    "        return 200624\n",
    "    elif nbr == 'Veenker':\n",
    "        return 218000\n",
    "    elif nbr == 'Somerst':\n",
    "        return 225500\n",
    "    elif nbr == 'Timber':\n",
    "        return 228475\n",
    "    elif nbr == 'StoneBr':\n",
    "        return 278000  \n",
    "    elif nbr == 'NoRidge':\n",
    "        return 301500   \n",
    "    elif nbr == 'NridgHt':\n",
    "        return 315000  "
   ]
  },
  {
   "cell_type": "code",
   "execution_count": null,
   "metadata": {},
   "outputs": [],
   "source": [
    "import numpy as np\n",
    "import pandas as pd\n",
    "import matplotlib.pyplot as plt\n",
    "import seaborn as sns\n",
    "\n",
    "%matplotlib inline\n",
    "#panda is a read/write tool\n",
    "\n",
    "train_file = \"c:\\\\house\\\\train.csv\"\n",
    "test_file = \"c:\\\\house\\\\test.csv\"\n",
    "\n",
    "# comma delimited is the default\n",
    "hsData = pd.read_csv(train_file, header = 0)\n",
    "\n",
    "\n",
    "hsData['House_Freshment'] = hsData['YearBuilt'] + hsData['YearRemodAdd']\n",
    "hsData['House_Freshment'].apply(lambda year: year - 3700)\n",
    "\n",
    "hsData['FireplaceQu'] = hsData['FireplaceQu'].fillna('NA')\n",
    "\n",
    "hsData['Neighborhood_Median'] = hsData['Neighborhood'].apply(getNeighborMedian)\n",
    "\n",
    "hsData['Total_FlrSF'] = hsData['1stFlrSF'] + hsData['2ndFlrSF']\n",
    "#hsData = hsData[hsData[\"Total_FlrSF\"] < 4000]\n",
    "#hsData = hsData[hsData[\"Total_FlrSF\"] > 500]\n",
    "#hsData = hsData[hsData[\"GrLivArea\"] < 2500]\n",
    "#hsData = hsData[hsData[\"Overall_QQ\"] < 100]\n",
    "#hsData = hsData[hsData[\"Overall_QQ\"] > 30]\n",
    "\n",
    "hsData['Porch_SF'] = hsData['OpenPorchSF'] + hsData['EnclosedPorch'] + hsData['3SsnPorch'] + hsData['ScreenPorch']\n",
    "\n",
    "\n",
    "hsData['MSSubClass'] = hsData['MSSubClass'].apply(str)\n",
    "hsData['MS_Zone_Class'] = hsData['MSZoning'] + hsData['MSSubClass']\n",
    "msc_median = hsData.pivot_table(index=\"MS_Zone_Class\", values=\"SalePrice\", aggfunc=np.median)\n",
    "\n",
    "for i, item in enumerate(msc_median.index):\n",
    "    hsData.loc[hsData['MS_Zone_Class'] == msc_median.index[i],'MS_Zone_Class'] = msc_median.values[i]\n",
    "\n",
    "hsData['MS_Zone_Class'] = pd.to_numeric(hsData['MS_Zone_Class'], errors='coerce')    \n",
    "\n",
    "hsData['Exter_QQ'] = hsData['ExterQual'] + hsData['ExterCond']\n",
    "\n",
    "\n",
    "hsData['Air_OQ'] = hsData['CentralAir']*10 + hsData['HeatingQC']\n",
    "\n",
    "hsData['Exterior_Mix'] = hsData['Exterior1st'] + hsData['Exterior2nd']\n",
    "'''\n",
    "ex_bar = hsData.pivot_table(index=\"Exterior_Mix\", values=\"SalePrice\", aggfunc=np.median)\n",
    "\n",
    "for i, item in enumerate(ex_bar.index):\n",
    "    hsData.loc[hsData['Exterior_Mix'] == ex_bar.index[i],'Exterior_Mix'] = ex_bar.values[i]\n",
    "    \n",
    "hsData['Exterior_Mix'] = pd.to_numeric(hsData['Exterior_Mix'], errors='coerce')    \n",
    "'''\n",
    "\n",
    "hsData['Conditions'] = hsData['Condition1'] + hsData['Condition2']\n",
    "\n",
    "hsData['BsmtQual'] = hsData['BsmtQual'].fillna('NA')\n",
    "hsData['BsmtCond'] = hsData['BsmtCond'].fillna('NA')\n",
    "hsData['Bsmt_QQ'] = hsData['BsmtQual'] + hsData['BsmtCond']\n",
    "\n",
    "\n",
    "#0.27 before\n",
    "hsData['GarageQual'] = hsData['GarageQual'].fillna('NA')\n",
    "hsData['GarageCond'] = hsData['GarageCond'].fillna('NA')\n",
    "hsData['Garage_QQ'] = hsData['GarageQual'] + hsData['GarageCond']\n",
    "\n",
    "hsData.info()\n",
    "#hsData.describe()\n"
   ]
  },
  {
   "cell_type": "code",
   "execution_count": null,
   "metadata": {},
   "outputs": [],
   "source": [
    "numeric_features = hsData.select_dtypes(include=[np.number])\n",
    "numeric_features.dtypes\n",
    "\n",
    "corr = numeric_features.corr()\n",
    "\n",
    "print (corr['SalePrice'].sort_values(ascending=False)[:30], '\\n')\n",
    "print (corr['SalePrice'].sort_values(ascending=False)[-30:])"
   ]
  },
  {
   "cell_type": "code",
   "execution_count": null,
   "metadata": {},
   "outputs": [],
   "source": [
    "\n",
    "null_data = pd.DataFrame(hsData.isnull().sum().sort_values(ascending=False)[:25])\n",
    "null_data.columns = [\"Null Count\"]\n",
    "null_data.index.name = \"Feature\"\n",
    "null_data"
   ]
  },
  {
   "cell_type": "code",
   "execution_count": null,
   "metadata": {
    "collapsed": true
   },
   "outputs": [],
   "source": [
    "tmp_hsData = hsData.copy()\n",
    "\n",
    "msc_bar = hsData.pivot_table(index=\"MS_Zone_Class\", values=\"SalePrice\", aggfunc=np.median)\n",
    "\n",
    "msc_bar_sorted = msc_bar.sort_values(by=\"SalePrice\")\n",
    "msc_bar_sorted.plot(kind=\"bar\", color=\"blue\")\n",
    "\n",
    "plt.xlabel(\"general zoning classification\")\n",
    "plt.ylabel(\"Sale price\")\n",
    "plt.show()\n",
    "\n",
    "#print msc_bar_sorted\n",
    "\n",
    "for i, item in enumerate(msc_bar_sorted.index):\n",
    "    tmp_hsData.loc[tmp_hsData['MS_Zone_Class'] == msc_bar_sorted.index[i],'MS_Zone_Class'] = msc_bar_sorted.values[i]\n",
    "    \n",
    "tmp_hsData['MS_Zone_Class'] = pd.to_numeric(tmp_hsData['MS_Zone_Class'], errors='coerce')    \n",
    "#print tmp_hsData['MS_Zone_Class']\n"
   ]
  },
  {
   "cell_type": "code",
   "execution_count": null,
   "metadata": {
    "collapsed": true
   },
   "outputs": [],
   "source": [
    "#Not useful, too many zeros\n",
    "hsData_vnr_trim = hsData[hsData[\"MasVnrArea\"] < 10000]\n",
    "#hsData_vnr_trim = hsData_vnr_trim[hsData_flr_trim[\"MasVnrArea\"] > 500]\n",
    "\n",
    "plt.scatter(x=hsData_vnr_trim[\"MasVnrArea\"], y=np.log(hsData_vnr_trim[\"SalePrice\"]))\n",
    "plt.grid(True)\n",
    "plt.ylabel(\"Ln of Sale Price\")\n",
    "plt.xlabel(\"Masonry veneer area square feet\")\n",
    "plt.show()"
   ]
  },
  {
   "cell_type": "code",
   "execution_count": null,
   "metadata": {
    "collapsed": true
   },
   "outputs": [],
   "source": [
    "#Very useful\n",
    "hsData_flr_trim = hsData[hsData[\"Total_FlrSF\"] < 3500]\n",
    "hsData_flr_trim = hsData_flr_trim[hsData_flr_trim[\"Total_FlrSF\"] > 500]\n",
    "\n",
    "plt.scatter(x=hsData_flr_trim[\"Total_FlrSF\"], y=np.log(hsData_flr_trim[\"SalePrice\"]))\n",
    "plt.grid(True)\n",
    "plt.ylabel(\"Ln of Sale Price\")\n",
    "plt.xlabel(\"Floor square feet\")\n",
    "plt.show()"
   ]
  },
  {
   "cell_type": "code",
   "execution_count": null,
   "metadata": {
    "collapsed": true
   },
   "outputs": [],
   "source": [
    "rf_bar = hsData.pivot_table(index=\"RoofMatl\", values=\"SalePrice\", aggfunc=np.median)\n",
    "\n",
    "rf_bar_sorted = rf_bar.sort_values(by=\"SalePrice\")\n",
    "rf_bar_sorted.plot(kind=\"bar\", color=\"blue\")\n",
    "\n",
    "plt.xlabel(\"Roof material\")\n",
    "plt.ylabel(\"sale price\")\n",
    "plt.show()\n",
    "\n",
    "print rf_bar_sorted\n",
    "\n",
    "#hsData['RoofMatl'].replace(['Roll', 'ClyTile', 'CompShg', 'Tar&Grv', 'Metal', 'Membran', 'WdShake', 'WdShngl'], [137000,160000,162000,167000,180000,241500,242000,332500], inplace=True)"
   ]
  },
  {
   "cell_type": "code",
   "execution_count": null,
   "metadata": {},
   "outputs": [],
   "source": [
    "msc_bar = hsData.pivot_table(index=\"MSSubClass\", values=\"SalePrice\", aggfunc=np.median)\n",
    "\n",
    "msc_bar_sorted = msc_bar.sort_values(by=\"SalePrice\")\n",
    "msc_bar_sorted.plot(kind=\"bar\", color=\"blue\")\n",
    "\n",
    "plt.xlabel(\"MSSubClass\")\n",
    "plt.ylabel(\"Sale price\")\n",
    "plt.show()\n",
    "\n",
    "print msc_bar_sorted\n",
    "\n",
    "#hsData['MSSubClass'].replace(['180', '30', '45', '190', '50', '90', '85', '40', '160', '70', '20', '75', '80', '120', '60'], [88500,99900,107500,128250,132000,135980,140750,142500,146000,156000,159250,163500,166500,192000,215200], inplace=True)"
   ]
  },
  {
   "cell_type": "code",
   "execution_count": null,
   "metadata": {},
   "outputs": [],
   "source": [
    "mz_bar = hsData.pivot_table(index=\"MSZoning\", values=\"SalePrice\", aggfunc=np.median)\n",
    "\n",
    "mz_bar_sorted = mz_bar.sort_values(by=\"SalePrice\")\n",
    "mz_bar_sorted.plot(kind=\"bar\", color=\"blue\")\n",
    "\n",
    "plt.xlabel(\"MSZoning\")\n",
    "plt.ylabel(\"Sale price\")\n",
    "plt.show()\n",
    "\n",
    "print mz_bar_sorted\n",
    "\n",
    "#hsData['MSZoning'].replace(['C (all)','RM','RH','RL','FV'], [74700,120500,136500,174000,205950], inplace=True)"
   ]
  },
  {
   "cell_type": "code",
   "execution_count": null,
   "metadata": {},
   "outputs": [],
   "source": [
    "lc_bar = hsData.pivot_table(index=\"LotConfig\", values=\"SalePrice\", aggfunc=np.median)\n",
    "\n",
    "lc_bar_sorted = lc_bar.sort_values(by=\"SalePrice\")\n",
    "lc_bar_sorted.plot(kind=\"bar\", color=\"blue\")\n",
    "\n",
    "plt.xlabel(\"LotConfig\")\n",
    "plt.ylabel(\"Sale price\")\n",
    "plt.show()\n",
    "\n",
    "print lc_bar_sorted"
   ]
  },
  {
   "cell_type": "code",
   "execution_count": null,
   "metadata": {},
   "outputs": [],
   "source": [
    "ls_bar = hsData.pivot_table(index=\"LandSlope\", values=\"SalePrice\", aggfunc=np.median)\n",
    "\n",
    "ls_bar_sorted = ls_bar.sort_values(by=\"SalePrice\")\n",
    "ls_bar_sorted.plot(kind=\"bar\", color=\"blue\")\n",
    "\n",
    "plt.xlabel(\"LandSlope\")\n",
    "plt.ylabel(\"Sale price\")\n",
    "plt.show()\n",
    "\n",
    "print ls_bar_sorted"
   ]
  },
  {
   "cell_type": "code",
   "execution_count": null,
   "metadata": {},
   "outputs": [],
   "source": [
    "tmp_hsData = hsData.copy()\n",
    "\n",
    "ex_bar = hsData.pivot_table(index=\"Exterior_Mix\", values=\"SalePrice\", aggfunc=np.median)\n",
    "\n",
    "ex_bar_sorted = ex_bar.sort_values(by=\"SalePrice\")\n",
    "ex_bar_sorted.plot(kind=\"bar\", color=\"blue\")\n",
    "\n",
    "plt.xlabel(\"Exterior covering on house\")\n",
    "plt.ylabel(\"Sale price\")\n",
    "plt.show()\n",
    "\n",
    "#print ex_bar_sorted\n",
    "\n",
    "for i, item in enumerate(ex_bar.index):\n",
    "    tmp_hsData.loc[tmp_hsData['Exterior_Mix'] == ex_bar.index[i],'Exterior_Mix'] = ex_bar.values[i]\n",
    "    \n",
    "tmp_hsData['Exterior_Mix'] = pd.to_numeric(tmp_hsData['Exterior_Mix'], errors='coerce')    \n",
    "print tmp_hsData['MS_Zone_Class']"
   ]
  },
  {
   "cell_type": "code",
   "execution_count": null,
   "metadata": {
    "collapsed": true
   },
   "outputs": [],
   "source": [
    "ex1_bar = hsData.pivot_table(index=\"Exterior1st\", values=\"SalePrice\", aggfunc=np.median)\n",
    "\n",
    "ex1_bar_sorted = ex1_bar.sort_values(by=\"SalePrice\")\n",
    "ex1_bar_sorted.plot(kind=\"bar\", color=\"blue\")\n",
    "\n",
    "\n",
    "plt.xlabel(\"Exterior covering on house\")\n",
    "plt.ylabel(\"Sale price\")\n",
    "plt.show()\n",
    "\n",
    "print ex1_bar_sorted\n",
    "\n",
    "#hsData['Exterior1st'].replace(['BrkComm', 'AsphShn', 'CBlock', 'AsbShng', 'WdShing', 'Wd Sdng', 'MetalSd', 'Stucco', 'HdBoard', 'BrkFace', 'Plywood', 'VinylSd', 'CemntBd', 'Stone', 'ImStucc'], \\\n",
    "#[71000,100000,105000,108000,128700,138943,139000,144000,149900,165750,167450,200000,236500,258500,262000], inplace=True)\n"
   ]
  },
  {
   "cell_type": "code",
   "execution_count": null,
   "metadata": {
    "collapsed": true
   },
   "outputs": [],
   "source": [
    "ex2_bar = hsData.pivot_table(index=\"Exterior2nd\", values=\"SalePrice\", aggfunc=np.median)\n",
    "\n",
    "ex2_bar_sorted = ex2_bar.sort_values(by=\"SalePrice\")\n",
    "ex2_bar_sorted.plot(kind=\"bar\", color=\"blue\")\n",
    "\n",
    "plt.xlabel(\"Exterior covering on house\")\n",
    "plt.ylabel(\"Sale price\")\n",
    "plt.show()\n",
    "\n",
    "print ex2_bar_sorted\n",
    "\n",
    "#hsData['Exterior2nd'].replace(['CBlock', 'AsbShng', 'Wd Sdng', 'Wd Shng', 'MetalSd', 'AsphShn', 'Stucco', 'Brk Cmn', 'HdBoard', 'BrkFace', 'Plywood', 'Stone', 'ImStucc', 'VinylSd', 'CmentBd', 'Other'], \\\n",
    "#[105000,111000,138000,138225,138750,139000,142000,147000,155000,160000,160750,177000,187600,200070,238750,319000], inplace=True)\n"
   ]
  },
  {
   "cell_type": "code",
   "execution_count": null,
   "metadata": {},
   "outputs": [],
   "source": [
    "#Useful\n",
    "nb_bar = hsData.pivot_table(index=\"Neighborhood\", values=\"SalePrice\", aggfunc=np.median)\n",
    "\n",
    "nb_bar_sorted = nb_bar.sort_values(by=\"SalePrice\")\n",
    "nb_bar_sorted.plot(kind=\"bar\", color=\"blue\")\n",
    "\n",
    "plt.xlabel(\"neighborhood\")\n",
    "plt.ylabel(\"sale price\")\n",
    "plt.show()\n",
    "\n",
    "print nb_bar_sorted\n"
   ]
  },
  {
   "cell_type": "code",
   "execution_count": null,
   "metadata": {},
   "outputs": [],
   "source": [
    "st_bar = hsData.pivot_table(index=\"SaleType\", values=\"SalePrice\", aggfunc=np.median)\n",
    "\n",
    "st_bar_sorted = st_bar.sort_values(by=\"SalePrice\")\n",
    "st_bar_sorted.plot(kind=\"bar\", color=\"red\")\n",
    "\n",
    "plt.xlabel(\"SaleType\")\n",
    "plt.ylabel(\"sale price\")\n",
    "plt.show()\n",
    "\n",
    "print st_bar_sorted\n",
    "\n",
    "#hsData['SaleType'].replace(['Oth', 'ConLI', 'COD', 'ConLD', 'ConLw', 'WD', 'CWD', 'New', 'Con'], [116050,125000,139000,140000,144000,158000,188750,247453,269600], inplace=True)"
   ]
  },
  {
   "cell_type": "code",
   "execution_count": null,
   "metadata": {},
   "outputs": [],
   "source": [
    "sc_bar = hsData.pivot_table(index=\"SaleCondition\", values=\"SalePrice\", aggfunc=np.median)\n",
    "\n",
    "sc_bar_sorted = sc_bar.sort_values(by=\"SalePrice\")\n",
    "sc_bar_sorted.plot(kind=\"bar\", color=\"red\")\n",
    "\n",
    "plt.xlabel(\"SaleCondition\")\n",
    "plt.ylabel(\"sale price\")\n",
    "plt.show()\n",
    "\n",
    "print sc_bar_sorted\n",
    "\n",
    "#hsData['SaleCondition'].replace(['AdjLand', 'Abnorml', 'Family', 'Alloca', 'Normal', 'Partial'], [104000,130000,140500,148145,160000,244600], inplace=True)"
   ]
  },
  {
   "cell_type": "code",
   "execution_count": null,
   "metadata": {},
   "outputs": [],
   "source": [
    "ele_bar = hsData.pivot_table(index=\"Electrical\", values=\"SalePrice\", aggfunc=np.median)\n",
    "\n",
    "ele_bar_sorted = ele_bar.sort_values(by=\"SalePrice\")\n",
    "ele_bar_sorted.plot(kind=\"bar\", color=\"blue\")\n",
    "\n",
    "plt.xlabel(\"Electrical system\")\n",
    "plt.ylabel(\"sale price\")\n",
    "plt.show()\n",
    "\n",
    "print ele_bar_sorted\n",
    "\n",
    "#hsData['Electrical'].replace(['Mix', 'FuseP', 'FuseF', 'FuseA', 'SBrkr'], [67000,82000,115000,121250,170000], inplace=True)"
   ]
  },
  {
   "cell_type": "code",
   "execution_count": null,
   "metadata": {
    "collapsed": true
   },
   "outputs": [],
   "source": [
    "bsm_bar = hsData.pivot_table(index=\"Bsmt_QQ\", values=\"SalePrice\", aggfunc=np.median)\n",
    "\n",
    "bsm_bar_sorted = bsm_bar.sort_values(by=\"SalePrice\")\n",
    "bsm_bar_sorted.plot(kind=\"bar\", color=\"green\")\n",
    "\n",
    "plt.xlabel(\"Bsmt Qual+Cond\")\n",
    "plt.ylabel(\"sale price\")\n",
    "plt.show()\n",
    "\n",
    "print bsm_bar_sorted\n",
    "\n",
    "'''\n",
    "hsData['Bsmt_QQ'].replace(['FaPo', 'NANA', 'FaTA', 'FaFa', 'TAFa', 'TATA', 'TAGd', 'GdFa', \\\n",
    "                            'GdTA', 'GdGd', 'ExGd', 'ExTA'], \\\n",
    "                             [64,112, 114,114,114,135,164,182,192,199,275,318], inplace=True)\n",
    "'''"
   ]
  },
  {
   "cell_type": "code",
   "execution_count": null,
   "metadata": {
    "collapsed": true
   },
   "outputs": [],
   "source": [
    "#useful\n",
    "hs_bar = hsData.pivot_table(index=\"KitchenQual\", values=\"SalePrice\", aggfunc=np.median)\n",
    "\n",
    "hs_bar_sorted = hs_bar.sort_values(by=\"SalePrice\")\n",
    "hs_bar_sorted.plot(kind=\"bar\", color=\"blue\")\n",
    "\n",
    "plt.xlabel(\"HouseStyle\")\n",
    "plt.ylabel(\"sale price\")\n",
    "plt.show()\n",
    "\n",
    "print hs_bar_sorted\n",
    "\n",
    "#hsData['KitchenQual'].replace(['NA', Fa', 'TA', 'Gd', 'Ex'], [105565,115000,137000,201400,316750], inplace=True)"
   ]
  },
  {
   "cell_type": "code",
   "execution_count": null,
   "metadata": {
    "collapsed": true
   },
   "outputs": [],
   "source": [
    "gg_bar = hsData.pivot_table(index=\"Garage_QQ\", values=\"SalePrice\", aggfunc=np.median)\n",
    "\n",
    "gg_bar_sorted = gg_bar.sort_values(by=\"SalePrice\")\n",
    "gg_bar_sorted.plot(kind=\"bar\", color=\"green\")\n",
    "\n",
    "plt.xlabel(\"Garage Qual+Cond\")\n",
    "plt.ylabel(\"sale price\")\n",
    "plt.show()\n",
    "\n",
    "print gg_bar_sorted\n",
    "\n",
    "'''\n",
    "hsData['Garage_QQ'].replace(['PoPo', 'NANA', 'FaFa', 'FaPo', 'FaTA', 'ExEx', 'TAFa', 'TAGd', \\\n",
    "                             'TATA', 'GdTA', 'GdGd', 'ExTA'], \\\n",
    "                             [97,100,110,116,116,125,125,144,171,209,227,475], inplace=True)\n",
    "'''"
   ]
  },
  {
   "cell_type": "code",
   "execution_count": null,
   "metadata": {
    "collapsed": true
   },
   "outputs": [],
   "source": [
    "ext_bar = hsData.pivot_table(index=\"Exter_QQ\", values=\"SalePrice\", aggfunc=np.median)\n",
    "\n",
    "ext_bar_sorted = ext_bar.sort_values(by=\"SalePrice\")\n",
    "ext_bar_sorted.plot(kind=\"bar\", color=\"green\")\n",
    "\n",
    "plt.xlabel(\"Exterior Qual+Cond\")\n",
    "plt.ylabel(\"sale price\")\n",
    "plt.show()\n",
    "\n",
    "print ext_bar_sorted\n",
    "\n",
    "'''\n",
    "hsData['Exter_QQ'].replace(['FaFa', 'TAPo', 'FaTA', 'TAFa', 'TAEx', 'TATA', 'TAGd', 'GdGd', \\\n",
    "                             'GdTA', 'ExGd', 'ExEx', 'ExTA'], \\\n",
    "                             [61,77,99,119,140,140,140,210,221,267,325,374], inplace=True)\n",
    "'''"
   ]
  },
  {
   "cell_type": "code",
   "execution_count": null,
   "metadata": {},
   "outputs": [],
   "source": [
    "# Living area, orignal\n",
    "#hsData_lv_trim = hsData\n",
    "hsData_lv_trim = hsData[hsData[\"GrLivArea\"] < 3500]\n",
    "hsData_lv_trim = hsData_lv_trim[hsData_lv_trim[\"GrLivArea\"] > 500]\n",
    "plt.scatter(x=hsData_lv_trim[\"GrLivArea\"], y=hsData_lv_trim[\"SalePrice\"])\n",
    "plt.grid(True)\n",
    "plt.ylabel(\"Ln of Sale Price\")\n",
    "plt.xlabel(\"Above grade (ground) living area square feet\")\n",
    "plt.show()"
   ]
  },
  {
   "cell_type": "code",
   "execution_count": null,
   "metadata": {},
   "outputs": [],
   "source": [
    "# Living area, log\n",
    "hsData_lv_trim= hsData[hsData[\"GrLivArea\"] < 3500]\n",
    "hsData_lv_trim= hsData_lv_trim[hsData_lv_trim[\"GrLivArea\"] > 500]\n",
    "plt.scatter(x=np.log(hsData_lv_trim[\"GrLivArea\"]), y=np.log(hsData_lv_trim[\"SalePrice\"]))\n",
    "plt.grid(True)\n",
    "plt.ylabel(\"Ln of Sale Price\")\n",
    "plt.xlabel(\"Above grade (ground) living area square feet\")\n",
    "plt.show()"
   ]
  },
  {
   "cell_type": "code",
   "execution_count": null,
   "metadata": {},
   "outputs": [],
   "source": [
    "# Garage area\n",
    "\n",
    "hsData_gar_trim = hsData[hsData[\"GarageArea\"] < 1200]\n",
    "\n",
    "plt.scatter(x=hsData_gar_trim[\"GarageArea\"], y=np.log(hsData_gar_trim[\"SalePrice\"]))\n",
    "plt.grid(True)\n",
    "plt.ylabel(\"Sale Price\")\n",
    "plt.xlabel(\"Size of garage in square feet\")\n",
    "plt.show()"
   ]
  },
  {
   "cell_type": "code",
   "execution_count": null,
   "metadata": {},
   "outputs": [],
   "source": [
    "hsData_gar_trim = hsData[hsData[\"GarageArea\"] < 1200]\n",
    "\n",
    "plt.scatter(x=np.log(hsData_gar_trim[\"GarageArea\"]), y=np.log(hsData_gar_trim[\"SalePrice\"]))\n",
    "plt.grid(True)\n",
    "plt.ylabel(\"Ln of Sale Price\")\n",
    "plt.xlabel(\"Size of garage in square feet\")\n",
    "plt.show()\n",
    "\n",
    "#hsData_trim.info()"
   ]
  },
  {
   "cell_type": "code",
   "execution_count": null,
   "metadata": {},
   "outputs": [],
   "source": [
    "hsData_year_trim = hsData.copy()\n",
    "\n",
    "plt.scatter(x=hsData_year_trim['YearBuilt'], y=np.log(hsData_year_trim['SalePrice']))\n",
    "plt.grid(True)\n",
    "plt.ylabel(\"Ln of Sale Price\")\n",
    "plt.xlabel(\"Original construction date\")\n",
    "plt.show()\n",
    "\n",
    "hsData_year_trim.info()"
   ]
  },
  {
   "cell_type": "code",
   "execution_count": null,
   "metadata": {},
   "outputs": [],
   "source": [
    "hsData_year_shift = hsData.copy()\n",
    "hsData_year_shift['YearBuilt'] = hsData_year_shift['YearBuilt'].apply(lambda x: x - 1850)\n",
    "#hsData_year_shift = hsData_year_shift[hsData_year_shift[\"YearBuilt\"] > 40]\n",
    "\n",
    "plt.scatter(x=hsData_year_shift['YearBuilt'], y=np.log(hsData_year_shift['SalePrice']))\n",
    "plt.grid(True)\n",
    "plt.ylabel(\"Ln of Sale Price\")\n",
    "plt.xlabel(\"Original construction date\")\n",
    "plt.show()"
   ]
  },
  {
   "cell_type": "code",
   "execution_count": null,
   "metadata": {},
   "outputs": [],
   "source": [
    "hsData_year_shift = hsData.copy()\n",
    "hsData_year_shift['YearBuilt'] = hsData_year_shift['YearBuilt'].apply(lambda x: 2030 - x)\n",
    "hsData_year_shift = hsData_year_shift[hsData_year_shift[\"YearBuilt\"] < 140]\n",
    "\n",
    "plt.scatter(x=hsData_year_shift['YearBuilt'], y=np.log(hsData_year_shift['SalePrice']))\n",
    "plt.grid(True)\n",
    "plt.ylabel(\"Ln of Sale Price\")\n",
    "plt.xlabel(\"Original construction date\")\n",
    "plt.show()"
   ]
  },
  {
   "cell_type": "code",
   "execution_count": null,
   "metadata": {},
   "outputs": [],
   "source": [
    "hsData_year_shift = hsData['House_Freshment']\n",
    "\n",
    "plt.scatter(x=hsData_year_shift, y=np.log(hsData['SalePrice']))\n",
    "plt.grid(True)\n",
    "plt.ylabel(\"Ln of Sale Price\")\n",
    "plt.xlabel(\"Original construction date\")\n",
    "plt.show()\n"
   ]
  },
  {
   "cell_type": "code",
   "execution_count": null,
   "metadata": {},
   "outputs": [],
   "source": [
    "\n",
    "plt.scatter(x=hsData['MiscVal'], y=np.log(hsData['SalePrice']))\n",
    "plt.grid(True)\n",
    "plt.ylabel(\"Ln of Sale Price\")\n",
    "plt.xlabel(\"Original construction date\")\n",
    "plt.show()"
   ]
  },
  {
   "cell_type": "code",
   "execution_count": null,
   "metadata": {},
   "outputs": [],
   "source": [
    "hsData_month = hsData.copy()\n",
    "#hsData_year_shift['Year'] = hsData_year_shift['YearBuilt'].apply(lambda x: 2030 - x)\n",
    "#hsData_year_shift = hsData_year_shift[hsData_year_shift[\"YearBuilt\"] < 140]\n",
    "\n",
    "plt.scatter(x=hsData_month['MoSold'], y=np.log(hsData_month['SalePrice']))\n",
    "plt.grid(True)\n",
    "plt.ylabel(\"Ln of Sale Price\")\n",
    "plt.xlabel(\"Original construction date\")\n",
    "plt.show()"
   ]
  },
  {
   "cell_type": "code",
   "execution_count": null,
   "metadata": {},
   "outputs": [],
   "source": [
    "hsData = hsData[hsData[\"Total_FlrSF\"] < 3500]\n",
    "hsData = hsData[hsData[\"Total_FlrSF\"] > 500]\n",
    "plt.scatter(x=hsData[\"Total_FlrSF\"], y=np.log(hsData[\"SalePrice\"]))\n",
    "plt.grid(True)\n",
    "plt.ylabel(\"Ln of Sale Price\")\n",
    "plt.xlabel(\"Floor square feet\")\n",
    "plt.show()"
   ]
  },
  {
   "cell_type": "code",
   "execution_count": null,
   "metadata": {},
   "outputs": [],
   "source": [
    "#Noise\n",
    "cd1_bar = hsData.pivot_table(index=\"Condition1\", values=\"SalePrice\", aggfunc=np.median)\n",
    "\n",
    "cd1_bar_sorted = cd1_bar.sort_values(by=\"SalePrice\")\n",
    "cd1_bar_sorted.plot(kind=\"bar\", color=\"blue\")\n",
    "\n",
    "plt.xlabel(\"condition 1\")\n",
    "plt.ylabel(\"sale price\")\n",
    "plt.show()\n",
    "\n",
    "print cd1_bar_sorted\n",
    "\n",
    "#hsData['Condition1'].replace(['Artery', 'Feedr', 'RRAe', 'Norm', 'RRAn', 'RRNe', 'PosN', 'PosA', 'RRNn'], [119550,140000,142500,166500,171495,190750,200000,212500,214000], inplace=True)"
   ]
  },
  {
   "cell_type": "code",
   "execution_count": null,
   "metadata": {},
   "outputs": [],
   "source": [
    "#Noise\n",
    "cd2_bar = hsData.pivot_table(index=\"Condition2\", values=\"SalePrice\", aggfunc=np.median)\n",
    "\n",
    "cd2_bar_sorted = cd2_bar.sort_values(by=\"SalePrice\")\n",
    "cd2_bar_sorted.plot(kind=\"bar\", color=\"yellow\")\n",
    "\n",
    "plt.xlabel(\"condition 2\")\n",
    "plt.ylabel(\"sale price\")\n",
    "plt.show()\n",
    "\n",
    "print cd2_bar_sorted\n",
    "\n",
    "#hsData['Condition2'].replace(['RRNn', 'Artery', 'Feedr', 'RRAn', 'Norm', 'RRAe', 'PosN', 'PosA'], [96750,106500,127500,136905,163500,190000,284875,325000], inplace=True)"
   ]
  },
  {
   "cell_type": "code",
   "execution_count": null,
   "metadata": {},
   "outputs": [],
   "source": [
    "#Noise\n",
    "cds_bar = hsData.pivot_table(index=\"Conditions\", values=\"SalePrice\", aggfunc=np.median)\n",
    "\n",
    "cds_bar_sorted = cds_bar.sort_values(by=\"SalePrice\")\n",
    "cds_bar_sorted.plot(kind=\"bar\", color=\"green\")\n",
    "\n",
    "plt.xlabel(\"condition 1+2\")\n",
    "plt.ylabel(\"sale price\")\n",
    "plt.show()\n",
    "\n",
    "print cds_bar_sorted\n",
    "\n",
    "'''\n",
    "hsData['Conditions'].replace(['FeedrFeedr', 'FeedrRRNn', 'ArteryArtery', 'ArteryNorm', \\\n",
    "                              'RRNnFeedr', 'RRAnFeedr', 'FeedrRRAn', 'FeedrNorm', \\\n",
    "                             'RRAeNorm', 'NormNorm', 'RRAnNorm', 'FeedrRRAe', \\\n",
    "                             'RRNeNorm', 'PosNNorm', 'PosANorm', 'RRNnNorm', \\\n",
    "                             'PosNPosN', 'ArteryPosA'], \\\n",
    "                             [85000,96750,106500,119900,128000,133500,136905,141000,142500,166500,178950,190000,190750,200000,212500,252000,284875,325000], inplace=True)\n",
    "'''"
   ]
  },
  {
   "cell_type": "code",
   "execution_count": null,
   "metadata": {},
   "outputs": [],
   "source": [
    "ca_bar = hsData.pivot_table(index=\"CentralAir\", values=\"SalePrice\", aggfunc=np.median)\n",
    "\n",
    "ca_bar_sorted = ca_bar.sort_values(by=\"SalePrice\")\n",
    "ca_bar_sorted.plot(kind=\"bar\", color=\"blue\")\n",
    "\n",
    "plt.xlabel(\"CentralAir\")\n",
    "plt.ylabel(\"sale price\")\n",
    "plt.show()\n",
    "\n",
    "print ca_bar_sorted\n"
   ]
  },
  {
   "cell_type": "code",
   "execution_count": null,
   "metadata": {},
   "outputs": [],
   "source": [
    "gt_bar = hsData.pivot_table(index=\"GarageType\", values=\"SalePrice\", aggfunc=np.median)\n",
    "\n",
    "gt_bar_sorted = gt_bar.sort_values(by=\"SalePrice\")\n",
    "gt_bar_sorted.plot(kind=\"bar\", color=\"blue\")\n",
    "\n",
    "plt.xlabel(\"GarageType\")\n",
    "plt.ylabel(\"sale price\")\n",
    "plt.show()\n",
    "\n",
    "print gt_bar_sorted\n",
    "\n",
    "#hsData['GarageType'].replace(['CarPort', 'Detchd', 'Basment', '2Types', 'Attchd', 'BuiltIn'], [108000,129500,148000,159000,185000,227500], inplace=True)"
   ]
  },
  {
   "cell_type": "code",
   "execution_count": null,
   "metadata": {},
   "outputs": [],
   "source": [
    "fn_bar = hsData.pivot_table(index=\"Functional\", values=\"SalePrice\", aggfunc=np.median)\n",
    "\n",
    "fn_bar_sorted = fn_bar.sort_values(by=\"SalePrice\")\n",
    "fn_bar_sorted.plot(kind=\"bar\", color=\"blue\")\n",
    "\n",
    "plt.xlabel(\"Functional\")\n",
    "plt.ylabel(\"sale price\")\n",
    "plt.show()\n",
    "\n",
    "print fn_bar_sorted\n",
    "\n",
    "#hsData['Functional'].replace(['Maj2', 'Sev', 'Mod', 'Min1', 'Min2', 'Maj1', 'Typ'], [85000,129000,137900,139000,140000,140750,165500], inplace=True)"
   ]
  },
  {
   "cell_type": "code",
   "execution_count": null,
   "metadata": {},
   "outputs": [],
   "source": [
    "bld_bar = hsData.pivot_table(index=\"BldgType\", values=\"SalePrice\", aggfunc=np.median)\n",
    "\n",
    "bld_bar_sorted = bld_bar.sort_values(by=\"SalePrice\")\n",
    "bld_bar_sorted.plot(kind=\"bar\", color=\"blue\")\n",
    "\n",
    "plt.xlabel(\"BldgType\")\n",
    "plt.ylabel(\"sale price\")\n",
    "plt.show()\n",
    "\n",
    "print bld_bar_sorted\n",
    "\n",
    "#hsData['BldgType'].replace(['2fmCon','Duplex','Twnhs','1Fam','TwnhsE'], [127500,135980,137500,167900,172200], inplace=True)"
   ]
  },
  {
   "cell_type": "code",
   "execution_count": null,
   "metadata": {},
   "outputs": [],
   "source": [
    "hs_bar = hsData.pivot_table(index=\"HouseStyle\", values=\"SalePrice\", aggfunc=np.median)\n",
    "\n",
    "hs_bar_sorted = hs_bar.sort_values(by=\"SalePrice\")\n",
    "hs_bar_sorted.plot(kind=\"bar\", color=\"blue\")\n",
    "\n",
    "plt.xlabel(\"HouseStyle\")\n",
    "plt.ylabel(\"sale price\")\n",
    "plt.show()\n",
    "\n",
    "print hs_bar_sorted\n",
    "\n",
    "#hsData['HouseStyle'].replace(['1.5Unf','1.5Fin','2.5Unf','SFoyer','1Story','SLvl','2Story','2.5Fin'], [111250,132000,133900,135960,154750,164500,190000,194000], inplace=True)"
   ]
  },
  {
   "cell_type": "code",
   "execution_count": null,
   "metadata": {},
   "outputs": [],
   "source": [
    "hsData['Sold_Time'] = (hsData['YrSold'] - 2005)*12 + hsData['MoSold']\n",
    "\n",
    "fn_bar = hsData.pivot_table(index=\"Sold_Time\", values=\"SalePrice\", aggfunc=np.median)\n",
    "\n",
    "fn_bar_sorted = fn_bar.sort_values(by=\"SalePrice\")\n",
    "fn_bar_sorted.plot(kind=\"bar\", color=\"blue\")\n",
    "\n",
    "plt.xlabel(\"Sold_Time\")\n",
    "plt.ylabel(\"sale price\")\n",
    "plt.show()\n",
    "\n",
    "print fn_bar_sorted"
   ]
  },
  {
   "cell_type": "code",
   "execution_count": null,
   "metadata": {
    "collapsed": true
   },
   "outputs": [],
   "source": []
  }
 ],
 "metadata": {
  "kernelspec": {
   "display_name": "Python 2",
   "language": "python",
   "name": "python2"
  },
  "language_info": {
   "codemirror_mode": {
    "name": "ipython",
    "version": 2
   },
   "file_extension": ".py",
   "mimetype": "text/x-python",
   "name": "python",
   "nbconvert_exporter": "python",
   "pygments_lexer": "ipython2",
   "version": "2.7.14"
  }
 },
 "nbformat": 4,
 "nbformat_minor": 2
}
