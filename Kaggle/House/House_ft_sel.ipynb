{
 "cells": [
  {
   "cell_type": "code",
   "execution_count": null,
   "metadata": {
    "collapsed": true
   },
   "outputs": [],
   "source": [
    "import numpy as np\n",
    "import pandas as pd\n",
    "import matplotlib.pyplot as plt\n",
    "import seaborn as sns\n",
    "\n",
    "%matplotlib inline\n",
    "#panda is a read/write tool\n",
    "\n",
    "train_file = \"c:\\\\house\\\\train.csv\"\n",
    "test_file = \"c:\\\\house\\\\test.csv\"\n",
    "\n",
    "# comma delimited is the default\n",
    "hsData = pd.read_csv(train_file, header = 0)\n",
    "hsTest = pd.read_csv(test_file, header = 0)"
   ]
  },
  {
   "cell_type": "code",
   "execution_count": null,
   "metadata": {},
   "outputs": [],
   "source": [
    "numeric_features = hsData.select_dtypes(include=[np.number])\n",
    "numeric_features.dtypes\n",
    "\n",
    "corr = numeric_features.corr()\n",
    "\n",
    "#print (corr['SalePrice'].sort_values(ascending=False)[:30], '\\n')\n",
    "print (corr['SalePrice'].sort_values(ascending=False)[-30:])"
   ]
  },
  {
   "cell_type": "code",
   "execution_count": null,
   "metadata": {},
   "outputs": [],
   "source": [
    "null_data = pd.DataFrame(hsData.isnull().sum().sort_values(ascending=False)[:20])\n",
    "null_data.columns = [\"Null Count\"]\n",
    "null_data.index.name = \"Feature\"\n",
    "print null_data\n",
    "\n",
    "null_data = pd.DataFrame(hsTest.isnull().sum().sort_values(ascending=False)[:35])\n",
    "null_data.columns = [\"Null Count\"]\n",
    "null_data.index.name = \"Feature\"\n",
    "print null_data"
   ]
  },
  {
   "cell_type": "code",
   "execution_count": null,
   "metadata": {
    "collapsed": true
   },
   "outputs": [],
   "source": [
    "def DrawBar(data_name):\n",
    "    d_bar = hsData.pivot_table(index=data_name, values=\"SalePrice\", aggfunc=np.median)\n",
    "\n",
    "    d_bar_sorted = d_bar.sort_values(by=\"SalePrice\")\n",
    "    d_bar_sorted.plot(kind=\"bar\", color=\"blue\")\n",
    "\n",
    "    plt.xlabel(data_name)\n",
    "    plt.ylabel('SalePrice')\n",
    "    plt.show()\n",
    "    \n",
    "    print('Count of Values')\n",
    "    print hsData[data_name].value_counts()\n",
    "    print('\\nPercentage of Values')\n",
    "    print hsData[data_name].value_counts()/hsData[data_name].count()\n",
    "    \n",
    "    \n",
    "    d_size = d_bar_sorted.size\n",
    "    idStr = d_bar_sorted.iloc[:d_size].index\n",
    "    idVal = d_bar_sorted.values\n",
    "        \n",
    "    strIdx = '['\n",
    "    for ele in idStr:\n",
    "        if len(strIdx) > 2:\n",
    "            strIdx += ','    \n",
    "        strIdx += \"\\'\"\n",
    "        strIdx += str(ele)\n",
    "        strIdx += \"\\'\"\n",
    "\n",
    "    strIdx += ']'\n",
    "    print strIdx\n",
    "\n",
    "    strVal = '['\n",
    "    for ele in idVal:\n",
    "        if len(strVal) > 2:\n",
    "            strVal += ','          \n",
    "        strVal += str(int(ele))\n",
    "    strVal +=']'\n",
    "        \n",
    "    print strVal"
   ]
  },
  {
   "cell_type": "code",
   "execution_count": null,
   "metadata": {},
   "outputs": [],
   "source": [
    "DrawBar('MSZoning')\n",
    "\n",
    "#hsData['MSZoning'].replace(['C (all)','RM','RH','RL','FV'], [74700,120500,136500,174000,205950], inplace=True)"
   ]
  },
  {
   "cell_type": "code",
   "execution_count": null,
   "metadata": {
    "collapsed": true
   },
   "outputs": [],
   "source": [
    "DrawBar('MSSubClass')\n",
    "\n",
    "#hsData['MSSubClass'].replace(['180','30','45','190','50','90','85','40','160','70','20','75','80','120','60'], [88500,99900,107500,128250,132000,135980,140750,142500,146000,156000,159250,163500,166500,192000,215200], inplace=True)"
   ]
  },
  {
   "cell_type": "code",
   "execution_count": null,
   "metadata": {},
   "outputs": [],
   "source": [
    "# Too flat\n",
    "DrawBar('LotConfig')\n",
    "\n",
    "#hsData['LotConfig'].replace(['Inside','Corner','FR2','FR3','CulDSac'], [159697,160000,165000,195450,199262], inplace=True)"
   ]
  },
  {
   "cell_type": "code",
   "execution_count": null,
   "metadata": {
    "collapsed": true
   },
   "outputs": [],
   "source": [
    "DrawBar('LotShape')\n",
    "\n",
    "#hsData['LotShape'].replace(['Reg','IR1','IR3','IR2'], [146000,189000,203570,221000], inplace=True)"
   ]
  },
  {
   "cell_type": "code",
   "execution_count": null,
   "metadata": {},
   "outputs": [],
   "source": [
    "DrawBar('Exterior1st')\n",
    "\n",
    "#hsData['Exterior1st'].replace(['BrkComm','AsphShn','CBlock','AsbShng','WdShing','Wd Sdng','MetalSd','Stucco','HdBoard','BrkFace','Plywood','VinylSd','CemntBd','Stone','ImStucc'], [71000,100000,105000,108000,128700,138943,139000,144000,149900,165750,167450,200000,236500,258500,262000], inplace=True)"
   ]
  },
  {
   "cell_type": "code",
   "execution_count": null,
   "metadata": {},
   "outputs": [],
   "source": [
    "DrawBar('Exterior2nd')\n",
    "\n",
    "#hsData['Exterior2nd'].replace(['CBlock','AsbShng','Wd Sdng','Wd Shng','MetalSd','AsphShn','Stucco','Brk Cmn','HdBoard','BrkFace','Plywood','Stone','ImStucc','VinylSd','CmentBd','Other'], [105000,111000,138000,138225,138750,139000,142000,147000,155000,160000,160750,177000,187600,200070,238750,319000], inplace=True)\n"
   ]
  },
  {
   "cell_type": "code",
   "execution_count": null,
   "metadata": {},
   "outputs": [],
   "source": [
    "DrawBar('HouseStyle')\n",
    "\n",
    "#hsData['HouseStyle'].replace(['1.5Unf','1.5Fin','2.5Unf','SFoyer','1Story','SLvl','2Story','2.5Fin'], [111250,132000,133900,135960,154750,164500,190000,194000], inplace=True)"
   ]
  },
  {
   "cell_type": "code",
   "execution_count": null,
   "metadata": {},
   "outputs": [],
   "source": [
    "DrawBar('GarageType')\n",
    "\n",
    "#hsData['GarageType'].replace(['CarPort','Detchd','Basment','2Types','Attchd','BuiltIn'], [108000,129500,148000,159000,185000,227500], inplace=True)"
   ]
  },
  {
   "cell_type": "code",
   "execution_count": null,
   "metadata": {},
   "outputs": [],
   "source": [
    "DrawBar('KitchenQual')\n",
    "\n",
    "#hsData['KitchenQual'].replace(['Fa','TA','Gd','Ex'], [115000,137000,201400,316750], inplace=True)"
   ]
  },
  {
   "cell_type": "code",
   "execution_count": null,
   "metadata": {},
   "outputs": [],
   "source": [
    "DrawBar('OverallQual')\n",
    "\n",
    "#hsData['OverallQual'].replace([1,2,3,4,5,6,7,8,9,10], [50150,60000,86250,108000,133000,160000,200141,269750,345000,432390], inplace=True)"
   ]
  },
  {
   "cell_type": "code",
   "execution_count": null,
   "metadata": {},
   "outputs": [],
   "source": [
    "DrawBar('OverallCond')\n",
    "\n",
    "#hsData['OverallCond'].replace([1,2,3,4,8,6,7,9,5], [61000,85000,89500,115000,142500,142750,145000,176200,185000], inplace=True)"
   ]
  },
  {
   "cell_type": "code",
   "execution_count": null,
   "metadata": {
    "collapsed": true
   },
   "outputs": [],
   "source": [
    "DrawBar('Neighborhood')\n",
    "\n",
    "#hsData['Neighborhood'].replace(['MeadowV','IDOTRR','BrDale','OldTown','Edwards','BrkSide','Sawyer','Blueste','SWISU','NAmes','NPkVill','Mitchel','SawyerW','Gilbert','NWAmes','Blmngtn','CollgCr','ClearCr','Crawfor','Veenker','Somerst','Timber','StoneBr','NoRidge','NridgHt'], \\\n",
    "#[88000,103000,106000,119000,121750,124300,135000,137500,139500,140000,146000,153500,179900,181000,182900,191000,197200,200250,200624,218000,225500,228475,278000,301500,315000], inplace=True)"
   ]
  },
  {
   "cell_type": "code",
   "execution_count": null,
   "metadata": {},
   "outputs": [],
   "source": [
    "# Skewed 0.86\n",
    "DrawBar('SaleType')\n",
    "\n",
    "#hsData['SaleType'].replace(['Oth','ConLI','COD','ConLD','ConLw','WD','CWD','New','Con'], [116050,125000,139000,140000,144000,158000,188750,247453,269600], inplace=True)"
   ]
  },
  {
   "cell_type": "code",
   "execution_count": null,
   "metadata": {},
   "outputs": [],
   "source": [
    "# Skewed, 0.82\n",
    "DrawBar('SaleCondition')\n",
    "\n",
    "#hsData['SaleCondition'].replace(['AdjLand','Abnorml','Family','Alloca','Normal','Partial'], [104000,130000,140500,148145,160000,244600], inplace=True)"
   ]
  },
  {
   "cell_type": "code",
   "execution_count": null,
   "metadata": {
    "collapsed": true
   },
   "outputs": [],
   "source": [
    "# Skewed, 0.94\n",
    "DrawBar('LandSlope')\n",
    "\n",
    "#hsData['LandSlope'].replace(['Gtl','Sev','Mod'], [161875,185000,186700], inplace=True)"
   ]
  },
  {
   "cell_type": "code",
   "execution_count": null,
   "metadata": {
    "collapsed": true
   },
   "outputs": [],
   "source": [
    "# Skewed 0.89\n",
    "DrawBar('LandContour')\n",
    "\n",
    "#hsData['LandContour'].replace(['Bnk','Lvl','Low','HLS'], [139400,162900,190000,222250], inplace=True)"
   ]
  },
  {
   "cell_type": "code",
   "execution_count": null,
   "metadata": {
    "collapsed": true
   },
   "outputs": [],
   "source": [
    "#Skewed 0.98\n",
    "DrawBar('Heating')\n",
    "\n",
    "#hsData['Heating'].replace(['Floor','Grav','Wall','OthW','GasW','GasA'], [72500,79000,91450,125750,134950,164500], inplace=True)"
   ]
  },
  {
   "cell_type": "code",
   "execution_count": null,
   "metadata": {},
   "outputs": [],
   "source": [
    "DrawBar('HeatingQC')\n",
    "\n",
    "#hsData['HeatingQC'].replace(['Po','Fa','TA','Gd','Ex'], [87000,123500,135000,152000,194700], inplace=True)"
   ]
  },
  {
   "cell_type": "code",
   "execution_count": null,
   "metadata": {},
   "outputs": [],
   "source": [
    "DrawBar('MasVnrType')\n",
    "\n",
    "#hsData['MasVnrType'].replace(['BrkCmn','None','BrkFace','Stone'], [139000,143000,181000,246839], inplace=True)"
   ]
  },
  {
   "cell_type": "code",
   "execution_count": null,
   "metadata": {},
   "outputs": [],
   "source": [
    "# Skewed, 0.9999\n",
    "DrawBar('Utilities')"
   ]
  },
  {
   "cell_type": "code",
   "execution_count": null,
   "metadata": {},
   "outputs": [],
   "source": [
    "# Skewed, 0.91\n",
    "DrawBar('Electrical')\n",
    "\n",
    "#hsData['Electrical'].replace(['Mix','FuseP','FuseF','FuseA','SBrkr'], [67000,82000,115000,121250,170000], inplace=True)"
   ]
  },
  {
   "cell_type": "code",
   "execution_count": null,
   "metadata": {
    "collapsed": true
   },
   "outputs": [],
   "source": [
    "#Too many missing data\n",
    "DrawBar('MiscFeature')"
   ]
  },
  {
   "cell_type": "code",
   "execution_count": null,
   "metadata": {
    "collapsed": true
   },
   "outputs": [],
   "source": [
    "##Too many missing data because it links to MiscFeature\n",
    "DrawBar('MiscVal')"
   ]
  },
  {
   "cell_type": "code",
   "execution_count": null,
   "metadata": {},
   "outputs": [],
   "source": [
    "#Skew 0.86\n",
    "DrawBar('Condition1')\n",
    "\n",
    "#hsData['Condition1'].replace(['Artery','Feedr','RRAe','Norm','RRAn','RRNe','PosN','PosA','RRNn'], [119550,140000,142500,166500,171495,190750,200000,212500,214000], inplace=True)"
   ]
  },
  {
   "cell_type": "code",
   "execution_count": null,
   "metadata": {
    "collapsed": true
   },
   "outputs": [],
   "source": [
    "#Skewed 0.98\n",
    "DrawBar('Condition2')\n",
    "\n",
    "#hsData['Condition2'].replace(['RRNn','Artery','Feedr','RRAn','Norm','RRAe','PosN','PosA'], [96750,106500,127500,136905,163500,190000,284875,325000], inplace=True)"
   ]
  },
  {
   "cell_type": "code",
   "execution_count": null,
   "metadata": {
    "collapsed": true
   },
   "outputs": [],
   "source": [
    "#Skew 0.93\n",
    "DrawBar('CentralAir')\n"
   ]
  },
  {
   "cell_type": "code",
   "execution_count": null,
   "metadata": {
    "collapsed": true
   },
   "outputs": [],
   "source": [
    "# Skewed, 0.98\n",
    "DrawBar('RoofMatl')\n",
    "\n",
    "#hsData['RoofMatl'].replace(['Roll', 'ClyTile', 'CompShg', 'Tar&Grv', 'Metal', 'Membran', 'WdShake', 'WdShngl'], [137000,160000,162000,167000,180000,241500,242000,332500], inplace=True)"
   ]
  },
  {
   "cell_type": "code",
   "execution_count": null,
   "metadata": {},
   "outputs": [],
   "source": [
    "#skewed 0.93\n",
    "DrawBar('Functional')\n",
    "\n",
    "#hsData['Functional'].replace(['Maj2','Sev','Mod','Min1','Min2','Maj1','Typ'], [85000,129000,137900,139000,140000,140750,165500], inplace=True)"
   ]
  },
  {
   "cell_type": "code",
   "execution_count": null,
   "metadata": {},
   "outputs": [],
   "source": [
    "#Skewed 0.83\n",
    "DrawBar('BldgType')\n",
    "\n",
    "#hsData['BldgType'].replace(['2fmCon','Duplex','Twnhs','1Fam','TwnhsE'], [127500,135980,137500,167900,172200], inplace=True)"
   ]
  },
  {
   "cell_type": "code",
   "execution_count": null,
   "metadata": {},
   "outputs": [],
   "source": [
    "DrawBar('GarageFinish')\n",
    "\n",
    "#hsData['GarageFinish'].replace(['Unf','RFn','Fin'], [135000,190000,215000], inplace=True)"
   ]
  },
  {
   "cell_type": "code",
   "execution_count": null,
   "metadata": {
    "collapsed": true
   },
   "outputs": [],
   "source": [
    "import seaborn as sns\n",
    "\n",
    "num_train_features = hsData.select_dtypes(include=[np.number])\n",
    "num_train_features.dtypes\n",
    "\n",
    "num_train_features = num_train_features.drop(['Id'], axis=1)\n",
    "\n",
    "ncol = 3\n",
    "nrow = 12\n",
    "for i in range(nrow):\n",
    "    fg,ax=plt.subplots(nrows=1,ncols=ncol,figsize=(9,5))\n",
    "    for j in range(ncol):\n",
    "        sns.violinplot(y = num_train_features.iloc[:,(i*ncol+j)],ax=ax[j])"
   ]
  },
  {
   "cell_type": "code",
   "execution_count": null,
   "metadata": {},
   "outputs": [],
   "source": [
    "#Not useful, too many zeros\n",
    "hsData_vnr_trim = hsData[hsData[\"MasVnrArea\"] < 10000]\n",
    "#hsData_vnr_trim = hsData_vnr_trim[hsData_flr_trim[\"MasVnrArea\"] > 500]\n",
    "\n",
    "plt.scatter(x=hsData_vnr_trim[\"MasVnrArea\"], y=np.log(hsData_vnr_trim[\"SalePrice\"]))\n",
    "plt.grid(True)\n",
    "plt.ylabel(\"Ln of Sale Price\")\n",
    "plt.xlabel(\"Masonry veneer area square feet\")\n",
    "plt.show()\n"
   ]
  },
  {
   "cell_type": "code",
   "execution_count": null,
   "metadata": {},
   "outputs": [],
   "source": [
    "hsData['GarageQual'] = hsData['GarageQual'].fillna('TA')\n",
    "\n",
    "DrawBar('GarageQual')"
   ]
  },
  {
   "cell_type": "code",
   "execution_count": null,
   "metadata": {},
   "outputs": [],
   "source": [
    "hsData['GarageCond'] = hsData['GarageCond'].fillna('TA')\n",
    "\n",
    "DrawBar('GarageCond')"
   ]
  },
  {
   "cell_type": "code",
   "execution_count": null,
   "metadata": {},
   "outputs": [],
   "source": [
    "hsData['GarageQual'] = hsData['GarageQual'].fillna('TA')\n",
    "hsData['GarageCond'] = hsData['GarageCond'].fillna('TA')\n",
    "hsData['Garage_Composite'] = hsData['GarageQual'] + hsData['GarageCond']\n",
    "\n",
    "DrawBar('Garage_Composite')\n",
    "\n",
    "'''\n",
    "hsData['Garage_Composite'].replace(['PoPo','FaFa','FaPo','FaTA','ExEx','TAFa','TAGd','TATA','GdTA','GdGd','ExTA'], \\\n",
    "                             [96500,109750,114500,117250,124000,125000,144000,165500,209115,227485,475000], inplace=True)\n",
    "'''"
   ]
  },
  {
   "cell_type": "code",
   "execution_count": null,
   "metadata": {},
   "outputs": [],
   "source": [
    "hsTest['GarageQual'] = hsTest['GarageQual'].fillna('TA')\n",
    "hsTest['GarageCond'] = hsTest['GarageCond'].fillna('TA')\n",
    "hsTest['Garage_Composite'] = hsTest['GarageQual'] + hsTest['GarageCond']\n",
    "\n",
    "#'PoFa'='PoPo'\n",
    "#'GdEx'='GdGd'\n",
    "#'TAPo'='TAFa'\n",
    "hsTest['Garage_Composite'].replace(['PoPo','PoFa','FaFa','FaPo','FaTA','ExEx','TAPo','TAFa','TAGd','TATA','GdTA','GdGd','GdEx','ExTA'], \\\n",
    "                             [96500,96500,109750,114500,117250,124000,125000,125000,144000,165500,209115,227485,227485,475000], inplace=True)\n",
    "\n",
    "print hsTest['Garage_Composite'].unique()"
   ]
  },
  {
   "cell_type": "code",
   "execution_count": null,
   "metadata": {},
   "outputs": [],
   "source": [
    "DrawBar('ExterQual')"
   ]
  },
  {
   "cell_type": "code",
   "execution_count": null,
   "metadata": {},
   "outputs": [],
   "source": [
    "DrawBar('ExterCond')"
   ]
  },
  {
   "cell_type": "code",
   "execution_count": null,
   "metadata": {
    "collapsed": true
   },
   "outputs": [],
   "source": [
    "hsData['Exter_Composite'] = hsData['ExterQual'] + hsData['ExterCond']\n",
    "\n",
    "DrawBar('Exter_Composite')\n",
    "\n",
    "'''\n",
    "hsData['Exter_Composite'].replace(['FaFa','TAPo','FaTA','TAFa','TAEx','TATA','TAGd','GdGd','GdTA','ExGd','ExEx','ExTA'], \\\n",
    "                             [60500,76500,99000,118732,139500,139950,140000,210000,221000,266500,325000,374189], inplace=True)\n",
    "'''"
   ]
  },
  {
   "cell_type": "code",
   "execution_count": null,
   "metadata": {},
   "outputs": [],
   "source": [
    "hsTest['ExterQual'] = hsTest['ExterQual'].fillna('TA')\n",
    "hsTest['ExterCond'] = hsTest['ExterCond'].fillna('TA')\n",
    "hsTest['Exter_Composite'] = hsTest['ExterQual'] + hsTest['ExterCond']\n",
    "\n",
    "# 'GdEx' = 'GdTA'\n",
    "# 'FaPo' = 'FaFa'\n",
    "# 'GdFa' = 'GdGd'\n",
    "# 'FaGd' = 'FaTA'\n",
    "hsTest['Exter_Composite'].replace(['FaPo','FaFa','TAPo','FaGd','FaTA','TAFa','TAEx','TATA','TAGd','GdFa','GdGd','GdTA','GdEx','ExGd','ExEx','ExTA'], \\\n",
    "                             [60500,60500,76500,99000,99000,118732,139500,139950,140000,210000,210000,221000,221000,266500,325000,374189], inplace=True)\n",
    "\n",
    "print hsTest['Exter_Composite'].unique()"
   ]
  },
  {
   "cell_type": "code",
   "execution_count": null,
   "metadata": {},
   "outputs": [],
   "source": [
    "tmp_hsData = hsData.copy()\n",
    "\n",
    "msc_bar = hsData.pivot_table(index=\"MSZoning\", values=\"SalePrice\", aggfunc=np.median)\n",
    "\n",
    "msc_bar_sorted = msc_bar.sort_values(by=\"SalePrice\")\n",
    "\n",
    "for i, item in enumerate(msc_bar_sorted.index):\n",
    "    tmp_hsData.loc[tmp_hsData['MSZoning'] == msc_bar_sorted.index[i],'MSZoning'] = msc_bar_sorted.values[i]\n",
    "    \n",
    "tmp_hsData['MSZoning'] = pd.to_numeric(tmp_hsData['MSZoning'], errors='coerce')    \n",
    "print tmp_hsData['MSZoning']\n"
   ]
  },
  {
   "cell_type": "code",
   "execution_count": null,
   "metadata": {},
   "outputs": [],
   "source": [
    "hsData['BsmtQual'] = hsData['BsmtQual'].fillna('TA')\n",
    "\n",
    "DrawBar('BsmtQual')"
   ]
  },
  {
   "cell_type": "code",
   "execution_count": null,
   "metadata": {},
   "outputs": [],
   "source": [
    "hsData['BsmtCond'] = hsData['BsmtCond'].fillna('TA')\n",
    "\n",
    "DrawBar('BsmtCond')"
   ]
  },
  {
   "cell_type": "code",
   "execution_count": null,
   "metadata": {},
   "outputs": [],
   "source": [
    "hsData['BsmtQual'] = hsData['BsmtQual'].fillna('TA')\n",
    "hsData['BsmtCond'] = hsData['BsmtCond'].fillna('TA')\n",
    "hsData['Bsmt_Composite'] = hsData['BsmtQual'] + hsData['BsmtCond']\n",
    "\n",
    "DrawBar('Bsmt_Composite')\n",
    "\n",
    "'''\n",
    "hsData['Bsmt_Composite'].replace(['FaPo','FaTA','FaFa','TAFa','TATA','TAGd','GdFa','GdTA','GdGd','ExGd','ExTA'], \\\n",
    "                             [64000,112000,114875,117000,135000,164500,182500,192000,199000,274725,318030], inplace=True)\n",
    "'''"
   ]
  },
  {
   "cell_type": "code",
   "execution_count": null,
   "metadata": {},
   "outputs": [],
   "source": [
    "hsTest['BsmtQual'] = hsTest['BsmtQual'].fillna('TA')\n",
    "hsTest['BsmtCond'] = hsTest['BsmtCond'].fillna('TA')\n",
    "hsTest['Bsmt_Composite'] = hsTest['BsmtQual'] + hsTest['BsmtCond']\n",
    "\n",
    "#'ExPo' = 'ExGd'\n",
    "#'FaGd' = 'FaFa'\n",
    "#'TAPo' = 'TAFa'\n",
    "hsTest['Bsmt_Composite'].replace(['FaPo','FaTA','FaFa','FaGd','TAPo','TAFa','TATA','TAGd','GdFa','GdTA','GdGd','ExPo','ExGd','ExTA'], \\\n",
    "                             [64000,112000,114875,114875,117000,117000,135000,164500,182500,192000,199000,274725,274725,318030], inplace=True)\n",
    "\n",
    "print hsTest['Bsmt_Composite'].unique()"
   ]
  },
  {
   "cell_type": "code",
   "execution_count": null,
   "metadata": {
    "collapsed": true
   },
   "outputs": [],
   "source": [
    "# Living area, orignal\n",
    "#hsData_lv_trim = hsData\n",
    "hsData_lv_trim = hsData[hsData[\"GrLivArea\"] < 3500]\n",
    "hsData_lv_trim = hsData_lv_trim[hsData_lv_trim[\"GrLivArea\"] > 500]\n",
    "plt.scatter(x=hsData_lv_trim[\"GrLivArea\"], y=hsData_lv_trim[\"SalePrice\"])\n",
    "plt.grid(True)\n",
    "plt.ylabel(\"Ln of Sale Price\")\n",
    "plt.xlabel(\"Above grade (ground) living area square feet\")\n",
    "plt.show()"
   ]
  },
  {
   "cell_type": "code",
   "execution_count": null,
   "metadata": {
    "collapsed": true
   },
   "outputs": [],
   "source": [
    "# Living area, log\n",
    "hsData_lv_trim= hsData[hsData[\"GrLivArea\"] < 3500]\n",
    "hsData_lv_trim= hsData_lv_trim[hsData_lv_trim[\"GrLivArea\"] > 500]\n",
    "plt.scatter(x=np.log(hsData_lv_trim[\"GrLivArea\"]), y=np.log(hsData_lv_trim[\"SalePrice\"]))\n",
    "plt.grid(True)\n",
    "plt.ylabel(\"Ln of Sale Price\")\n",
    "plt.xlabel(\"Above grade (ground) living area square feet\")\n",
    "plt.show()"
   ]
  },
  {
   "cell_type": "code",
   "execution_count": null,
   "metadata": {
    "collapsed": true
   },
   "outputs": [],
   "source": [
    "# Garage area\n",
    "\n",
    "hsData_gar_trim = hsData[hsData[\"GarageArea\"] < 1000]\n",
    "\n",
    "plt.scatter(x=hsData_gar_trim[\"GarageArea\"], y=np.log(hsData_gar_trim[\"SalePrice\"]))\n",
    "plt.grid(True)\n",
    "plt.ylabel(\"Sale Price\")\n",
    "plt.xlabel(\"Size of garage in square feet\")\n",
    "plt.show()"
   ]
  },
  {
   "cell_type": "code",
   "execution_count": null,
   "metadata": {
    "collapsed": true
   },
   "outputs": [],
   "source": [
    "hsData_gar_trim = hsData[hsData[\"GarageArea\"] < 1200]\n",
    "\n",
    "plt.scatter(x=np.log(hsData_gar_trim[\"GarageArea\"]), y=np.log(hsData_gar_trim[\"SalePrice\"]))\n",
    "plt.grid(True)\n",
    "plt.ylabel(\"Ln of Sale Price\")\n",
    "plt.xlabel(\"Size of garage in square feet\")\n",
    "plt.show()\n",
    "\n",
    "#hsData_trim.info()"
   ]
  },
  {
   "cell_type": "code",
   "execution_count": null,
   "metadata": {
    "collapsed": true
   },
   "outputs": [],
   "source": [
    "hsData_year_trim = hsData.copy()\n",
    "\n",
    "plt.scatter(x=hsData_year_trim['YearBuilt'], y=np.log(hsData_year_trim['SalePrice']))\n",
    "plt.grid(True)\n",
    "plt.ylabel(\"Ln of Sale Price\")\n",
    "plt.xlabel(\"Original construction date\")\n",
    "plt.show()"
   ]
  },
  {
   "cell_type": "code",
   "execution_count": null,
   "metadata": {
    "collapsed": true
   },
   "outputs": [],
   "source": [
    "hsData_year_shift = hsData.copy()\n",
    "hsData_year_shift['YearBuilt'] = hsData_year_shift['YearBuilt'].apply(lambda x: x - 1850)\n",
    "#hsData_year_shift = hsData_year_shift[hsData_year_shift[\"YearBuilt\"] > 40]\n",
    "\n",
    "plt.scatter(x=hsData_year_shift['YearBuilt'], y=np.log(hsData_year_shift['SalePrice']))\n",
    "plt.grid(True)\n",
    "plt.ylabel(\"Ln of Sale Price\")\n",
    "plt.xlabel(\"Original construction date\")\n",
    "plt.show()"
   ]
  },
  {
   "cell_type": "code",
   "execution_count": null,
   "metadata": {
    "collapsed": true
   },
   "outputs": [],
   "source": [
    "hsData_year_shift = hsData.copy()\n",
    "hsData_year_shift['YearBuilt'] = hsData_year_shift['YearBuilt'].apply(lambda x: 2030 - x)\n",
    "hsData_year_shift = hsData_year_shift[hsData_year_shift[\"YearBuilt\"] < 140]\n",
    "\n",
    "plt.scatter(x=hsData_year_shift['YearBuilt'], y=np.log(hsData_year_shift['SalePrice']))\n",
    "plt.grid(True)\n",
    "plt.ylabel(\"Ln of Sale Price\")\n",
    "plt.xlabel(\"Original construction date\")\n",
    "plt.show()"
   ]
  },
  {
   "cell_type": "code",
   "execution_count": null,
   "metadata": {
    "collapsed": true
   },
   "outputs": [],
   "source": [
    "hsData_year_shift = hsData['House_Freshment']\n",
    "\n",
    "plt.scatter(x=hsData_year_shift, y=np.log(hsData['SalePrice']))\n",
    "plt.grid(True)\n",
    "plt.ylabel(\"Ln of Sale Price\")\n",
    "plt.xlabel(\"Original construction date\")\n",
    "plt.show()\n"
   ]
  },
  {
   "cell_type": "code",
   "execution_count": null,
   "metadata": {
    "collapsed": true
   },
   "outputs": [],
   "source": [
    "hsData_month = hsData.copy()\n",
    "#hsData_year_shift['Year'] = hsData_year_shift['YearBuilt'].apply(lambda x: 2030 - x)\n",
    "#hsData_year_shift = hsData_year_shift[hsData_year_shift[\"YearBuilt\"] < 140]\n",
    "\n",
    "plt.scatter(x=hsData_month['MoSold'], y=np.log(hsData_month['SalePrice']))\n",
    "plt.grid(True)\n",
    "plt.ylabel(\"Ln of Sale Price\")\n",
    "plt.xlabel(\"Original construction date\")\n",
    "plt.show()"
   ]
  },
  {
   "cell_type": "code",
   "execution_count": null,
   "metadata": {
    "collapsed": true
   },
   "outputs": [],
   "source": [
    "hsData['Total_FlrSF'] = hsData['1stFlrSF'] + hsData['2ndFlrSF']\n",
    "\n",
    "plt.scatter(x=hsData[\"Total_FlrSF\"], y=np.log(hsData[\"SalePrice\"]))\n",
    "plt.grid(True)\n",
    "plt.ylabel(\"Ln of Sale Price\")\n",
    "plt.xlabel(\"Floor square feet\")\n",
    "plt.show()"
   ]
  },
  {
   "cell_type": "code",
   "execution_count": null,
   "metadata": {
    "collapsed": true
   },
   "outputs": [],
   "source": [
    "#Very useful\n",
    "hsData_flr_trim = hsData[hsData[\"Total_FlrSF\"] < 3500]\n",
    "hsData_flr_trim = hsData_flr_trim[hsData_flr_trim[\"Total_FlrSF\"] > 500]\n",
    "\n",
    "plt.scatter(x=hsData_flr_trim[\"Total_FlrSF\"], y=np.log(hsData_flr_trim[\"SalePrice\"]))\n",
    "plt.grid(True)\n",
    "plt.ylabel(\"Ln of Sale Price\")\n",
    "plt.xlabel(\"Floor square feet\")\n",
    "plt.show()"
   ]
  },
  {
   "cell_type": "code",
   "execution_count": null,
   "metadata": {
    "collapsed": true
   },
   "outputs": [],
   "source": [
    "#Noise\n",
    "cds_bar = hsData.pivot_table(index=\"Conditions\", values=\"SalePrice\", aggfunc=np.median)\n",
    "\n",
    "cds_bar_sorted = cds_bar.sort_values(by=\"SalePrice\")\n",
    "cds_bar_sorted.plot(kind=\"bar\", color=\"green\")\n",
    "\n",
    "plt.xlabel(\"condition 1+2\")\n",
    "plt.ylabel(\"sale price\")\n",
    "plt.show()\n",
    "\n",
    "print cds_bar_sorted\n",
    "\n",
    "'''\n",
    "hsData['Conditions'].replace(['FeedrFeedr', 'FeedrRRNn', 'ArteryArtery', 'ArteryNorm', \\\n",
    "                              'RRNnFeedr', 'RRAnFeedr', 'FeedrRRAn', 'FeedrNorm', \\\n",
    "                             'RRAeNorm', 'NormNorm', 'RRAnNorm', 'FeedrRRAe', \\\n",
    "                             'RRNeNorm', 'PosNNorm', 'PosANorm', 'RRNnNorm', \\\n",
    "                             'PosNPosN', 'ArteryPosA'], \\\n",
    "                             [85000,96750,106500,119900,128000,133500,136905,141000,142500,166500,178950,190000,190750,200000,212500,252000,284875,325000], inplace=True)\n",
    "'''"
   ]
  },
  {
   "cell_type": "code",
   "execution_count": null,
   "metadata": {
    "collapsed": true
   },
   "outputs": [],
   "source": [
    "hsData['Sold_Time'] = (hsData['YrSold'] - 2005)*12 + hsData['MoSold']\n",
    "\n",
    "fn_bar = hsData.pivot_table(index=\"Sold_Time\", values=\"SalePrice\", aggfunc=np.median)\n",
    "\n",
    "fn_bar_sorted = fn_bar.sort_values(by=\"SalePrice\")\n",
    "fn_bar_sorted.plot(kind=\"bar\", color=\"blue\")\n",
    "\n",
    "plt.xlabel(\"Sold_Time\")\n",
    "plt.ylabel(\"sale price\")\n",
    "plt.show()\n",
    "\n",
    "print fn_bar_sorted"
   ]
  },
  {
   "cell_type": "code",
   "execution_count": null,
   "metadata": {
    "collapsed": true
   },
   "outputs": [],
   "source": []
  }
 ],
 "metadata": {
  "kernelspec": {
   "display_name": "Python 2",
   "language": "python",
   "name": "python2"
  },
  "language_info": {
   "codemirror_mode": {
    "name": "ipython",
    "version": 2
   },
   "file_extension": ".py",
   "mimetype": "text/x-python",
   "name": "python",
   "nbconvert_exporter": "python",
   "pygments_lexer": "ipython2",
   "version": "2.7.14"
  }
 },
 "nbformat": 4,
 "nbformat_minor": 2
}
