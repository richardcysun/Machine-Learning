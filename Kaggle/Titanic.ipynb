{
 "cells": [
  {
   "cell_type": "code",
   "execution_count": 39,
   "metadata": {},
   "outputs": [
    {
     "name": "stdout",
     "output_type": "stream",
     "text": [
      "<class 'pandas.core.frame.DataFrame'>\n",
      "RangeIndex: 891 entries, 0 to 890\n",
      "Data columns (total 12 columns):\n",
      "PassengerId    891 non-null int64\n",
      "Survived       891 non-null int64\n",
      "Pclass         891 non-null int64\n",
      "Name           891 non-null object\n",
      "Sex            891 non-null object\n",
      "Age            714 non-null float64\n",
      "SibSp          891 non-null int64\n",
      "Parch          891 non-null int64\n",
      "Ticket         891 non-null object\n",
      "Fare           891 non-null float64\n",
      "Cabin          204 non-null object\n",
      "Embarked       889 non-null object\n",
      "dtypes: float64(2), int64(5), object(5)\n",
      "memory usage: 83.6+ KB\n"
     ]
    },
    {
     "data": {
      "image/png": "[encoded data removed]",
      "text/plain": [
       "<matplotlib.figure.Figure at 0x12107ef0>"
      ]
     },
     "metadata": {},
     "output_type": "display_data"
    }
   ],
   "source": [
    "import numpy as np\n",
    "import pandas as pd\n",
    "import matplotlib.pyplot as plt\n",
    "import seaborn as sns\n",
    "\n",
    "%matplotlib inline\n",
    "#panda is a read/write tool\n",
    "\n",
    "train_file = \"c:\\\\titanic\\\\train.csv\"\n",
    "test_file = \"c:\\\\titanic\\\\test.csv\"\n",
    "submit_file = \"c:\\\\titanic\\\\submission.csv\"\n",
    "\n",
    "# comma delimited is the default\n",
    "tiData = pd.read_csv(train_file, header = 0)\n",
    "tiTest = pd.read_csv(test_file, header = 0)\n",
    "\n",
    "# print the srvived data from n to m\n",
    "#print(tiDataSet.Survived[10:23])\n",
    "#print(tiDataSet.Pclass[10:23])\n",
    "\n",
    "tiData.info()\n",
    "tiData.describe()\n",
    "\n",
    "tiData.loc[tiData['Sex']=='male','Sex'] = 0\n",
    "tiData.loc[tiData['Sex']=='female','Sex'] = 1\n",
    "\n",
    "#sns.countplot(tiData['Pclass'], hue=tiData['Survived'])\n",
    "#sns.countplot(tiData['Sex'], hue=tiData['Survived'])\n",
    "sns.countplot(tiData['Pclass'], hue=tiData['Survived'])\n",
    "\n",
    "predictions = tiTest\n",
    "\n",
    "predictions.loc[tiTest['Sex']=='male','Survived'] = '0'\n",
    "predictions.loc[tiTest['Sex']=='female','Survived'] = '1'\n",
    "predictions.loc[tiTest['Pclass']==1,'Survived'] = '1'\n",
    "\n",
    "submission = pd.DataFrame({\n",
    "        \"PassengerId\": predictions[\"PassengerId\"],\n",
    "        \"Survived\": predictions[\"Survived\"]\n",
    "    })\n",
    "\n",
    "submission.to_csv(submit_file, index=False)"
   ]
  },
  {
   "cell_type": "code",
   "execution_count": null,
   "metadata": {
    "collapsed": true
   },
   "outputs": [],
   "source": []
  },
  {
   "cell_type": "code",
   "execution_count": null,
   "metadata": {
    "collapsed": true
   },
   "outputs": [],
   "source": []
  }
 ],
 "metadata": {
  "kernelspec": {
   "display_name": "Python 2",
   "language": "python",
   "name": "python2"
  },
  "language_info": {
   "codemirror_mode": {
    "name": "ipython",
    "version": 2
   },
   "file_extension": ".py",
   "mimetype": "text/x-python",
   "name": "python",
   "nbconvert_exporter": "python",
   "pygments_lexer": "ipython2",
   "version": "2.7.14"
  }
 },
 "nbformat": 4,
 "nbformat_minor": 2
}
