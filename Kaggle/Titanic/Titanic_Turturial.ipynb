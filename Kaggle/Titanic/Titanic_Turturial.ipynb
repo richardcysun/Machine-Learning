{
 "cells": [
  {
   "cell_type": "code",
   "execution_count": null,
   "metadata": {},
   "outputs": [],
   "source": [
    "import pandas as pd\n",
    "\n",
    "train_file = \"c:\\\\titanic\\\\train.csv\"\n",
    "\n",
    "tiData = pd.read_csv(train_file, header = 0)\n",
    "tiData.info()"
   ]
  },
  {
   "cell_type": "code",
   "execution_count": null,
   "metadata": {},
   "outputs": [],
   "source": [
    "print tiData.iloc[:5]"
   ]
  },
  {
   "cell_type": "code",
   "execution_count": null,
   "metadata": {},
   "outputs": [],
   "source": [
    "null_columns = tiData.columns[tiData.isnull().any()]\n",
    "tiData[null_columns].isnull().sum()"
   ]
  },
  {
   "cell_type": "code",
   "execution_count": null,
   "metadata": {},
   "outputs": [],
   "source": [
    "print tiData['Age'].median()\n",
    "tiData['Age'] = tiData['Age'].fillna(tiData['Age'].median())"
   ]
  },
  {
   "cell_type": "code",
   "execution_count": null,
   "metadata": {},
   "outputs": [],
   "source": [
    "import numpy as np\n",
    "\n",
    "num_train_features = tiData.select_dtypes(include=[np.number])\n",
    "\n",
    "num_train_features = num_train_features.drop(['PassengerId', 'Survived'], axis=1)\n",
    "print num_train_features.iloc[:5]"
   ]
  },
  {
   "cell_type": "code",
   "execution_count": null,
   "metadata": {},
   "outputs": [],
   "source": [
    "from sklearn import metrics\n",
    "from sklearn.linear_model import LogisticRegression\n",
    "from sklearn.cross_validation import train_test_split\n",
    "\n",
    "X = num_train_features\n",
    "y = tiData['Survived']\n",
    "\n",
    "X_train, X_test, y_train, y_test = train_test_split(X, y)\n",
    "\n",
    "LogReg = LogisticRegression()\n",
    "LogReg.fit(X_train, y_train)\n",
    "\n",
    "X_test_predict = LogReg.predict(X_test)\n",
    "\n",
    "print(LogReg)\n",
    "print(metrics.classification_report(y_test, X_test_predict))"
   ]
  },
  {
   "cell_type": "code",
   "execution_count": null,
   "metadata": {},
   "outputs": [],
   "source": [
    "test_file = \"c:\\\\titanic\\\\test.csv\"\n",
    "\n",
    "tiTest = pd.read_csv(test_file, header = 0)\n",
    "tiTest.info()"
   ]
  },
  {
   "cell_type": "code",
   "execution_count": null,
   "metadata": {},
   "outputs": [],
   "source": [
    "tiTest.isnull().values.any()\n",
    "\n",
    "null_columns = tiTest.columns[tiTest.isnull().any()]\n",
    "tiTest[null_columns].isnull().sum()"
   ]
  },
  {
   "cell_type": "code",
   "execution_count": null,
   "metadata": {},
   "outputs": [],
   "source": [
    "print tiTest['Age'].median()\n",
    "tiTest['Age'] = tiTest['Age'].fillna(tiTest['Age'].median())\n",
    "\n",
    "print tiTest['Fare'].median()\n",
    "tiTest['Fare'] = tiTest['Fare'].fillna(tiTest['Fare'].median())"
   ]
  },
  {
   "cell_type": "code",
   "execution_count": null,
   "metadata": {},
   "outputs": [],
   "source": [
    "num_test_features = tiTest.select_dtypes(include=[np.number])\n",
    "num_test_features.dtypes\n",
    "\n",
    "num_test_features = num_test_features.drop(['PassengerId'], axis=1)\n",
    "print num_test_features.iloc[:10]"
   ]
  },
  {
   "cell_type": "code",
   "execution_count": null,
   "metadata": {},
   "outputs": [],
   "source": [
    "Ti_test_predict = LogReg.predict(num_test_features)\n",
    "print(Ti_test_predict)"
   ]
  },
  {
   "cell_type": "code",
   "execution_count": null,
   "metadata": {},
   "outputs": [],
   "source": [
    "submit_file = 'c:\\\\titanic\\\\submission_tur_logreg.csv'\n",
    "print submit_file\n",
    "submission = pd.DataFrame({\n",
    "        \"PassengerId\": tiTest[\"PassengerId\"],\n",
    "        \"Survived\": Ti_test_predict\n",
    "    })\n",
    "\n",
    "submission.to_csv(submit_file, index=False)"
   ]
  },
  {
   "cell_type": "code",
   "execution_count": null,
   "metadata": {},
   "outputs": [],
   "source": [
    "import seaborn as sns\n",
    "%matplotlib inline\n",
    "sns.countplot(tiData['Sex'], hue=tiData['Survived'])"
   ]
  },
  {
   "cell_type": "code",
   "execution_count": null,
   "metadata": {},
   "outputs": [],
   "source": [
    "sns.countplot(tiData['Embarked'], hue=tiData['Survived'])"
   ]
  },
  {
   "cell_type": "code",
   "execution_count": null,
   "metadata": {},
   "outputs": [],
   "source": [
    "tiData['Female'] = tiData['Sex'].apply(lambda gender: 1 if gender == 'female' else 0)\n",
    "tiTest['Female'] = tiTest['Sex'].apply(lambda gender: 1 if gender == 'female' else 0)\n",
    "\n",
    "tiData.info()"
   ]
  },
  {
   "cell_type": "code",
   "execution_count": null,
   "metadata": {},
   "outputs": [],
   "source": [
    "tiData['Embarked'] = tiData['Embarked'].fillna('S')\n",
    "tiTest['Embarked'] = tiTest['Embarked'].fillna('S')\n",
    "tiData['Embarked'].replace(['S', 'C', 'Q'], [0,1,2], inplace=True)\n",
    "tiTest['Embarked'].replace(['S', 'C', 'Q'], [0,1,2], inplace=True)\n",
    "\n",
    "tiData.info()"
   ]
  },
  {
   "cell_type": "code",
   "execution_count": null,
   "metadata": {},
   "outputs": [],
   "source": [
    "tiData['Has_Cabin'] = tiData['Cabin'].apply(lambda cab: 0 if pd.isnull(cab) else 1)\n",
    "tiTest['Has_Cabin'] = tiTest['Cabin'].apply(lambda cab: 0 if pd.isnull(cab) else 1)\n",
    "\n",
    "sns.countplot(tiData['Has_Cabin'], hue=tiData['Survived'])"
   ]
  },
  {
   "cell_type": "code",
   "execution_count": null,
   "metadata": {},
   "outputs": [],
   "source": [
    "# compare with the almost data\n",
    "almost_perfect_file = \"c:\\\\titanic\\\\almost_perfect.csv\"\n",
    "almostPref = pd.read_csv(almost_perfect_file, header = 0)\n",
    "alpSurv = almostPref['Survived']\n",
    "\n",
    "idx = 0\n",
    "okay = 0\n",
    "for ti_pred in Ti_test_predict:\n",
    "    if ti_pred == alpSurv.iloc[idx]:\n",
    "        okay += 1\n",
    "    idx += 1\n",
    "        \n",
    "print okay\n",
    "print idx"
   ]
  },
  {
   "cell_type": "code",
   "execution_count": null,
   "metadata": {},
   "outputs": [],
   "source": [
    "num_train_features.skew()"
   ]
  },
  {
   "cell_type": "code",
   "execution_count": null,
   "metadata": {},
   "outputs": [],
   "source": [
    "# correlation is not useful in Titanic case\n",
    "num_train_features = tiData.select_dtypes(include=[np.number])\n",
    "num_train_features.dtypes\n",
    "\n",
    "num_train_features = num_train_features.drop(['PassengerId'], axis=1)\n",
    "\n",
    "corr = num_train_features.corr()\n",
    "print (corr['Survived'].sort_values(ascending=False)[:10], '\\n')\n",
    "\n",
    "num_train_features = num_train_features.drop(['Survived'], axis=1)"
   ]
  }
 ],
 "metadata": {
  "kernelspec": {
   "display_name": "Python 2",
   "language": "python",
   "name": "python2"
  },
  "language_info": {
   "codemirror_mode": {
    "name": "ipython",
    "version": 2
   },
   "file_extension": ".py",
   "mimetype": "text/x-python",
   "name": "python",
   "nbconvert_exporter": "python",
   "pygments_lexer": "ipython2",
   "version": "2.7.14"
  }
 },
 "nbformat": 4,
 "nbformat_minor": 2
}
