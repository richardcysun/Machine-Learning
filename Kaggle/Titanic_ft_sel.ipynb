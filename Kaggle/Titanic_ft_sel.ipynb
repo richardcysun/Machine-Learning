{
 "cells": [
  {
   "cell_type": "code",
   "execution_count": null,
   "metadata": {},
   "outputs": [],
   "source": [
    "import numpy as np\n",
    "import pandas as pd\n",
    "import matplotlib.pyplot as plt\n",
    "import seaborn as sns\n",
    "\n",
    "%matplotlib inline\n",
    "#panda is a read/write tool\n",
    "\n",
    "train_file = \"c:\\\\titanic\\\\train.csv\"\n",
    "\n",
    "# comma delimited is the default\n",
    "tiData = pd.read_csv(train_file, header = 0)\n",
    "\n",
    "tiData.info()\n",
    "tiData.describe()\n",
    "\n",
    "tiData.loc[tiData['Ticket'].str.contains('A/S'),'Ticket_ID'] = 'AS_D'\n",
    "\n",
    "tiData.loc[tiData['Ticket'].str.contains('A/5.'),'Ticket_ID'] = 'A5_D'\n",
    "tiData.loc[tiData['Ticket'].str.contains('A.5.'),'Ticket_ID'] = 'A5_D'\n",
    "tiData.loc[tiData['Ticket'].str.contains('A./5.'),'Ticket_ID'] = 'A5_D'\n",
    "\n",
    "tiData.loc[tiData['Ticket'].str.contains('A/4.'),'Ticket_ID'] = 'A4_D'\n",
    "tiData.loc[tiData['Ticket'].str.contains('A.4.'),'Ticket_ID'] = 'A4_D'\n",
    "tiData.loc[tiData['Ticket'].str.contains('A4.'),'Ticket_ID'] = 'A4_D'\n",
    "tiData.loc[tiData['Ticket'].str.contains('S.C./A.4.'),'Ticket_ID'] = 'A4_D'\n",
    "\n",
    "tiData.loc[tiData['Ticket'].str.contains('C.A.'),'Ticket_ID'] = 'CA_D'\n",
    "tiData.loc[tiData['Ticket'].str.contains('CA.'),'Ticket_ID'] = 'CA_L'\n",
    "\n",
    "tiData.loc[tiData['Ticket'].str.contains('STON'),'Ticket_ID'] = 'STON_D'\n",
    "\n",
    "tiData.loc[tiData['Ticket'].str.contains('PC'),'Ticket_ID'] = 'PC_D'\n",
    "tiData.loc[tiData['Ticket'].str.contains('PP'),'Ticket_ID'] = 'PP_D'\n",
    "tiData.loc[tiData['Ticket'].str.contains('S.O.C.'),'Ticket_ID'] = 'SOC_D'\n",
    "tiData.loc[tiData['Ticket'].str.contains('SO/C'),'Ticket_ID'] = 'SOC_D'\n",
    "\n",
    "tiData.loc[tiData['Ticket'].str.contains('F.C.C.'),'Ticket_ID'] = 'FCC_D'\n",
    "tiData.loc[tiData['Ticket'].str.contains('W./C.'),'Ticket_ID'] = 'WC_D'\n",
    "tiData.loc[tiData['Ticket'].str.contains('W/C'),'Ticket_ID'] = 'WC_D'\n",
    "\n",
    "tiData.loc[tiData['Ticket'].str.contains('Paris'),'Ticket_ID'] = 'Paris_D'\n",
    "tiData.loc[tiData['Ticket'].str.contains('PARIS'),'Ticket_ID'] = 'Paris_D'\n",
    "tiData.loc[tiData['Ticket'].str.contains('SOTON'),'Ticket_ID'] = 'SOTON_D'\n",
    "tiData.loc[tiData['Ticket'].str.contains('S.O./P.P.'),'Ticket_ID'] = 'SOPP_D'\n",
    "tiData.loc[tiData['Ticket'].str.contains('S.P.'),'Ticket_ID'] = 'SP_D'\n",
    "tiData.loc[tiData['Ticket'].str.contains('W.E.P.'),'Ticket_ID'] = 'WEP_D'\n",
    "tiData.loc[tiData['Ticket'].str.contains('WE/P'),'Ticket_ID'] = 'WEP_D'\n",
    "tiData.loc[tiData['Ticket'].str.contains('S.O.P.'),'Ticket_ID'] = 'SOP_D'\n",
    "\n",
    "tiData.loc[tiData['Ticket'].str.contains('F.C.'),'Ticket_ID'] = 'FC_D'\n",
    "tiData.loc[tiData['Ticket'].str.contains('SCO/W'),'Ticket_ID'] = 'SCOW_D'\n",
    "tiData['Ticket_ID'] = tiData['Ticket_ID'].fillna('S')\n",
    "\n",
    "tmp_file = \"c:\\\\titanic\\\\tmp_ticket.csv\"\n",
    "\n",
    "tmp_name = pd.DataFrame({\n",
    "        \"PassengerId\": tiData[\"PassengerId\"],\n",
    "        #\"Name\": tiData[\"Name\"],\n",
    "        #\"Age\": tiData[\"Age\"],\n",
    "        \"Ticket_ID\": tiData[\"Ticket_ID\"],\n",
    "        \"Survived\": tiData[\"Survived\"]\n",
    "    })\n",
    "\n",
    "tmp_name.to_csv(tmp_file, index=False)\n"
   ]
  },
  {
   "cell_type": "code",
   "execution_count": null,
   "metadata": {},
   "outputs": [],
   "source": [
    "tiData.loc[tiData['Name'].str.contains('Master.'),'Age'] = 5\n",
    "\n",
    "g = sns.FacetGrid(tiData, col='Survived')\n",
    "g.map(sns.distplot, 'Age', kde=False)\n",
    "#young people has lower chance"
   ]
  },
  {
   "cell_type": "code",
   "execution_count": null,
   "metadata": {},
   "outputs": [],
   "source": [
    "tiData['Cabin'] = tiData['Cabin'].fillna('O')\n",
    "tiData.loc[tiData['Cabin'].str.contains('A'),'Cabin'] = 'A'\n",
    "tiData.loc[tiData['Cabin'].str.contains('B'),'Cabin'] = 'B'\n",
    "tiData.loc[tiData['Cabin'].str.contains('C'),'Cabin'] = 'C'\n",
    "tiData.loc[tiData['Cabin'].str.contains('D'),'Cabin'] = 'D'\n",
    "tiData.loc[tiData['Cabin'].str.contains('E'),'Cabin'] = 'E'\n",
    "tiData.loc[tiData['Cabin'].str.contains('F'),'Cabin'] = 'F'\n",
    "tiData.loc[tiData['Cabin'].str.contains('G'),'Cabin'] = 'G'\n",
    "tiData.loc[tiData['Cabin'].str.contains('T'),'Cabin'] = 'T'\n",
    "\n",
    "sns.countplot(tiData['Cabin'], hue=tiData['Survived'])"
   ]
  },
  {
   "cell_type": "code",
   "execution_count": null,
   "metadata": {},
   "outputs": [],
   "source": [
    "tiData.loc[tiData['Name'].str.contains('Mr.'),'Name'] = 'Mr.'\n",
    "tiData.loc[tiData['Name'].str.contains('Miss.'),'Name'] = 'Miss.'\n",
    "tiData.loc[tiData['Name'].str.contains('Ms.'),'Name'] = 'Miss.'\n",
    "tiData.loc[tiData['Name'].str.contains('Master.'),'Name'] = 'Master.'\n",
    "tiData.loc[tiData['Name'].str.contains('Don.'),'Name'] = 'Mr.'\n",
    "tiData.loc[tiData['Name'].str.contains('Rev.'),'Name'] = 'Officer'\n",
    "tiData.loc[tiData['Name'].str.contains('Dr.'),'Name'] = 'Dr.'\n",
    "tiData.loc[tiData['Name'].str.contains('Mme.'),'Name'] = 'Miss.'\n",
    "tiData.loc[tiData['Name'].str.contains('Major.'),'Name'] = 'Officer'\n",
    "tiData.loc[tiData['Name'].str.contains('Col.'),'Name'] = 'Officer'\n",
    "tiData.loc[tiData['Name'].str.contains('Mlle.'),'Name'] = 'Miss.'\n",
    "tiData.loc[tiData['Name'].str.contains('Countess.'),'Name'] = 'Noble'\n",
    "tiData.loc[tiData['Name'].str.contains('Jonkheer.'),'Name'] = 'Noble'\n",
    "tiData.loc[tiData['Name'].str.contains('Capt.'),'Name'] = 'Officer'\n",
    "\n",
    "sns.countplot(tiData['Name'], hue=tiData['Survived'])"
   ]
  },
  {
   "cell_type": "code",
   "execution_count": null,
   "metadata": {},
   "outputs": [],
   "source": [
    "sns.countplot(tiData['Pclass'], hue=tiData['Survived'])\n",
    "#Pclass 3 has lower chance"
   ]
  },
  {
   "cell_type": "code",
   "execution_count": null,
   "metadata": {},
   "outputs": [],
   "source": [
    "\n",
    "g = sns.FacetGrid(tiData, col='Survived')\n",
    "g.map(sns.distplot, 'Fare', kde=False)\n",
    "#low price ticket has lower chance"
   ]
  },
  {
   "cell_type": "code",
   "execution_count": null,
   "metadata": {},
   "outputs": [],
   "source": [
    "\n",
    "family_group = tiData['SibSp'] + tiData['Parch'] \n",
    "sns.countplot(family_group, hue=tiData['Survived'])\n",
    "#single person has lower chance"
   ]
  },
  {
   "cell_type": "code",
   "execution_count": null,
   "metadata": {},
   "outputs": [],
   "source": [
    "\n",
    "sns.countplot(tiData['SibSp'], hue=tiData['Survived'])\n",
    "#single person has lower chance"
   ]
  },
  {
   "cell_type": "code",
   "execution_count": null,
   "metadata": {},
   "outputs": [],
   "source": [
    "\n",
    "sns.countplot(tiData['Parch'], hue=tiData['Survived'])\n",
    "#single person has lower chance"
   ]
  },
  {
   "cell_type": "code",
   "execution_count": null,
   "metadata": {},
   "outputs": [],
   "source": [
    "\n",
    "sns.countplot(tiData['Sex'], hue=tiData['Survived'])\n",
    "#female has higher chance"
   ]
  },
  {
   "cell_type": "code",
   "execution_count": null,
   "metadata": {},
   "outputs": [],
   "source": [
    "\n",
    "sns.countplot(tiData['Embarked'], hue=tiData['Survived'])\n",
    "#embarked from S has lower chance"
   ]
  },
  {
   "cell_type": "code",
   "execution_count": null,
   "metadata": {},
   "outputs": [],
   "source": [
    "\n",
    "tiData['Cabin'] = tiData['Cabin'].fillna('O')\n",
    "tiData.loc[tiData['Cabin'].str.contains('A'),'Cabin_ID'] = 'A'\n",
    "tiData.loc[tiData['Cabin'].str.contains('B'),'Cabin_ID'] = 'B'\n",
    "tiData.loc[tiData['Cabin'].str.contains('C'),'Cabin_ID'] = 'C'\n",
    "tiData.loc[tiData['Cabin'].str.contains('D'),'Cabin_ID'] = 'D'\n",
    "tiData.loc[tiData['Cabin'].str.contains('E'),'Cabin_ID'] = 'E'\n",
    "tiData.loc[tiData['Cabin'].str.contains('F'),'Cabin_ID'] = 'F'\n",
    "tiData.loc[tiData['Cabin'].str.contains('G'),'Cabin_ID'] = 'G'\n",
    "tiData.loc[tiData['Cabin'].str.contains('T'),'Cabin_ID'] = 'T'\n",
    "\n",
    "#print(tiData['Cabin'])\n",
    "sns.countplot(tiData['Cabin'], hue=tiData['Survived'])\n",
    "# cabin passenger has higher chance\n"
   ]
  },
  {
   "cell_type": "code",
   "execution_count": null,
   "metadata": {
    "collapsed": true
   },
   "outputs": [],
   "source": []
  }
 ],
 "metadata": {
  "kernelspec": {
   "display_name": "Python 2",
   "language": "python",
   "name": "python2"
  },
  "language_info": {
   "codemirror_mode": {
    "name": "ipython",
    "version": 2
   },
   "file_extension": ".py",
   "mimetype": "text/x-python",
   "name": "python",
   "nbconvert_exporter": "python",
   "pygments_lexer": "ipython2",
   "version": "2.7.14"
  }
 },
 "nbformat": 4,
 "nbformat_minor": 2
}
