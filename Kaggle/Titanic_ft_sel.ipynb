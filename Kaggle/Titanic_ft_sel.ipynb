{
 "cells": [
  {
   "cell_type": "code",
   "execution_count": 22,
   "metadata": {},
   "outputs": [
    {
     "name": "stdout",
     "output_type": "stream",
     "text": [
      "<class 'pandas.core.frame.DataFrame'>\n",
      "RangeIndex: 891 entries, 0 to 890\n",
      "Data columns (total 12 columns):\n",
      "PassengerId    891 non-null int64\n",
      "Survived       891 non-null int64\n",
      "Pclass         891 non-null int64\n",
      "Name           891 non-null object\n",
      "Sex            891 non-null object\n",
      "Age            714 non-null float64\n",
      "SibSp          891 non-null int64\n",
      "Parch          891 non-null int64\n",
      "Ticket         891 non-null object\n",
      "Fare           891 non-null float64\n",
      "Cabin          204 non-null object\n",
      "Embarked       889 non-null object\n",
      "dtypes: float64(2), int64(5), object(5)\n",
      "memory usage: 83.6+ KB\n",
      "     Pclass     Sex   Age\n",
      "0         3    male  22.0\n",
      "1         1  female  38.0\n",
      "2         3  female  26.0\n",
      "3         1  female  35.0\n",
      "4         3    male  35.0\n",
      "5         3    male   NaN\n",
      "6         1    male  54.0\n",
      "7         3    male   2.0\n",
      "8         3  female  27.0\n",
      "9         2  female  14.0\n",
      "10        3  female   4.0\n",
      "11        1  female  58.0\n",
      "12        3    male  20.0\n",
      "13        3    male  39.0\n",
      "14        3  female  14.0\n",
      "15        2  female  55.0\n",
      "16        3    male   2.0\n",
      "17        2    male   NaN\n",
      "18        3  female  31.0\n",
      "19        3  female   NaN\n",
      "20        2    male  35.0\n",
      "21        2    male  34.0\n",
      "22        3  female  15.0\n",
      "23        1    male  28.0\n",
      "24        3  female   8.0\n",
      "25        3  female  38.0\n",
      "26        3    male   NaN\n",
      "27        1    male  19.0\n",
      "28        3  female   NaN\n",
      "29        3    male   NaN\n",
      "..      ...     ...   ...\n",
      "388       3    male   NaN\n",
      "389       2  female  17.0\n",
      "390       1    male  36.0\n",
      "391       3    male  21.0\n",
      "392       3    male  28.0\n",
      "393       1  female  23.0\n",
      "394       3  female  24.0\n",
      "395       3    male  22.0\n",
      "396       3  female  31.0\n",
      "397       2    male  46.0\n",
      "398       2    male  23.0\n",
      "399       2  female  28.0\n",
      "400       3    male  39.0\n",
      "401       3    male  26.0\n",
      "402       3  female  21.0\n",
      "403       3    male  28.0\n",
      "404       3  female  20.0\n",
      "405       2    male  34.0\n",
      "406       3    male  51.0\n",
      "407       2    male   3.0\n",
      "408       3    male  21.0\n",
      "409       3  female   NaN\n",
      "410       3    male   NaN\n",
      "411       3    male   NaN\n",
      "412       1  female  33.0\n",
      "413       2    male   NaN\n",
      "414       3    male  44.0\n",
      "415       3  female   NaN\n",
      "416       2  female  34.0\n",
      "417       2  female  18.0\n",
      "\n",
      "[418 rows x 3 columns]\n"
     ]
    }
   ],
   "source": [
    "import numpy as np\n",
    "import pandas as pd\n",
    "import matplotlib.pyplot as plt\n",
    "import seaborn as sns\n",
    "\n",
    "%matplotlib inline\n",
    "#panda is a read/write tool\n",
    "\n",
    "train_file = \"c:\\\\titanic\\\\train.csv\"\n",
    "\n",
    "# comma delimited is the default\n",
    "tiData = pd.read_csv(train_file, header = 0)\n",
    "\n",
    "tiData.info()\n",
    "tiData.describe()\n",
    "\n",
    "testdat=tiData.iloc[0:418,[2,4,5]]\n",
    "\n",
    "print(testdat)"
   ]
  },
  {
   "cell_type": "code",
   "execution_count": 7,
   "metadata": {},
   "outputs": [
    {
     "data": {
      "text/plain": [
       "<seaborn.axisgrid.FacetGrid at 0xf09acc0>"
      ]
     },
     "execution_count": 7,
     "metadata": {},
     "output_type": "execute_result"
    },
    {
     "data": {
      "image/png": "[encoded data removed]",
      "text/plain": [
       "<matplotlib.figure.Figure at 0xf09a320>"
      ]
     },
     "metadata": {},
     "output_type": "display_data"
    }
   ],
   "source": [
    "\n",
    "g = sns.FacetGrid(tiData, col='Survived')\n",
    "g.map(sns.distplot, 'Fare', kde=False)\n",
    "#low price ticket has lower chance"
   ]
  },
  {
   "cell_type": "code",
   "execution_count": 8,
   "metadata": {},
   "outputs": [
    {
     "data": {
      "text/plain": [
       "<matplotlib.axes._subplots.AxesSubplot at 0x116854a8>"
      ]
     },
     "execution_count": 8,
     "metadata": {},
     "output_type": "execute_result"
    },
    {
     "data": {
      "image/png": "[encoded data removed]",
      "text/plain": [
       "<matplotlib.figure.Figure at 0x115ea438>"
      ]
     },
     "metadata": {},
     "output_type": "display_data"
    }
   ],
   "source": [
    "\n",
    "family_group = tiData['SibSp'] + tiData['Parch'] \n",
    "sns.countplot(family_group, hue=tiData['Survived'])\n",
    "#single person has lower chance"
   ]
  },
  {
   "cell_type": "code",
   "execution_count": 9,
   "metadata": {},
   "outputs": [
    {
     "data": {
      "text/plain": [
       "<matplotlib.axes._subplots.AxesSubplot at 0x11809ac8>"
      ]
     },
     "execution_count": 9,
     "metadata": {},
     "output_type": "execute_result"
    },
    {
     "data": {
      "image/png": "[encoded data removed]",
      "text/plain": [
       "<matplotlib.figure.Figure at 0x119412b0>"
      ]
     },
     "metadata": {},
     "output_type": "display_data"
    }
   ],
   "source": [
    "\n",
    "sns.countplot(tiData['SibSp'], hue=tiData['Survived'])\n",
    "#single person has lower chance"
   ]
  },
  {
   "cell_type": "code",
   "execution_count": 10,
   "metadata": {},
   "outputs": [
    {
     "data": {
      "text/plain": [
       "<matplotlib.axes._subplots.AxesSubplot at 0xf0a6048>"
      ]
     },
     "execution_count": 10,
     "metadata": {},
     "output_type": "execute_result"
    },
    {
     "data": {
      "image/png": "[encoded data removed]",
      "text/plain": [
       "<matplotlib.figure.Figure at 0x11809b38>"
      ]
     },
     "metadata": {},
     "output_type": "display_data"
    }
   ],
   "source": [
    "\n",
    "sns.countplot(tiData['Parch'], hue=tiData['Survived'])\n",
    "#single person has lower chance"
   ]
  },
  {
   "cell_type": "code",
   "execution_count": 11,
   "metadata": {},
   "outputs": [
    {
     "data": {
      "text/plain": [
       "<matplotlib.axes._subplots.AxesSubplot at 0x11db52b0>"
      ]
     },
     "execution_count": 11,
     "metadata": {},
     "output_type": "execute_result"
    },
    {
     "data": {
      "image/png": "[encoded data removed]",
      "text/plain": [
       "<matplotlib.figure.Figure at 0x11cd4160>"
      ]
     },
     "metadata": {},
     "output_type": "display_data"
    }
   ],
   "source": [
    "\n",
    "sns.countplot(tiData['Sex'], hue=tiData['Survived'])\n",
    "#female has higher chance"
   ]
  },
  {
   "cell_type": "code",
   "execution_count": 12,
   "metadata": {},
   "outputs": [
    {
     "data": {
      "text/plain": [
       "<seaborn.axisgrid.FacetGrid at 0x11f7de48>"
      ]
     },
     "execution_count": 12,
     "metadata": {},
     "output_type": "execute_result"
    },
    {
     "data": {
      "image/png": "[encoded data removed]",
      "text/plain": [
       "<matplotlib.figure.Figure at 0x11f7db00>"
      ]
     },
     "metadata": {},
     "output_type": "display_data"
    }
   ],
   "source": [
    "\n",
    "g = sns.FacetGrid(tiData, col='Survived')\n",
    "g.map(sns.distplot, 'Age', kde=False)\n",
    "#young people has lower chance"
   ]
  },
  {
   "cell_type": "code",
   "execution_count": 13,
   "metadata": {},
   "outputs": [
    {
     "data": {
      "text/plain": [
       "<matplotlib.axes._subplots.AxesSubplot at 0x1231aa58>"
      ]
     },
     "execution_count": 13,
     "metadata": {},
     "output_type": "execute_result"
    },
    {
     "data": {
      "image/png": "[encoded data removed]",
      "text/plain": [
       "<matplotlib.figure.Figure at 0x1232b0b8>"
      ]
     },
     "metadata": {},
     "output_type": "display_data"
    }
   ],
   "source": [
    "\n",
    "sns.countplot(tiData['Embarked'], hue=tiData['Survived'])\n",
    "#embarked from S has lower chance"
   ]
  },
  {
   "cell_type": "code",
   "execution_count": 25,
   "metadata": {},
   "outputs": [
    {
     "data": {
      "text/plain": [
       "<matplotlib.axes._subplots.AxesSubplot at 0xfd5d7b8>"
      ]
     },
     "execution_count": 25,
     "metadata": {},
     "output_type": "execute_result"
    },
    {
     "data": {
      "image/png": "[encoded data removed]",
      "text/plain": [
       "<matplotlib.figure.Figure at 0xf92e048>"
      ]
     },
     "metadata": {},
     "output_type": "display_data"
    }
   ],
   "source": [
    "\n",
    "tiData['Cabin'] = tiData['Cabin'].fillna(0)\n",
    "tiData.loc[tiData['Cabin'] != 0,'Cabin'] = 1\n",
    "\n",
    "#print(tiData['Cabin'])\n",
    "sns.countplot(tiData['Cabin'], hue=tiData['Survived'])\n",
    "# cabin passenger has higher chance\n"
   ]
  },
  {
   "cell_type": "code",
   "execution_count": null,
   "metadata": {
    "collapsed": true
   },
   "outputs": [],
   "source": []
  }
 ],
 "metadata": {
  "kernelspec": {
   "display_name": "Python 2",
   "language": "python",
   "name": "python2"
  },
  "language_info": {
   "codemirror_mode": {
    "name": "ipython",
    "version": 2
   },
   "file_extension": ".py",
   "mimetype": "text/x-python",
   "name": "python",
   "nbconvert_exporter": "python",
   "pygments_lexer": "ipython2",
   "version": "2.7.14"
  }
 },
 "nbformat": 4,
 "nbformat_minor": 2
}
