{
 "cells": [
  {
   "cell_type": "code",
   "execution_count": null,
   "metadata": {
    "collapsed": true
   },
   "outputs": [],
   "source": [
    "# to do\n",
    "# why 1185 Dodge, Dr. Washington is always predicted as a victim"
   ]
  },
  {
   "cell_type": "code",
   "execution_count": null,
   "metadata": {},
   "outputs": [],
   "source": [
    "import numpy as np\n",
    "import pandas as pd\n",
    "import matplotlib.pyplot as plt\n",
    "import seaborn as sns\n",
    "\n",
    "%matplotlib inline\n",
    "#panda is a read/write tool\n",
    "\n",
    "train_file = \"c:\\\\titanic\\\\train.csv\"\n",
    "\n",
    "# comma delimited is the default\n",
    "tiData = pd.read_csv(train_file, header = 0)\n",
    "\n",
    "tiData.info()\n",
    "tiData.describe()\n",
    "\n",
    "tiData.loc[tiData['Ticket'].str.contains('A/S'),'Ticket_ID'] = 'AS_D'\n",
    "\n",
    "tiData.loc[tiData['Ticket'].str.contains('A/5.'),'Ticket_ID'] = 'A5_D'\n",
    "tiData.loc[tiData['Ticket'].str.contains('A.5.'),'Ticket_ID'] = 'A5_D'\n",
    "tiData.loc[tiData['Ticket'].str.contains('A./5.'),'Ticket_ID'] = 'A5_D'\n",
    "\n",
    "tiData.loc[tiData['Ticket'].str.contains('A/4.'),'Ticket_ID'] = 'A4_D'\n",
    "tiData.loc[tiData['Ticket'].str.contains('A.4.'),'Ticket_ID'] = 'A4_D'\n",
    "tiData.loc[tiData['Ticket'].str.contains('A4.'),'Ticket_ID'] = 'A4_D'\n",
    "tiData.loc[tiData['Ticket'].str.contains('S.C./A.4.'),'Ticket_ID'] = 'A4_D'\n",
    "\n",
    "tiData.loc[tiData['Ticket'].str.contains('C.A.'),'Ticket_ID'] = 'CA_D'\n",
    "tiData.loc[tiData['Ticket'].str.contains('CA.'),'Ticket_ID'] = 'CA_L'\n",
    "\n",
    "tiData.loc[tiData['Ticket'].str.contains('STON'),'Ticket_ID'] = 'STON_D'\n",
    "\n",
    "tiData.loc[tiData['Ticket'].str.contains('PC'),'Ticket_ID'] = 'PC_D'\n",
    "tiData.loc[tiData['Ticket'].str.contains('PP'),'Ticket_ID'] = 'PP_D'\n",
    "tiData.loc[tiData['Ticket'].str.contains('S.O.C.'),'Ticket_ID'] = 'SOC_D'\n",
    "tiData.loc[tiData['Ticket'].str.contains('SO/C'),'Ticket_ID'] = 'SOC_D'\n",
    "\n",
    "tiData.loc[tiData['Ticket'].str.contains('F.C.C.'),'Ticket_ID'] = 'FCC_D'\n",
    "tiData.loc[tiData['Ticket'].str.contains('W./C.'),'Ticket_ID'] = 'WC_D'\n",
    "tiData.loc[tiData['Ticket'].str.contains('W/C'),'Ticket_ID'] = 'WC_D'\n",
    "\n",
    "tiData.loc[tiData['Ticket'].str.contains('Paris'),'Ticket_ID'] = 'Paris_D'\n",
    "tiData.loc[tiData['Ticket'].str.contains('PARIS'),'Ticket_ID'] = 'Paris_D'\n",
    "tiData.loc[tiData['Ticket'].str.contains('SOTON'),'Ticket_ID'] = 'SOTON_D'\n",
    "tiData.loc[tiData['Ticket'].str.contains('S.O./P.P.'),'Ticket_ID'] = 'SOPP_D'\n",
    "tiData.loc[tiData['Ticket'].str.contains('S.P.'),'Ticket_ID'] = 'SP_D'\n",
    "tiData.loc[tiData['Ticket'].str.contains('W.E.P.'),'Ticket_ID'] = 'WEP_D'\n",
    "tiData.loc[tiData['Ticket'].str.contains('WE/P'),'Ticket_ID'] = 'WEP_D'\n",
    "tiData.loc[tiData['Ticket'].str.contains('S.O.P.'),'Ticket_ID'] = 'SOP_D'\n",
    "\n",
    "tiData.loc[tiData['Ticket'].str.contains('F.C.'),'Ticket_ID'] = 'FC_D'\n",
    "tiData.loc[tiData['Ticket'].str.contains('SCO/W'),'Ticket_ID'] = 'SCOW_D'\n",
    "tiData['Ticket_ID'] = tiData['Ticket_ID'].fillna('S')\n",
    "'''\n",
    "tmp_file = \"c:\\\\titanic\\\\tmp_ticket.csv\"\n",
    "\n",
    "tmp_name = pd.DataFrame({\n",
    "        \"PassengerId\": tiData[\"PassengerId\"],\n",
    "        #\"Name\": tiData[\"Name\"],\n",
    "        #\"Age\": tiData[\"Age\"],\n",
    "        \"Ticket_ID\": tiData[\"Ticket_ID\"],\n",
    "        \"Survived\": tiData[\"Survived\"]\n",
    "    })\n",
    "\n",
    "tmp_name.to_csv(tmp_file, index=False)\n",
    "'''"
   ]
  },
  {
   "cell_type": "code",
   "execution_count": null,
   "metadata": {
    "collapsed": true
   },
   "outputs": [],
   "source": [
    "tPF1 = tiData.loc[tiData['Pclass'] == 1, ['Pclass', 'Fare']]\n",
    "tPF2 = tiData.loc[tiData['Pclass'] == 2, ['Pclass', 'Fare']]\n",
    "tPF3 = tiData.loc[tiData['Pclass'] == 3, ['Pclass', 'Fare']]\n",
    "\n",
    "print(\"Class 1 Fare remedian:%s, mean:%s, std:%s\" % (tPF1['Fare'].median(), tPF1['Fare'].mean(), tPF1['Fare'].std()))\n",
    "print(\"Class 2 Fare remedian:%s, mean:%s, std:%s\" % (tPF2['Fare'].median(), tPF2['Fare'].mean(), tPF2['Fare'].std()))\n",
    "print(\"Class 3 Fare remedian:%s, mean:%s, std:%s\" % (tPF3['Fare'].median(), tPF3['Fare'].mean(), tPF3['Fare'].std()))\n",
    "\n",
    "print(\"Class 1 Fare mean+std:%s, mean:%s, mean-std:%s\" % (tPF1['Fare'].mean()+tPF1['Fare'].std(), tPF1['Fare'].mean(), tPF1['Fare'].mean()-tPF1['Fare'].std()))\n",
    "print(\"Class 2 Fare mean+std:%s, mean:%s, mean-std:%s\" % (tPF2['Fare'].mean()+tPF2['Fare'].std(), tPF2['Fare'].mean(), tPF2['Fare'].mean()-tPF2['Fare'].std()))\n",
    "print(\"Class 3 Fare mean+std:%s, mean:%s, mean-std:%s\" % (tPF3['Fare'].mean()+tPF3['Fare'].std(), tPF3['Fare'].mean(), tPF3['Fare'].mean()-tPF3['Fare'].std()))\n",
    "\n",
    "def getFareCategory(fare):\n",
    "    if fare > 64:\n",
    "        return 1\n",
    "    elif fare > 48:\n",
    "        return 2\n",
    "    elif fare > 32:\n",
    "        return 3\n",
    "    elif fare > 24:\n",
    "        return 4    \n",
    "    elif fare > 20:\n",
    "        return 5\n",
    "    elif fare > 14:\n",
    "        return 6    \n",
    "    elif fare > 3:\n",
    "        return 7\n",
    "    else:\n",
    "        return 6\n",
    "    \n",
    "tiData['Fare_ID'] = tiData['Fare'].apply(getFareCategory)\n"
   ]
  },
  {
   "cell_type": "code",
   "execution_count": null,
   "metadata": {
    "collapsed": true
   },
   "outputs": [],
   "source": [
    "\n",
    "tiData['Has_Cabin'] = tiData['Cabin'].apply(lambda cab: 0 if pd.isnull(cab) else 1)\n",
    "\n",
    "tiData['Cabin'] = tiData['Cabin'].fillna('O')\n",
    "tiData.loc[tiData['Cabin'].str.contains('A'),'Cabin'] = 'A'\n",
    "tiData.loc[tiData['Cabin'].str.contains('B'),'Cabin'] = 'B'\n",
    "tiData.loc[tiData['Cabin'].str.contains('C'),'Cabin'] = 'C'\n",
    "tiData.loc[tiData['Cabin'].str.contains('D'),'Cabin'] = 'D'\n",
    "tiData.loc[tiData['Cabin'].str.contains('E'),'Cabin'] = 'E'\n",
    "tiData.loc[tiData['Cabin'].str.contains('F'),'Cabin'] = 'F'\n",
    "tiData.loc[tiData['Cabin'].str.contains('G'),'Cabin'] = 'G'\n",
    "tiData.loc[tiData['Cabin'].str.contains('T'),'Cabin'] = 'T'\n",
    "\n",
    "tiData['Cabin_B'] = tiData['Cabin'].apply(lambda cab: 1 if 'B' in cab else 0)\n",
    "\n",
    "sns.countplot(tiData['Cabin'], hue=tiData['Survived'])"
   ]
  },
  {
   "cell_type": "code",
   "execution_count": null,
   "metadata": {
    "collapsed": true
   },
   "outputs": [],
   "source": [
    "sns.countplot(tiData['Has_Cabin'], hue=tiData['Survived'])"
   ]
  },
  {
   "cell_type": "code",
   "execution_count": null,
   "metadata": {
    "collapsed": true
   },
   "outputs": [],
   "source": [
    "sns.countplot(tiData['Cabin_B'], hue=tiData['Survived'])"
   ]
  },
  {
   "cell_type": "code",
   "execution_count": null,
   "metadata": {
    "collapsed": true
   },
   "outputs": [],
   "source": [
    "tiData.loc[tiData['Name'].str.contains('Mr.'),'Name_ID'] = 'Mr.'\n",
    "tiData.loc[tiData['Name'].str.contains('Miss.'),'Name_ID'] = 'Miss.'\n",
    "tiData.loc[tiData['Name'].str.contains('Ms.'),'Name_ID'] = 'Miss.'\n",
    "tiData.loc[tiData['Name'].str.contains('Master.'),'Name_ID'] = 'Master.'\n",
    "tiData.loc[tiData['Name'].str.contains('Don.'),'Name_ID'] = 'Mr.'\n",
    "tiData.loc[tiData['Name'].str.contains('Rev.'),'Name_ID'] = 'Officer'\n",
    "tiData.loc[tiData['Name'].str.contains('Dr.'),'Name_ID'] = 'Dr.'\n",
    "tiData.loc[tiData['Name'].str.contains('Mme.'),'Name_ID'] = 'Miss.'\n",
    "tiData.loc[tiData['Name'].str.contains('Major.'),'Name_ID'] = 'Officer'\n",
    "tiData.loc[tiData['Name'].str.contains('Col.'),'Name_ID'] = 'Officer'\n",
    "tiData.loc[tiData['Name'].str.contains('Mlle.'),'Name_ID'] = 'Miss.'\n",
    "tiData.loc[tiData['Name'].str.contains('Countess.'),'Name_ID'] = 'Noble'\n",
    "tiData.loc[tiData['Name'].str.contains('Jonkheer.'),'Name_ID'] = 'Noble'\n",
    "tiData.loc[tiData['Name'].str.contains('Capt.'),'Name_ID'] = 'Officer'\n",
    "\n",
    "tiData.loc[tiData['Name'].str.contains('Mr.'),'Soc_Rank'] = 0\n",
    "tiData.loc[tiData['Name'].str.contains('Don.'),'Soc_Rank'] = 0\n",
    "\n",
    "tiData.loc[tiData['Name'].str.contains('Miss.'),'Soc_Rank'] = 1\n",
    "tiData.loc[tiData['Name'].str.contains('Ms.'),'Soc_Rank'] = 1\n",
    "tiData.loc[tiData['Name'].str.contains('Mme.'),'Soc_Rank'] = 1\n",
    "tiData.loc[tiData['Name'].str.contains('Mlle.'),'Soc_Rank'] = 1\n",
    "\n",
    "tiData.loc[tiData['Name'].str.contains('Master.'),'Soc_Rank'] = 2\n",
    "\n",
    "tiData.loc[tiData['Name'].str.contains('Rev.'),'Soc_Rank'] = 3\n",
    "tiData.loc[tiData['Name'].str.contains('Major.'),'Soc_Rank'] = 3\n",
    "tiData.loc[tiData['Name'].str.contains('Col.'),'Soc_Rank'] = 3\n",
    "tiData.loc[tiData['Name'].str.contains('Capt.'),'Soc_Rank'] = 3\n",
    "\n",
    "tiData.loc[tiData['Name'].str.contains('Dr.'),'Soc_Rank'] = 4\n",
    "\n",
    "tiData.loc[tiData['Name'].str.contains('Countess.'),'Soc_Rank'] = 5\n",
    "tiData.loc[tiData['Name'].str.contains('Jonkheer.'),'Soc_Rank'] = 5\n",
    "\n",
    "sns.countplot(tiData['Name_ID'], hue=tiData['Survived'])"
   ]
  },
  {
   "cell_type": "code",
   "execution_count": null,
   "metadata": {
    "collapsed": true
   },
   "outputs": [],
   "source": [
    "tAgeMaster = tiData.loc[tiData['Name_ID'].str.contains('Master.'),'Age']\n",
    "tAgeMr = tiData.loc[tiData['Name_ID'].str.contains('Mr.'),'Age']\n",
    "tAgeMiss = tiData.loc[tiData['Name_ID'].str.contains('Miss.'),'Age']\n",
    "tAgeOfficer = tiData.loc[tiData['Name_ID'].str.contains('Officer'),'Age']\n",
    "tAgeNoble = tiData.loc[tiData['Name_ID'].str.contains('Noble'),'Age']\n",
    "tAgeDr = tiData.loc[tiData['Name_ID'].str.contains('Dr.'),'Age']\n",
    "\n",
    "print(\"Age Master remedian:%s, mean:%s, std:%s\" % (tAgeMaster.median(), tAgeMaster.mean(), tAgeMaster.std()))\n",
    "print(\"Age Mr remedian:%s, mean:%s, std:%s\" % (tAgeMr.median(), tAgeMr.mean(), tAgeMr.std()))\n",
    "print(\"Age Miss remedian:%s, mean:%s, std:%s\" % (tAgeMiss.median(), tAgeMiss.mean(), tAgeMiss.std()))\n",
    "print(\"Age Officer remedian:%s, mean:%s, std:%s\" % (tAgeOfficer.median(), tAgeOfficer.mean(), tAgeOfficer.std()))\n",
    "print(\"Age Noble remedian:%s, mean:%s, std:%s\" % (tAgeNoble.median(), tAgeNoble.mean(), tAgeNoble.std()))\n",
    "print(\"Age Dr remedian:%s, mean:%s, std:%s\" % (tAgeDr.median(), tAgeDr.mean(), tAgeDr.std()))\n",
    "\n",
    "def fillAgeBySocRank(soc_rank):\n",
    "    if soc_rank == 0:\n",
    "        return 31\n",
    "    elif soc_rank == 1:\n",
    "        return 22\n",
    "    elif soc_rank == 2:\n",
    "        return 3.5\n",
    "    elif soc_rank == 3:\n",
    "        return 42\n",
    "    elif soc_rank == 4:\n",
    "        return 36\n",
    "    elif soc_rank == 5:\n",
    "        return 35.5\n",
    "    else:\n",
    "        return 31\n",
    "    \n",
    "def getAgeCategory(age):\n",
    "    if age > 80:\n",
    "        return 10\n",
    "    elif age > 72:\n",
    "        return 9\n",
    "    elif age > 64:\n",
    "        return 8\n",
    "    elif age > 56:\n",
    "        return 7\n",
    "    elif age > 48:\n",
    "        return 6\n",
    "    elif age > 40:\n",
    "        return 5\n",
    "    elif age > 32:\n",
    "        return 4\n",
    "    elif age > 24:\n",
    "        return 3\n",
    "    elif age > 16:\n",
    "        return 2\n",
    "    elif age > 8:\n",
    "        return 1\n",
    "    else:\n",
    "        return 0\n",
    "\n",
    "tiData['Age'] = tiData['Age'].fillna(tiData['Soc_Rank'].apply(fillAgeBySocRank))    \n",
    "tiData['Age_ID'] = tiData['Age'].apply(getAgeCategory)\n",
    "g = sns.FacetGrid(tiData, col='Survived')\n",
    "g.map(sns.distplot, 'Age_ID', kde=False)\n",
    "#young people has lower chance"
   ]
  },
  {
   "cell_type": "code",
   "execution_count": null,
   "metadata": {
    "collapsed": true
   },
   "outputs": [],
   "source": [
    "sns.countplot(tiData['Pclass'], hue=tiData['Survived'])\n",
    "#Pclass 3 has lower chance"
   ]
  },
  {
   "cell_type": "code",
   "execution_count": null,
   "metadata": {
    "collapsed": true
   },
   "outputs": [],
   "source": [
    "\n",
    "g = sns.FacetGrid(tiData, col='Survived')\n",
    "g.map(sns.distplot, 'Fare_ID', kde=False)\n",
    "#low price ticket has lower chance"
   ]
  },
  {
   "cell_type": "code",
   "execution_count": null,
   "metadata": {
    "collapsed": true
   },
   "outputs": [],
   "source": [
    "\n",
    "family_group = tiData['SibSp'] + tiData['Parch'] \n",
    "sns.countplot(family_group, hue=tiData['Survived'])\n",
    "#single person has lower chance"
   ]
  },
  {
   "cell_type": "code",
   "execution_count": null,
   "metadata": {
    "collapsed": true
   },
   "outputs": [],
   "source": [
    "\n",
    "sns.countplot(tiData['SibSp'], hue=tiData['Survived'])\n",
    "#single person has lower chance"
   ]
  },
  {
   "cell_type": "code",
   "execution_count": null,
   "metadata": {
    "collapsed": true
   },
   "outputs": [],
   "source": [
    "\n",
    "sns.countplot(tiData['Parch'], hue=tiData['Survived'])\n",
    "#single person has lower chance"
   ]
  },
  {
   "cell_type": "code",
   "execution_count": null,
   "metadata": {
    "collapsed": true
   },
   "outputs": [],
   "source": [
    "\n",
    "sns.countplot(tiData['Sex'], hue=tiData['Survived'])\n",
    "#female has higher chance"
   ]
  },
  {
   "cell_type": "code",
   "execution_count": null,
   "metadata": {
    "collapsed": true
   },
   "outputs": [],
   "source": [
    "\n",
    "sns.countplot(tiData['Embarked'], hue=tiData['Survived'])\n",
    "#embarked from S has lower chance"
   ]
  },
  {
   "cell_type": "code",
   "execution_count": null,
   "metadata": {
    "collapsed": true
   },
   "outputs": [],
   "source": [
    "\n",
    "tiData['Cabin'] = tiData['Cabin'].fillna('O')\n",
    "tiData.loc[tiData['Cabin'].str.contains('A'),'Cabin_ID'] = 'A'\n",
    "tiData.loc[tiData['Cabin'].str.contains('B'),'Cabin_ID'] = 'B'\n",
    "tiData.loc[tiData['Cabin'].str.contains('C'),'Cabin_ID'] = 'C'\n",
    "tiData.loc[tiData['Cabin'].str.contains('D'),'Cabin_ID'] = 'D'\n",
    "tiData.loc[tiData['Cabin'].str.contains('E'),'Cabin_ID'] = 'E'\n",
    "tiData.loc[tiData['Cabin'].str.contains('F'),'Cabin_ID'] = 'F'\n",
    "tiData.loc[tiData['Cabin'].str.contains('G'),'Cabin_ID'] = 'G'\n",
    "tiData.loc[tiData['Cabin'].str.contains('T'),'Cabin_ID'] = 'T'\n",
    "\n",
    "#print(tiData['Cabin'])\n",
    "sns.countplot(tiData['Cabin'], hue=tiData['Survived'])\n",
    "# cabin passenger has higher chance\n"
   ]
  },
  {
   "cell_type": "code",
   "execution_count": null,
   "metadata": {
    "collapsed": true
   },
   "outputs": [],
   "source": [
    "tiData['Embarked'] = tiData['Embarked'].fillna('S')\n",
    "tiData['EmbSex'] = tiData['Embarked'] + tiData['Sex']\n",
    "\n",
    "#print(tiData['EmbSex'])\n",
    "sns.countplot(tiData['EmbSex'], hue=tiData['Survived'])"
   ]
  },
  {
   "cell_type": "code",
   "execution_count": null,
   "metadata": {
    "collapsed": true
   },
   "outputs": [],
   "source": [
    "def convPclassStr(Pcs):\n",
    "    if Pcs == 1:\n",
    "        return '1st'\n",
    "    elif Pcs == 2:\n",
    "        return \"2nd\"\n",
    "    else:\n",
    "        return '3rd'\n",
    "    \n",
    "PclasStr = tiData['Pclass'].apply(convPclassStr)\n",
    "\n",
    "tiData['PclSex'] = PclasStr + tiData['Sex']\n",
    "tiData['1st_female'] = tiData['PclSex'].apply(lambda psex: 1 if '1stfemale' in psex else 0)\n",
    "tiData['2nd_female'] = tiData['PclSex'].apply(lambda psex: 1 if '2ndfemale' in psex else 0)\n",
    "tiData['3rd_female'] = tiData['PclSex'].apply(lambda psex: 1 if '3rdfemale' in psex else 0)\n",
    "#print tiData['3rd_female'].loc[:20]\n",
    "sns.countplot(tiData['1st_female'], hue=tiData['Survived'])"
   ]
  },
  {
   "cell_type": "code",
   "execution_count": null,
   "metadata": {},
   "outputs": [],
   "source": [
    "my_predict_file = \"c:\\\\titanic\\\\submission_rf_404.csv\"\n",
    "almost_perfect_file = \"c:\\\\titanic\\\\almost_perfect.csv\"\n",
    "\n",
    "# comma delimited is the default\n",
    "myPred = pd.read_csv(my_predict_file, header = 0)\n",
    "almostPref = pd.read_csv(almost_perfect_file, header = 0)\n",
    "\n",
    "myPredSurv = myPred['Survived']\n",
    "alpSurv = almostPref['Survived']\n",
    "\n",
    "idx = 0\n",
    "okay = 0\n",
    "for my_pred in myPredSurv:\n",
    "    if my_pred == alpSurv.iloc[idx]:\n",
    "        okay = okay +1\n",
    "    idx = idx + 1\n",
    "        \n",
    "print okay\n",
    "print idx"
   ]
  },
  {
   "cell_type": "code",
   "execution_count": null,
   "metadata": {
    "collapsed": true
   },
   "outputs": [],
   "source": []
  }
 ],
 "metadata": {
  "kernelspec": {
   "display_name": "Python 2",
   "language": "python",
   "name": "python2"
  },
  "language_info": {
   "codemirror_mode": {
    "name": "ipython",
    "version": 2
   },
   "file_extension": ".py",
   "mimetype": "text/x-python",
   "name": "python",
   "nbconvert_exporter": "python",
   "pygments_lexer": "ipython2",
   "version": "2.7.14"
  }
 },
 "nbformat": 4,
 "nbformat_minor": 2
}
