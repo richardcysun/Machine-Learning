{
 "cells": [
  {
   "cell_type": "code",
   "execution_count": 17,
   "metadata": {},
   "outputs": [
    {
     "name": "stdout",
     "output_type": "stream",
     "text": [
      "[1 2 3]\n",
      "[4 5 6]\n",
      "[5 7 9]\n",
      "[[5]\n",
      " [7]\n",
      " [9]]\n",
      "[5 7 9]\n",
      "155\n",
      "[[ 2  4  6]\n",
      " [ 8 10 12]]\n",
      "[[-1 15]\n",
      " [11 26]\n",
      " [-2 11]\n",
      " [ 0  0]]\n"
     ]
    }
   ],
   "source": [
    "import numpy as np\n",
    "\n",
    "# array operation\n",
    "ar1 = np.array([1, 2, 3])\n",
    "ar2 = np.array([4, 5, 6])\n",
    "\n",
    "print ar1\n",
    "print ar2\n",
    "\n",
    "ar3 = ar1 + ar2\n",
    "print ar3\n",
    "# ar3 is a (1 x 3) matrix\n",
    "\n",
    "ar4 = ar3.reshape([3, 1])\n",
    "\n",
    "print ar4\n",
    "\n",
    "t_ar3 = ar3.transpose()\n",
    "print t_ar3\n",
    "print np.dot(ar3, t_ar3)\n",
    "\n",
    "ar5 = np.array([[1,2,3],[4,5,6]])\n",
    "print ar5 + ar5\n",
    "\n",
    "ar6 = np.array([[1,-3,4], [2,10,-7], [0,1,0], [0,0,0]])\n",
    "ar7 = np.array([[5,0], [-2,11], [-3,12]])\n",
    "\n",
    "print np.dot(ar6, ar7)"
   ]
  },
  {
   "cell_type": "code",
   "execution_count": 24,
   "metadata": {},
   "outputs": [
    {
     "name": "stdout",
     "output_type": "stream",
     "text": [
      "[[5 5]\n",
      " [5 5]]\n",
      "[[ 0  1]\n",
      " [ 2 -3]\n",
      " [-4 10]]\n",
      "[[-8 25]\n",
      " [ 0  7]]\n"
     ]
    }
   ],
   "source": [
    "mt_W = np.array([[1,2,3], [3,2,1]])\n",
    "mt_X = np.array([[1,0], [2,-1], [0,2]])\n",
    "mt_Y = np.array([[0,1], [-2,5]])\n",
    "\n",
    "print np.dot(mt_W, mt_X) + mt_Y\n",
    "print np.dot(mt_X, mt_Y)\n",
    "print np.dot(np.dot(mt_W, mt_X), mt_Y)"
   ]
  },
  {
   "cell_type": "code",
   "execution_count": 34,
   "metadata": {},
   "outputs": [
    {
     "name": "stdout",
     "output_type": "stream",
     "text": [
      "[[ 5 -8]\n",
      " [ 2  1]]\n",
      "[[-2  3 -7]\n",
      " [ 3  4 -7]\n",
      " [ 1  6  1]]\n",
      "[[ 5 -8]\n",
      " [ 0 -5]]\n"
     ]
    }
   ],
   "source": [
    "mt_W = np.array([[1,-3],[2,-2],[3,1]])\n",
    "mt_X = np.array([[3,2,1],[-1,2,3],[2,-1,1]])\n",
    "mt_Y = np.array([[1,2,0],[0,-1,2]])\n",
    "mt_Z = np.array([[0,1],[2,3]])\n",
    "\n",
    "print np.dot(mt_Y, mt_W) - mt_Z\n",
    "print np.dot(mt_W, mt_Y) - mt_X\n",
    "print np.dot(mt_Y, mt_W) - np.square(mt_Z)"
   ]
  },
  {
   "cell_type": "code",
   "execution_count": null,
   "metadata": {
    "collapsed": true
   },
   "outputs": [],
   "source": []
  }
 ],
 "metadata": {
  "kernelspec": {
   "display_name": "Python 2",
   "language": "python",
   "name": "python2"
  },
  "language_info": {
   "codemirror_mode": {
    "name": "ipython",
    "version": 2
   },
   "file_extension": ".py",
   "mimetype": "text/x-python",
   "name": "python",
   "nbconvert_exporter": "python",
   "pygments_lexer": "ipython2",
   "version": "2.7.14"
  }
 },
 "nbformat": 4,
 "nbformat_minor": 2
}
