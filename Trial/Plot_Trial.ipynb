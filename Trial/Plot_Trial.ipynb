{
 "cells": [
  {
   "cell_type": "code",
   "execution_count": 60,
   "metadata": {},
   "outputs": [
    {
     "data": {
      "image/png": "[encoded data removed]",
      "text/plain": [
       "<matplotlib.figure.Figure at 0x9b5b400>"
      ]
     },
     "metadata": {},
     "output_type": "display_data"
    }
   ],
   "source": [
    "import matplotlib.pyplot as plt\n",
    "import numpy as np\n",
    "\n",
    "x = np.linspace(0, 5, 50)\n",
    "#y1 = 2*x + 5\n",
    "y2 = x**3 - 4*(x**2) + 2*x + 2\n",
    "\n",
    "plt.figure()\n",
    "plt.plot(x, y2)\n",
    "#plt.plot(x, y2, color='blue', linewidth=2.0, linestyle=':')\n",
    "#plt.plot(x, y1, color='red', linewidth=1.0, linestyle='--')\n",
    "\n",
    "plt.xlim((-4, 4))\n",
    "plt.ylim((-4, 4))\n",
    "#plt.xlabel('axis-X')\n",
    "#plt.ylabel('axis-Y')\n",
    "#plt.yticks([-1, 0, 1, 2],[r'$too\\ bad$', r'$Doom(0)$', r'$Survived(1)$', r'$too\\ good$'])\n",
    "\n",
    "ax = plt.gca()\n",
    "ax.spines['right'].set_color('none')\n",
    "ax.spines['top'].set_color('none')\n",
    "ax.xaxis.set_ticks_position('bottom')\n",
    "ax.spines['bottom'].set_position(('data', 0))\n",
    "ax.spines['left'].set_position(('data',0))\n",
    "\n",
    "plt.plot([0.4,1.1,1.8,2.1], [1,2,-2,0], 'ro')\n",
    "\n",
    "plt.show()"
   ]
  },
  {
   "cell_type": "code",
   "execution_count": null,
   "metadata": {
    "collapsed": true
   },
   "outputs": [],
   "source": []
  }
 ],
 "metadata": {
  "kernelspec": {
   "display_name": "Python 2",
   "language": "python",
   "name": "python2"
  },
  "language_info": {
   "codemirror_mode": {
    "name": "ipython",
    "version": 2
   },
   "file_extension": ".py",
   "mimetype": "text/x-python",
   "name": "python",
   "nbconvert_exporter": "python",
   "pygments_lexer": "ipython2",
   "version": "2.7.14"
  }
 },
 "nbformat": 4,
 "nbformat_minor": 2
}
